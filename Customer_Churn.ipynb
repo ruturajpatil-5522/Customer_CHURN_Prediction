{
 "cells": [
  {
   "cell_type": "markdown",
   "id": "6d0d4b4a-e3cd-4ed2-a92d-bbb04cb11377",
   "metadata": {},
   "source": [
    "## Customer Churn Prediction"
   ]
  },
  {
   "cell_type": "markdown",
   "id": "2e768508-38b5-4b02-a068-59406fea46b7",
   "metadata": {},
   "source": [
    "## Initial Data Preparation"
   ]
  },
  {
   "cell_type": "code",
   "execution_count": 134,
   "id": "56a67a67-b890-4b1f-bdfa-fc06cfa6f4be",
   "metadata": {},
   "outputs": [],
   "source": [
    "import pandas as pd\n",
    "import numpy as np\n",
    "\n",
    "import seaborn as sns\n",
    "from matplotlib import pyplot as plt"
   ]
  },
  {
   "cell_type": "code",
   "execution_count": 135,
   "id": "65773a42-04a0-4799-9d76-7367b8321176",
   "metadata": {},
   "outputs": [
    {
     "data": {
      "text/html": [
       "<div>\n",
       "<style scoped>\n",
       "    .dataframe tbody tr th:only-of-type {\n",
       "        vertical-align: middle;\n",
       "    }\n",
       "\n",
       "    .dataframe tbody tr th {\n",
       "        vertical-align: top;\n",
       "    }\n",
       "\n",
       "    .dataframe thead th {\n",
       "        text-align: right;\n",
       "    }\n",
       "</style>\n",
       "<table border=\"1\" class=\"dataframe\">\n",
       "  <thead>\n",
       "    <tr style=\"text-align: right;\">\n",
       "      <th></th>\n",
       "      <th>0</th>\n",
       "      <th>1</th>\n",
       "      <th>2</th>\n",
       "      <th>3</th>\n",
       "      <th>4</th>\n",
       "    </tr>\n",
       "  </thead>\n",
       "  <tbody>\n",
       "    <tr>\n",
       "      <th>customerID</th>\n",
       "      <td>7590-VHVEG</td>\n",
       "      <td>5575-GNVDE</td>\n",
       "      <td>3668-QPYBK</td>\n",
       "      <td>7795-CFOCW</td>\n",
       "      <td>9237-HQITU</td>\n",
       "    </tr>\n",
       "    <tr>\n",
       "      <th>gender</th>\n",
       "      <td>Female</td>\n",
       "      <td>Male</td>\n",
       "      <td>Male</td>\n",
       "      <td>Male</td>\n",
       "      <td>Female</td>\n",
       "    </tr>\n",
       "    <tr>\n",
       "      <th>SeniorCitizen</th>\n",
       "      <td>0</td>\n",
       "      <td>0</td>\n",
       "      <td>0</td>\n",
       "      <td>0</td>\n",
       "      <td>0</td>\n",
       "    </tr>\n",
       "    <tr>\n",
       "      <th>Partner</th>\n",
       "      <td>Yes</td>\n",
       "      <td>No</td>\n",
       "      <td>No</td>\n",
       "      <td>No</td>\n",
       "      <td>No</td>\n",
       "    </tr>\n",
       "    <tr>\n",
       "      <th>Dependents</th>\n",
       "      <td>No</td>\n",
       "      <td>No</td>\n",
       "      <td>No</td>\n",
       "      <td>No</td>\n",
       "      <td>No</td>\n",
       "    </tr>\n",
       "    <tr>\n",
       "      <th>tenure</th>\n",
       "      <td>1</td>\n",
       "      <td>34</td>\n",
       "      <td>2</td>\n",
       "      <td>45</td>\n",
       "      <td>2</td>\n",
       "    </tr>\n",
       "    <tr>\n",
       "      <th>PhoneService</th>\n",
       "      <td>No</td>\n",
       "      <td>Yes</td>\n",
       "      <td>Yes</td>\n",
       "      <td>No</td>\n",
       "      <td>Yes</td>\n",
       "    </tr>\n",
       "    <tr>\n",
       "      <th>MultipleLines</th>\n",
       "      <td>No phone service</td>\n",
       "      <td>No</td>\n",
       "      <td>No</td>\n",
       "      <td>No phone service</td>\n",
       "      <td>No</td>\n",
       "    </tr>\n",
       "    <tr>\n",
       "      <th>InternetService</th>\n",
       "      <td>DSL</td>\n",
       "      <td>DSL</td>\n",
       "      <td>DSL</td>\n",
       "      <td>DSL</td>\n",
       "      <td>Fiber optic</td>\n",
       "    </tr>\n",
       "    <tr>\n",
       "      <th>OnlineSecurity</th>\n",
       "      <td>No</td>\n",
       "      <td>Yes</td>\n",
       "      <td>Yes</td>\n",
       "      <td>Yes</td>\n",
       "      <td>No</td>\n",
       "    </tr>\n",
       "    <tr>\n",
       "      <th>OnlineBackup</th>\n",
       "      <td>Yes</td>\n",
       "      <td>No</td>\n",
       "      <td>Yes</td>\n",
       "      <td>No</td>\n",
       "      <td>No</td>\n",
       "    </tr>\n",
       "    <tr>\n",
       "      <th>DeviceProtection</th>\n",
       "      <td>No</td>\n",
       "      <td>Yes</td>\n",
       "      <td>No</td>\n",
       "      <td>Yes</td>\n",
       "      <td>No</td>\n",
       "    </tr>\n",
       "    <tr>\n",
       "      <th>TechSupport</th>\n",
       "      <td>No</td>\n",
       "      <td>No</td>\n",
       "      <td>No</td>\n",
       "      <td>Yes</td>\n",
       "      <td>No</td>\n",
       "    </tr>\n",
       "    <tr>\n",
       "      <th>StreamingTV</th>\n",
       "      <td>No</td>\n",
       "      <td>No</td>\n",
       "      <td>No</td>\n",
       "      <td>No</td>\n",
       "      <td>No</td>\n",
       "    </tr>\n",
       "    <tr>\n",
       "      <th>StreamingMovies</th>\n",
       "      <td>No</td>\n",
       "      <td>No</td>\n",
       "      <td>No</td>\n",
       "      <td>No</td>\n",
       "      <td>No</td>\n",
       "    </tr>\n",
       "    <tr>\n",
       "      <th>Contract</th>\n",
       "      <td>Month-to-month</td>\n",
       "      <td>One year</td>\n",
       "      <td>Month-to-month</td>\n",
       "      <td>One year</td>\n",
       "      <td>Month-to-month</td>\n",
       "    </tr>\n",
       "    <tr>\n",
       "      <th>PaperlessBilling</th>\n",
       "      <td>Yes</td>\n",
       "      <td>No</td>\n",
       "      <td>Yes</td>\n",
       "      <td>No</td>\n",
       "      <td>Yes</td>\n",
       "    </tr>\n",
       "    <tr>\n",
       "      <th>PaymentMethod</th>\n",
       "      <td>Electronic check</td>\n",
       "      <td>Mailed check</td>\n",
       "      <td>Mailed check</td>\n",
       "      <td>Bank transfer (automatic)</td>\n",
       "      <td>Electronic check</td>\n",
       "    </tr>\n",
       "    <tr>\n",
       "      <th>MonthlyCharges</th>\n",
       "      <td>29.85</td>\n",
       "      <td>56.95</td>\n",
       "      <td>53.85</td>\n",
       "      <td>42.3</td>\n",
       "      <td>70.7</td>\n",
       "    </tr>\n",
       "    <tr>\n",
       "      <th>TotalCharges</th>\n",
       "      <td>29.85</td>\n",
       "      <td>1889.5</td>\n",
       "      <td>108.15</td>\n",
       "      <td>1840.75</td>\n",
       "      <td>151.65</td>\n",
       "    </tr>\n",
       "    <tr>\n",
       "      <th>Churn</th>\n",
       "      <td>No</td>\n",
       "      <td>No</td>\n",
       "      <td>Yes</td>\n",
       "      <td>No</td>\n",
       "      <td>Yes</td>\n",
       "    </tr>\n",
       "  </tbody>\n",
       "</table>\n",
       "</div>"
      ],
      "text/plain": [
       "                                 0             1               2  \\\n",
       "customerID              7590-VHVEG    5575-GNVDE      3668-QPYBK   \n",
       "gender                      Female          Male            Male   \n",
       "SeniorCitizen                    0             0               0   \n",
       "Partner                        Yes            No              No   \n",
       "Dependents                      No            No              No   \n",
       "tenure                           1            34               2   \n",
       "PhoneService                    No           Yes             Yes   \n",
       "MultipleLines     No phone service            No              No   \n",
       "InternetService                DSL           DSL             DSL   \n",
       "OnlineSecurity                  No           Yes             Yes   \n",
       "OnlineBackup                   Yes            No             Yes   \n",
       "DeviceProtection                No           Yes              No   \n",
       "TechSupport                     No            No              No   \n",
       "StreamingTV                     No            No              No   \n",
       "StreamingMovies                 No            No              No   \n",
       "Contract            Month-to-month      One year  Month-to-month   \n",
       "PaperlessBilling               Yes            No             Yes   \n",
       "PaymentMethod     Electronic check  Mailed check    Mailed check   \n",
       "MonthlyCharges               29.85         56.95           53.85   \n",
       "TotalCharges                 29.85        1889.5          108.15   \n",
       "Churn                           No            No             Yes   \n",
       "\n",
       "                                          3                 4  \n",
       "customerID                       7795-CFOCW        9237-HQITU  \n",
       "gender                                 Male            Female  \n",
       "SeniorCitizen                             0                 0  \n",
       "Partner                                  No                No  \n",
       "Dependents                               No                No  \n",
       "tenure                                   45                 2  \n",
       "PhoneService                             No               Yes  \n",
       "MultipleLines              No phone service                No  \n",
       "InternetService                         DSL       Fiber optic  \n",
       "OnlineSecurity                          Yes                No  \n",
       "OnlineBackup                             No                No  \n",
       "DeviceProtection                        Yes                No  \n",
       "TechSupport                             Yes                No  \n",
       "StreamingTV                              No                No  \n",
       "StreamingMovies                          No                No  \n",
       "Contract                           One year    Month-to-month  \n",
       "PaperlessBilling                         No               Yes  \n",
       "PaymentMethod     Bank transfer (automatic)  Electronic check  \n",
       "MonthlyCharges                         42.3              70.7  \n",
       "TotalCharges                        1840.75            151.65  \n",
       "Churn                                    No               Yes  "
      ]
     },
     "execution_count": 135,
     "metadata": {},
     "output_type": "execute_result"
    }
   ],
   "source": [
    "df = pd.read_csv(\"E:\\ML_PROJECTSS\\Cutomer_Churn_New\\Customer_churn_dataset.csv\")\n",
    "df.head().T"
   ]
  },
  {
   "cell_type": "code",
   "execution_count": 136,
   "id": "4f0d337e-329e-439f-b8f7-dadfba8c590a",
   "metadata": {},
   "outputs": [
    {
     "name": "stdout",
     "output_type": "stream",
     "text": [
      "<class 'pandas.core.frame.DataFrame'>\n",
      "RangeIndex: 7043 entries, 0 to 7042\n",
      "Data columns (total 21 columns):\n",
      " #   Column            Non-Null Count  Dtype  \n",
      "---  ------            --------------  -----  \n",
      " 0   customerID        7043 non-null   object \n",
      " 1   gender            7043 non-null   object \n",
      " 2   SeniorCitizen     7043 non-null   int64  \n",
      " 3   Partner           7043 non-null   object \n",
      " 4   Dependents        7043 non-null   object \n",
      " 5   tenure            7043 non-null   int64  \n",
      " 6   PhoneService      7043 non-null   object \n",
      " 7   MultipleLines     7043 non-null   object \n",
      " 8   InternetService   7043 non-null   object \n",
      " 9   OnlineSecurity    7043 non-null   object \n",
      " 10  OnlineBackup      7043 non-null   object \n",
      " 11  DeviceProtection  7043 non-null   object \n",
      " 12  TechSupport       7043 non-null   object \n",
      " 13  StreamingTV       7043 non-null   object \n",
      " 14  StreamingMovies   7043 non-null   object \n",
      " 15  Contract          7043 non-null   object \n",
      " 16  PaperlessBilling  7043 non-null   object \n",
      " 17  PaymentMethod     7043 non-null   object \n",
      " 18  MonthlyCharges    7043 non-null   float64\n",
      " 19  TotalCharges      7043 non-null   object \n",
      " 20  Churn             7043 non-null   object \n",
      "dtypes: float64(1), int64(2), object(18)\n",
      "memory usage: 1.1+ MB\n"
     ]
    }
   ],
   "source": [
    "df.info()"
   ]
  },
  {
   "cell_type": "code",
   "execution_count": 137,
   "id": "a60f9dbc-4f4e-4df1-bcb1-9119478e91e0",
   "metadata": {},
   "outputs": [
    {
     "data": {
      "text/html": [
       "<div>\n",
       "<style scoped>\n",
       "    .dataframe tbody tr th:only-of-type {\n",
       "        vertical-align: middle;\n",
       "    }\n",
       "\n",
       "    .dataframe tbody tr th {\n",
       "        vertical-align: top;\n",
       "    }\n",
       "\n",
       "    .dataframe thead th {\n",
       "        text-align: right;\n",
       "    }\n",
       "</style>\n",
       "<table border=\"1\" class=\"dataframe\">\n",
       "  <thead>\n",
       "    <tr style=\"text-align: right;\">\n",
       "      <th></th>\n",
       "      <th>SeniorCitizen</th>\n",
       "      <th>tenure</th>\n",
       "      <th>MonthlyCharges</th>\n",
       "    </tr>\n",
       "  </thead>\n",
       "  <tbody>\n",
       "    <tr>\n",
       "      <th>count</th>\n",
       "      <td>7043.000000</td>\n",
       "      <td>7043.000000</td>\n",
       "      <td>7043.000000</td>\n",
       "    </tr>\n",
       "    <tr>\n",
       "      <th>mean</th>\n",
       "      <td>0.162147</td>\n",
       "      <td>32.371149</td>\n",
       "      <td>64.761692</td>\n",
       "    </tr>\n",
       "    <tr>\n",
       "      <th>std</th>\n",
       "      <td>0.368612</td>\n",
       "      <td>24.559481</td>\n",
       "      <td>30.090047</td>\n",
       "    </tr>\n",
       "    <tr>\n",
       "      <th>min</th>\n",
       "      <td>0.000000</td>\n",
       "      <td>0.000000</td>\n",
       "      <td>18.250000</td>\n",
       "    </tr>\n",
       "    <tr>\n",
       "      <th>25%</th>\n",
       "      <td>0.000000</td>\n",
       "      <td>9.000000</td>\n",
       "      <td>35.500000</td>\n",
       "    </tr>\n",
       "    <tr>\n",
       "      <th>50%</th>\n",
       "      <td>0.000000</td>\n",
       "      <td>29.000000</td>\n",
       "      <td>70.350000</td>\n",
       "    </tr>\n",
       "    <tr>\n",
       "      <th>75%</th>\n",
       "      <td>0.000000</td>\n",
       "      <td>55.000000</td>\n",
       "      <td>89.850000</td>\n",
       "    </tr>\n",
       "    <tr>\n",
       "      <th>max</th>\n",
       "      <td>1.000000</td>\n",
       "      <td>72.000000</td>\n",
       "      <td>118.750000</td>\n",
       "    </tr>\n",
       "  </tbody>\n",
       "</table>\n",
       "</div>"
      ],
      "text/plain": [
       "       SeniorCitizen       tenure  MonthlyCharges\n",
       "count    7043.000000  7043.000000     7043.000000\n",
       "mean        0.162147    32.371149       64.761692\n",
       "std         0.368612    24.559481       30.090047\n",
       "min         0.000000     0.000000       18.250000\n",
       "25%         0.000000     9.000000       35.500000\n",
       "50%         0.000000    29.000000       70.350000\n",
       "75%         0.000000    55.000000       89.850000\n",
       "max         1.000000    72.000000      118.750000"
      ]
     },
     "execution_count": 137,
     "metadata": {},
     "output_type": "execute_result"
    }
   ],
   "source": [
    "df.describe()"
   ]
  },
  {
   "cell_type": "code",
   "execution_count": 138,
   "id": "7cc8fdf6-4d34-475b-acf8-e4fada4734e6",
   "metadata": {},
   "outputs": [
    {
     "data": {
      "text/html": [
       "<div>\n",
       "<style scoped>\n",
       "    .dataframe tbody tr th:only-of-type {\n",
       "        vertical-align: middle;\n",
       "    }\n",
       "\n",
       "    .dataframe tbody tr th {\n",
       "        vertical-align: top;\n",
       "    }\n",
       "\n",
       "    .dataframe thead th {\n",
       "        text-align: right;\n",
       "    }\n",
       "</style>\n",
       "<table border=\"1\" class=\"dataframe\">\n",
       "  <thead>\n",
       "    <tr style=\"text-align: right;\">\n",
       "      <th></th>\n",
       "      <th>count</th>\n",
       "      <th>unique</th>\n",
       "      <th>top</th>\n",
       "      <th>freq</th>\n",
       "    </tr>\n",
       "  </thead>\n",
       "  <tbody>\n",
       "    <tr>\n",
       "      <th>customerID</th>\n",
       "      <td>7043</td>\n",
       "      <td>7043</td>\n",
       "      <td>7590-VHVEG</td>\n",
       "      <td>1</td>\n",
       "    </tr>\n",
       "    <tr>\n",
       "      <th>gender</th>\n",
       "      <td>7043</td>\n",
       "      <td>2</td>\n",
       "      <td>Male</td>\n",
       "      <td>3555</td>\n",
       "    </tr>\n",
       "    <tr>\n",
       "      <th>Partner</th>\n",
       "      <td>7043</td>\n",
       "      <td>2</td>\n",
       "      <td>No</td>\n",
       "      <td>3641</td>\n",
       "    </tr>\n",
       "    <tr>\n",
       "      <th>Dependents</th>\n",
       "      <td>7043</td>\n",
       "      <td>2</td>\n",
       "      <td>No</td>\n",
       "      <td>4933</td>\n",
       "    </tr>\n",
       "    <tr>\n",
       "      <th>PhoneService</th>\n",
       "      <td>7043</td>\n",
       "      <td>2</td>\n",
       "      <td>Yes</td>\n",
       "      <td>6361</td>\n",
       "    </tr>\n",
       "    <tr>\n",
       "      <th>MultipleLines</th>\n",
       "      <td>7043</td>\n",
       "      <td>3</td>\n",
       "      <td>No</td>\n",
       "      <td>3390</td>\n",
       "    </tr>\n",
       "    <tr>\n",
       "      <th>InternetService</th>\n",
       "      <td>7043</td>\n",
       "      <td>3</td>\n",
       "      <td>Fiber optic</td>\n",
       "      <td>3096</td>\n",
       "    </tr>\n",
       "    <tr>\n",
       "      <th>OnlineSecurity</th>\n",
       "      <td>7043</td>\n",
       "      <td>3</td>\n",
       "      <td>No</td>\n",
       "      <td>3498</td>\n",
       "    </tr>\n",
       "    <tr>\n",
       "      <th>OnlineBackup</th>\n",
       "      <td>7043</td>\n",
       "      <td>3</td>\n",
       "      <td>No</td>\n",
       "      <td>3088</td>\n",
       "    </tr>\n",
       "    <tr>\n",
       "      <th>DeviceProtection</th>\n",
       "      <td>7043</td>\n",
       "      <td>3</td>\n",
       "      <td>No</td>\n",
       "      <td>3095</td>\n",
       "    </tr>\n",
       "    <tr>\n",
       "      <th>TechSupport</th>\n",
       "      <td>7043</td>\n",
       "      <td>3</td>\n",
       "      <td>No</td>\n",
       "      <td>3473</td>\n",
       "    </tr>\n",
       "    <tr>\n",
       "      <th>StreamingTV</th>\n",
       "      <td>7043</td>\n",
       "      <td>3</td>\n",
       "      <td>No</td>\n",
       "      <td>2810</td>\n",
       "    </tr>\n",
       "    <tr>\n",
       "      <th>StreamingMovies</th>\n",
       "      <td>7043</td>\n",
       "      <td>3</td>\n",
       "      <td>No</td>\n",
       "      <td>2785</td>\n",
       "    </tr>\n",
       "    <tr>\n",
       "      <th>Contract</th>\n",
       "      <td>7043</td>\n",
       "      <td>3</td>\n",
       "      <td>Month-to-month</td>\n",
       "      <td>3875</td>\n",
       "    </tr>\n",
       "    <tr>\n",
       "      <th>PaperlessBilling</th>\n",
       "      <td>7043</td>\n",
       "      <td>2</td>\n",
       "      <td>Yes</td>\n",
       "      <td>4171</td>\n",
       "    </tr>\n",
       "    <tr>\n",
       "      <th>PaymentMethod</th>\n",
       "      <td>7043</td>\n",
       "      <td>4</td>\n",
       "      <td>Electronic check</td>\n",
       "      <td>2365</td>\n",
       "    </tr>\n",
       "    <tr>\n",
       "      <th>TotalCharges</th>\n",
       "      <td>7043</td>\n",
       "      <td>6531</td>\n",
       "      <td></td>\n",
       "      <td>11</td>\n",
       "    </tr>\n",
       "    <tr>\n",
       "      <th>Churn</th>\n",
       "      <td>7043</td>\n",
       "      <td>2</td>\n",
       "      <td>No</td>\n",
       "      <td>5174</td>\n",
       "    </tr>\n",
       "  </tbody>\n",
       "</table>\n",
       "</div>"
      ],
      "text/plain": [
       "                 count unique               top  freq\n",
       "customerID        7043   7043        7590-VHVEG     1\n",
       "gender            7043      2              Male  3555\n",
       "Partner           7043      2                No  3641\n",
       "Dependents        7043      2                No  4933\n",
       "PhoneService      7043      2               Yes  6361\n",
       "MultipleLines     7043      3                No  3390\n",
       "InternetService   7043      3       Fiber optic  3096\n",
       "OnlineSecurity    7043      3                No  3498\n",
       "OnlineBackup      7043      3                No  3088\n",
       "DeviceProtection  7043      3                No  3095\n",
       "TechSupport       7043      3                No  3473\n",
       "StreamingTV       7043      3                No  2810\n",
       "StreamingMovies   7043      3                No  2785\n",
       "Contract          7043      3    Month-to-month  3875\n",
       "PaperlessBilling  7043      2               Yes  4171\n",
       "PaymentMethod     7043      4  Electronic check  2365\n",
       "TotalCharges      7043   6531                      11\n",
       "Churn             7043      2                No  5174"
      ]
     },
     "execution_count": 138,
     "metadata": {},
     "output_type": "execute_result"
    }
   ],
   "source": [
    "df.describe(include='O').T"
   ]
  },
  {
   "cell_type": "code",
   "execution_count": 139,
   "id": "5aa1043a-29a4-418c-830e-979f766a90de",
   "metadata": {},
   "outputs": [
    {
     "data": {
      "text/html": [
       "<div>\n",
       "<style scoped>\n",
       "    .dataframe tbody tr th:only-of-type {\n",
       "        vertical-align: middle;\n",
       "    }\n",
       "\n",
       "    .dataframe tbody tr th {\n",
       "        vertical-align: top;\n",
       "    }\n",
       "\n",
       "    .dataframe thead th {\n",
       "        text-align: right;\n",
       "    }\n",
       "</style>\n",
       "<table border=\"1\" class=\"dataframe\">\n",
       "  <thead>\n",
       "    <tr style=\"text-align: right;\">\n",
       "      <th></th>\n",
       "      <th>0</th>\n",
       "      <th>1</th>\n",
       "      <th>2</th>\n",
       "      <th>3</th>\n",
       "      <th>4</th>\n",
       "    </tr>\n",
       "  </thead>\n",
       "  <tbody>\n",
       "    <tr>\n",
       "      <th>gender</th>\n",
       "      <td>Female</td>\n",
       "      <td>Male</td>\n",
       "      <td>Male</td>\n",
       "      <td>Male</td>\n",
       "      <td>Female</td>\n",
       "    </tr>\n",
       "    <tr>\n",
       "      <th>SeniorCitizen</th>\n",
       "      <td>0</td>\n",
       "      <td>0</td>\n",
       "      <td>0</td>\n",
       "      <td>0</td>\n",
       "      <td>0</td>\n",
       "    </tr>\n",
       "    <tr>\n",
       "      <th>Partner</th>\n",
       "      <td>Yes</td>\n",
       "      <td>No</td>\n",
       "      <td>No</td>\n",
       "      <td>No</td>\n",
       "      <td>No</td>\n",
       "    </tr>\n",
       "    <tr>\n",
       "      <th>Dependents</th>\n",
       "      <td>No</td>\n",
       "      <td>No</td>\n",
       "      <td>No</td>\n",
       "      <td>No</td>\n",
       "      <td>No</td>\n",
       "    </tr>\n",
       "    <tr>\n",
       "      <th>tenure</th>\n",
       "      <td>1</td>\n",
       "      <td>34</td>\n",
       "      <td>2</td>\n",
       "      <td>45</td>\n",
       "      <td>2</td>\n",
       "    </tr>\n",
       "    <tr>\n",
       "      <th>PhoneService</th>\n",
       "      <td>No</td>\n",
       "      <td>Yes</td>\n",
       "      <td>Yes</td>\n",
       "      <td>No</td>\n",
       "      <td>Yes</td>\n",
       "    </tr>\n",
       "    <tr>\n",
       "      <th>MultipleLines</th>\n",
       "      <td>No phone service</td>\n",
       "      <td>No</td>\n",
       "      <td>No</td>\n",
       "      <td>No phone service</td>\n",
       "      <td>No</td>\n",
       "    </tr>\n",
       "    <tr>\n",
       "      <th>InternetService</th>\n",
       "      <td>DSL</td>\n",
       "      <td>DSL</td>\n",
       "      <td>DSL</td>\n",
       "      <td>DSL</td>\n",
       "      <td>Fiber optic</td>\n",
       "    </tr>\n",
       "    <tr>\n",
       "      <th>OnlineSecurity</th>\n",
       "      <td>No</td>\n",
       "      <td>Yes</td>\n",
       "      <td>Yes</td>\n",
       "      <td>Yes</td>\n",
       "      <td>No</td>\n",
       "    </tr>\n",
       "    <tr>\n",
       "      <th>OnlineBackup</th>\n",
       "      <td>Yes</td>\n",
       "      <td>No</td>\n",
       "      <td>Yes</td>\n",
       "      <td>No</td>\n",
       "      <td>No</td>\n",
       "    </tr>\n",
       "    <tr>\n",
       "      <th>DeviceProtection</th>\n",
       "      <td>No</td>\n",
       "      <td>Yes</td>\n",
       "      <td>No</td>\n",
       "      <td>Yes</td>\n",
       "      <td>No</td>\n",
       "    </tr>\n",
       "    <tr>\n",
       "      <th>TechSupport</th>\n",
       "      <td>No</td>\n",
       "      <td>No</td>\n",
       "      <td>No</td>\n",
       "      <td>Yes</td>\n",
       "      <td>No</td>\n",
       "    </tr>\n",
       "    <tr>\n",
       "      <th>StreamingTV</th>\n",
       "      <td>No</td>\n",
       "      <td>No</td>\n",
       "      <td>No</td>\n",
       "      <td>No</td>\n",
       "      <td>No</td>\n",
       "    </tr>\n",
       "    <tr>\n",
       "      <th>StreamingMovies</th>\n",
       "      <td>No</td>\n",
       "      <td>No</td>\n",
       "      <td>No</td>\n",
       "      <td>No</td>\n",
       "      <td>No</td>\n",
       "    </tr>\n",
       "    <tr>\n",
       "      <th>Contract</th>\n",
       "      <td>Month-to-month</td>\n",
       "      <td>One year</td>\n",
       "      <td>Month-to-month</td>\n",
       "      <td>One year</td>\n",
       "      <td>Month-to-month</td>\n",
       "    </tr>\n",
       "    <tr>\n",
       "      <th>PaperlessBilling</th>\n",
       "      <td>Yes</td>\n",
       "      <td>No</td>\n",
       "      <td>Yes</td>\n",
       "      <td>No</td>\n",
       "      <td>Yes</td>\n",
       "    </tr>\n",
       "    <tr>\n",
       "      <th>PaymentMethod</th>\n",
       "      <td>Electronic check</td>\n",
       "      <td>Mailed check</td>\n",
       "      <td>Mailed check</td>\n",
       "      <td>Bank transfer (automatic)</td>\n",
       "      <td>Electronic check</td>\n",
       "    </tr>\n",
       "    <tr>\n",
       "      <th>MonthlyCharges</th>\n",
       "      <td>29.85</td>\n",
       "      <td>56.95</td>\n",
       "      <td>53.85</td>\n",
       "      <td>42.3</td>\n",
       "      <td>70.7</td>\n",
       "    </tr>\n",
       "    <tr>\n",
       "      <th>TotalCharges</th>\n",
       "      <td>29.85</td>\n",
       "      <td>1889.5</td>\n",
       "      <td>108.15</td>\n",
       "      <td>1840.75</td>\n",
       "      <td>151.65</td>\n",
       "    </tr>\n",
       "    <tr>\n",
       "      <th>Churn</th>\n",
       "      <td>No</td>\n",
       "      <td>No</td>\n",
       "      <td>Yes</td>\n",
       "      <td>No</td>\n",
       "      <td>Yes</td>\n",
       "    </tr>\n",
       "  </tbody>\n",
       "</table>\n",
       "</div>"
      ],
      "text/plain": [
       "                                 0             1               2  \\\n",
       "gender                      Female          Male            Male   \n",
       "SeniorCitizen                    0             0               0   \n",
       "Partner                        Yes            No              No   \n",
       "Dependents                      No            No              No   \n",
       "tenure                           1            34               2   \n",
       "PhoneService                    No           Yes             Yes   \n",
       "MultipleLines     No phone service            No              No   \n",
       "InternetService                DSL           DSL             DSL   \n",
       "OnlineSecurity                  No           Yes             Yes   \n",
       "OnlineBackup                   Yes            No             Yes   \n",
       "DeviceProtection                No           Yes              No   \n",
       "TechSupport                     No            No              No   \n",
       "StreamingTV                     No            No              No   \n",
       "StreamingMovies                 No            No              No   \n",
       "Contract            Month-to-month      One year  Month-to-month   \n",
       "PaperlessBilling               Yes            No             Yes   \n",
       "PaymentMethod     Electronic check  Mailed check    Mailed check   \n",
       "MonthlyCharges               29.85         56.95           53.85   \n",
       "TotalCharges                 29.85        1889.5          108.15   \n",
       "Churn                           No            No             Yes   \n",
       "\n",
       "                                          3                 4  \n",
       "gender                                 Male            Female  \n",
       "SeniorCitizen                             0                 0  \n",
       "Partner                                  No                No  \n",
       "Dependents                               No                No  \n",
       "tenure                                   45                 2  \n",
       "PhoneService                             No               Yes  \n",
       "MultipleLines              No phone service                No  \n",
       "InternetService                         DSL       Fiber optic  \n",
       "OnlineSecurity                          Yes                No  \n",
       "OnlineBackup                             No                No  \n",
       "DeviceProtection                        Yes                No  \n",
       "TechSupport                             Yes                No  \n",
       "StreamingTV                              No                No  \n",
       "StreamingMovies                          No                No  \n",
       "Contract                           One year    Month-to-month  \n",
       "PaperlessBilling                         No               Yes  \n",
       "PaymentMethod     Bank transfer (automatic)  Electronic check  \n",
       "MonthlyCharges                         42.3              70.7  \n",
       "TotalCharges                        1840.75            151.65  \n",
       "Churn                                    No               Yes  "
      ]
     },
     "execution_count": 139,
     "metadata": {},
     "output_type": "execute_result"
    }
   ],
   "source": [
    "df.drop('customerID', axis=1, inplace=True)\n",
    "df.head().T"
   ]
  },
  {
   "cell_type": "code",
   "execution_count": 140,
   "id": "7e7d96eb-8f96-4d75-990e-0cdcead590ea",
   "metadata": {},
   "outputs": [
    {
     "data": {
      "text/plain": [
       "count     7043\n",
       "unique    6531\n",
       "top           \n",
       "freq        11\n",
       "Name: TotalCharges, dtype: object"
      ]
     },
     "execution_count": 140,
     "metadata": {},
     "output_type": "execute_result"
    }
   ],
   "source": [
    "df.TotalCharges.describe()"
   ]
  },
  {
   "cell_type": "code",
   "execution_count": 141,
   "id": "b0683f63-fcc2-4fb1-85da-b1447ebcc082",
   "metadata": {},
   "outputs": [
    {
     "data": {
      "text/html": [
       "<div>\n",
       "<style scoped>\n",
       "    .dataframe tbody tr th:only-of-type {\n",
       "        vertical-align: middle;\n",
       "    }\n",
       "\n",
       "    .dataframe tbody tr th {\n",
       "        vertical-align: top;\n",
       "    }\n",
       "\n",
       "    .dataframe thead th {\n",
       "        text-align: right;\n",
       "    }\n",
       "</style>\n",
       "<table border=\"1\" class=\"dataframe\">\n",
       "  <thead>\n",
       "    <tr style=\"text-align: right;\">\n",
       "      <th></th>\n",
       "      <th>gender</th>\n",
       "      <th>SeniorCitizen</th>\n",
       "      <th>Partner</th>\n",
       "      <th>Dependents</th>\n",
       "      <th>tenure</th>\n",
       "      <th>PhoneService</th>\n",
       "      <th>MultipleLines</th>\n",
       "      <th>InternetService</th>\n",
       "      <th>OnlineSecurity</th>\n",
       "      <th>OnlineBackup</th>\n",
       "      <th>DeviceProtection</th>\n",
       "      <th>TechSupport</th>\n",
       "      <th>StreamingTV</th>\n",
       "      <th>StreamingMovies</th>\n",
       "      <th>Contract</th>\n",
       "      <th>PaperlessBilling</th>\n",
       "      <th>PaymentMethod</th>\n",
       "      <th>MonthlyCharges</th>\n",
       "      <th>TotalCharges</th>\n",
       "      <th>Churn</th>\n",
       "    </tr>\n",
       "  </thead>\n",
       "  <tbody>\n",
       "    <tr>\n",
       "      <th>488</th>\n",
       "      <td>Female</td>\n",
       "      <td>0</td>\n",
       "      <td>Yes</td>\n",
       "      <td>Yes</td>\n",
       "      <td>0</td>\n",
       "      <td>No</td>\n",
       "      <td>No phone service</td>\n",
       "      <td>DSL</td>\n",
       "      <td>Yes</td>\n",
       "      <td>No</td>\n",
       "      <td>Yes</td>\n",
       "      <td>Yes</td>\n",
       "      <td>Yes</td>\n",
       "      <td>No</td>\n",
       "      <td>Two year</td>\n",
       "      <td>Yes</td>\n",
       "      <td>Bank transfer (automatic)</td>\n",
       "      <td>52.55</td>\n",
       "      <td></td>\n",
       "      <td>No</td>\n",
       "    </tr>\n",
       "    <tr>\n",
       "      <th>753</th>\n",
       "      <td>Male</td>\n",
       "      <td>0</td>\n",
       "      <td>No</td>\n",
       "      <td>Yes</td>\n",
       "      <td>0</td>\n",
       "      <td>Yes</td>\n",
       "      <td>No</td>\n",
       "      <td>No</td>\n",
       "      <td>No internet service</td>\n",
       "      <td>No internet service</td>\n",
       "      <td>No internet service</td>\n",
       "      <td>No internet service</td>\n",
       "      <td>No internet service</td>\n",
       "      <td>No internet service</td>\n",
       "      <td>Two year</td>\n",
       "      <td>No</td>\n",
       "      <td>Mailed check</td>\n",
       "      <td>20.25</td>\n",
       "      <td></td>\n",
       "      <td>No</td>\n",
       "    </tr>\n",
       "    <tr>\n",
       "      <th>936</th>\n",
       "      <td>Female</td>\n",
       "      <td>0</td>\n",
       "      <td>Yes</td>\n",
       "      <td>Yes</td>\n",
       "      <td>0</td>\n",
       "      <td>Yes</td>\n",
       "      <td>No</td>\n",
       "      <td>DSL</td>\n",
       "      <td>Yes</td>\n",
       "      <td>Yes</td>\n",
       "      <td>Yes</td>\n",
       "      <td>No</td>\n",
       "      <td>Yes</td>\n",
       "      <td>Yes</td>\n",
       "      <td>Two year</td>\n",
       "      <td>No</td>\n",
       "      <td>Mailed check</td>\n",
       "      <td>80.85</td>\n",
       "      <td></td>\n",
       "      <td>No</td>\n",
       "    </tr>\n",
       "    <tr>\n",
       "      <th>1082</th>\n",
       "      <td>Male</td>\n",
       "      <td>0</td>\n",
       "      <td>Yes</td>\n",
       "      <td>Yes</td>\n",
       "      <td>0</td>\n",
       "      <td>Yes</td>\n",
       "      <td>Yes</td>\n",
       "      <td>No</td>\n",
       "      <td>No internet service</td>\n",
       "      <td>No internet service</td>\n",
       "      <td>No internet service</td>\n",
       "      <td>No internet service</td>\n",
       "      <td>No internet service</td>\n",
       "      <td>No internet service</td>\n",
       "      <td>Two year</td>\n",
       "      <td>No</td>\n",
       "      <td>Mailed check</td>\n",
       "      <td>25.75</td>\n",
       "      <td></td>\n",
       "      <td>No</td>\n",
       "    </tr>\n",
       "    <tr>\n",
       "      <th>1340</th>\n",
       "      <td>Female</td>\n",
       "      <td>0</td>\n",
       "      <td>Yes</td>\n",
       "      <td>Yes</td>\n",
       "      <td>0</td>\n",
       "      <td>No</td>\n",
       "      <td>No phone service</td>\n",
       "      <td>DSL</td>\n",
       "      <td>Yes</td>\n",
       "      <td>Yes</td>\n",
       "      <td>Yes</td>\n",
       "      <td>Yes</td>\n",
       "      <td>Yes</td>\n",
       "      <td>No</td>\n",
       "      <td>Two year</td>\n",
       "      <td>No</td>\n",
       "      <td>Credit card (automatic)</td>\n",
       "      <td>56.05</td>\n",
       "      <td></td>\n",
       "      <td>No</td>\n",
       "    </tr>\n",
       "    <tr>\n",
       "      <th>3331</th>\n",
       "      <td>Male</td>\n",
       "      <td>0</td>\n",
       "      <td>Yes</td>\n",
       "      <td>Yes</td>\n",
       "      <td>0</td>\n",
       "      <td>Yes</td>\n",
       "      <td>No</td>\n",
       "      <td>No</td>\n",
       "      <td>No internet service</td>\n",
       "      <td>No internet service</td>\n",
       "      <td>No internet service</td>\n",
       "      <td>No internet service</td>\n",
       "      <td>No internet service</td>\n",
       "      <td>No internet service</td>\n",
       "      <td>Two year</td>\n",
       "      <td>No</td>\n",
       "      <td>Mailed check</td>\n",
       "      <td>19.85</td>\n",
       "      <td></td>\n",
       "      <td>No</td>\n",
       "    </tr>\n",
       "    <tr>\n",
       "      <th>3826</th>\n",
       "      <td>Male</td>\n",
       "      <td>0</td>\n",
       "      <td>Yes</td>\n",
       "      <td>Yes</td>\n",
       "      <td>0</td>\n",
       "      <td>Yes</td>\n",
       "      <td>Yes</td>\n",
       "      <td>No</td>\n",
       "      <td>No internet service</td>\n",
       "      <td>No internet service</td>\n",
       "      <td>No internet service</td>\n",
       "      <td>No internet service</td>\n",
       "      <td>No internet service</td>\n",
       "      <td>No internet service</td>\n",
       "      <td>Two year</td>\n",
       "      <td>No</td>\n",
       "      <td>Mailed check</td>\n",
       "      <td>25.35</td>\n",
       "      <td></td>\n",
       "      <td>No</td>\n",
       "    </tr>\n",
       "    <tr>\n",
       "      <th>4380</th>\n",
       "      <td>Female</td>\n",
       "      <td>0</td>\n",
       "      <td>Yes</td>\n",
       "      <td>Yes</td>\n",
       "      <td>0</td>\n",
       "      <td>Yes</td>\n",
       "      <td>No</td>\n",
       "      <td>No</td>\n",
       "      <td>No internet service</td>\n",
       "      <td>No internet service</td>\n",
       "      <td>No internet service</td>\n",
       "      <td>No internet service</td>\n",
       "      <td>No internet service</td>\n",
       "      <td>No internet service</td>\n",
       "      <td>Two year</td>\n",
       "      <td>No</td>\n",
       "      <td>Mailed check</td>\n",
       "      <td>20.00</td>\n",
       "      <td></td>\n",
       "      <td>No</td>\n",
       "    </tr>\n",
       "    <tr>\n",
       "      <th>5218</th>\n",
       "      <td>Male</td>\n",
       "      <td>0</td>\n",
       "      <td>Yes</td>\n",
       "      <td>Yes</td>\n",
       "      <td>0</td>\n",
       "      <td>Yes</td>\n",
       "      <td>No</td>\n",
       "      <td>No</td>\n",
       "      <td>No internet service</td>\n",
       "      <td>No internet service</td>\n",
       "      <td>No internet service</td>\n",
       "      <td>No internet service</td>\n",
       "      <td>No internet service</td>\n",
       "      <td>No internet service</td>\n",
       "      <td>One year</td>\n",
       "      <td>Yes</td>\n",
       "      <td>Mailed check</td>\n",
       "      <td>19.70</td>\n",
       "      <td></td>\n",
       "      <td>No</td>\n",
       "    </tr>\n",
       "    <tr>\n",
       "      <th>6670</th>\n",
       "      <td>Female</td>\n",
       "      <td>0</td>\n",
       "      <td>Yes</td>\n",
       "      <td>Yes</td>\n",
       "      <td>0</td>\n",
       "      <td>Yes</td>\n",
       "      <td>Yes</td>\n",
       "      <td>DSL</td>\n",
       "      <td>No</td>\n",
       "      <td>Yes</td>\n",
       "      <td>Yes</td>\n",
       "      <td>Yes</td>\n",
       "      <td>Yes</td>\n",
       "      <td>No</td>\n",
       "      <td>Two year</td>\n",
       "      <td>No</td>\n",
       "      <td>Mailed check</td>\n",
       "      <td>73.35</td>\n",
       "      <td></td>\n",
       "      <td>No</td>\n",
       "    </tr>\n",
       "    <tr>\n",
       "      <th>6754</th>\n",
       "      <td>Male</td>\n",
       "      <td>0</td>\n",
       "      <td>No</td>\n",
       "      <td>Yes</td>\n",
       "      <td>0</td>\n",
       "      <td>Yes</td>\n",
       "      <td>Yes</td>\n",
       "      <td>DSL</td>\n",
       "      <td>Yes</td>\n",
       "      <td>Yes</td>\n",
       "      <td>No</td>\n",
       "      <td>Yes</td>\n",
       "      <td>No</td>\n",
       "      <td>No</td>\n",
       "      <td>Two year</td>\n",
       "      <td>Yes</td>\n",
       "      <td>Bank transfer (automatic)</td>\n",
       "      <td>61.90</td>\n",
       "      <td></td>\n",
       "      <td>No</td>\n",
       "    </tr>\n",
       "  </tbody>\n",
       "</table>\n",
       "</div>"
      ],
      "text/plain": [
       "      gender  SeniorCitizen Partner Dependents  tenure PhoneService  \\\n",
       "488   Female              0     Yes        Yes       0           No   \n",
       "753     Male              0      No        Yes       0          Yes   \n",
       "936   Female              0     Yes        Yes       0          Yes   \n",
       "1082    Male              0     Yes        Yes       0          Yes   \n",
       "1340  Female              0     Yes        Yes       0           No   \n",
       "3331    Male              0     Yes        Yes       0          Yes   \n",
       "3826    Male              0     Yes        Yes       0          Yes   \n",
       "4380  Female              0     Yes        Yes       0          Yes   \n",
       "5218    Male              0     Yes        Yes       0          Yes   \n",
       "6670  Female              0     Yes        Yes       0          Yes   \n",
       "6754    Male              0      No        Yes       0          Yes   \n",
       "\n",
       "         MultipleLines InternetService       OnlineSecurity  \\\n",
       "488   No phone service             DSL                  Yes   \n",
       "753                 No              No  No internet service   \n",
       "936                 No             DSL                  Yes   \n",
       "1082               Yes              No  No internet service   \n",
       "1340  No phone service             DSL                  Yes   \n",
       "3331                No              No  No internet service   \n",
       "3826               Yes              No  No internet service   \n",
       "4380                No              No  No internet service   \n",
       "5218                No              No  No internet service   \n",
       "6670               Yes             DSL                   No   \n",
       "6754               Yes             DSL                  Yes   \n",
       "\n",
       "             OnlineBackup     DeviceProtection          TechSupport  \\\n",
       "488                    No                  Yes                  Yes   \n",
       "753   No internet service  No internet service  No internet service   \n",
       "936                   Yes                  Yes                   No   \n",
       "1082  No internet service  No internet service  No internet service   \n",
       "1340                  Yes                  Yes                  Yes   \n",
       "3331  No internet service  No internet service  No internet service   \n",
       "3826  No internet service  No internet service  No internet service   \n",
       "4380  No internet service  No internet service  No internet service   \n",
       "5218  No internet service  No internet service  No internet service   \n",
       "6670                  Yes                  Yes                  Yes   \n",
       "6754                  Yes                   No                  Yes   \n",
       "\n",
       "              StreamingTV      StreamingMovies  Contract PaperlessBilling  \\\n",
       "488                   Yes                   No  Two year              Yes   \n",
       "753   No internet service  No internet service  Two year               No   \n",
       "936                   Yes                  Yes  Two year               No   \n",
       "1082  No internet service  No internet service  Two year               No   \n",
       "1340                  Yes                   No  Two year               No   \n",
       "3331  No internet service  No internet service  Two year               No   \n",
       "3826  No internet service  No internet service  Two year               No   \n",
       "4380  No internet service  No internet service  Two year               No   \n",
       "5218  No internet service  No internet service  One year              Yes   \n",
       "6670                  Yes                   No  Two year               No   \n",
       "6754                   No                   No  Two year              Yes   \n",
       "\n",
       "                  PaymentMethod  MonthlyCharges TotalCharges Churn  \n",
       "488   Bank transfer (automatic)           52.55                 No  \n",
       "753                Mailed check           20.25                 No  \n",
       "936                Mailed check           80.85                 No  \n",
       "1082               Mailed check           25.75                 No  \n",
       "1340    Credit card (automatic)           56.05                 No  \n",
       "3331               Mailed check           19.85                 No  \n",
       "3826               Mailed check           25.35                 No  \n",
       "4380               Mailed check           20.00                 No  \n",
       "5218               Mailed check           19.70                 No  \n",
       "6670               Mailed check           73.35                 No  \n",
       "6754  Bank transfer (automatic)           61.90                 No  "
      ]
     },
     "execution_count": 141,
     "metadata": {},
     "output_type": "execute_result"
    }
   ],
   "source": [
    "df[df['TotalCharges']==' ']"
   ]
  },
  {
   "cell_type": "code",
   "execution_count": 142,
   "id": "ad703248-f5f2-4373-9ec9-c73e2c88eda4",
   "metadata": {},
   "outputs": [
    {
     "data": {
      "text/plain": [
       "11"
      ]
     },
     "execution_count": 142,
     "metadata": {},
     "output_type": "execute_result"
    }
   ],
   "source": [
    "len(df[df['TotalCharges']==' '])"
   ]
  },
  {
   "cell_type": "code",
   "execution_count": 143,
   "id": "7ade2bc2-11bd-439b-b965-113df3aeee5d",
   "metadata": {},
   "outputs": [],
   "source": [
    "# Convert the \"TotalCharges\" column to numeric and enforce white spaces to be 'NaN'\n",
    "df['TotalCharges'] = pd.to_numeric(df['TotalCharges'], errors='coerce')"
   ]
  },
  {
   "cell_type": "code",
   "execution_count": 144,
   "id": "cf109c9e-13f6-4f7e-8a4b-670e8be6284f",
   "metadata": {},
   "outputs": [
    {
     "data": {
      "text/plain": [
       "0"
      ]
     },
     "execution_count": 144,
     "metadata": {},
     "output_type": "execute_result"
    }
   ],
   "source": [
    "len(df[df['TotalCharges']==' '])"
   ]
  },
  {
   "cell_type": "code",
   "execution_count": 145,
   "id": "9a6c92f9-8941-49f5-a1ce-3a8d9572df6b",
   "metadata": {},
   "outputs": [
    {
     "data": {
      "text/html": [
       "<div>\n",
       "<style scoped>\n",
       "    .dataframe tbody tr th:only-of-type {\n",
       "        vertical-align: middle;\n",
       "    }\n",
       "\n",
       "    .dataframe tbody tr th {\n",
       "        vertical-align: top;\n",
       "    }\n",
       "\n",
       "    .dataframe thead th {\n",
       "        text-align: right;\n",
       "    }\n",
       "</style>\n",
       "<table border=\"1\" class=\"dataframe\">\n",
       "  <thead>\n",
       "    <tr style=\"text-align: right;\">\n",
       "      <th></th>\n",
       "      <th>gender</th>\n",
       "      <th>SeniorCitizen</th>\n",
       "      <th>Partner</th>\n",
       "      <th>Dependents</th>\n",
       "      <th>tenure</th>\n",
       "      <th>PhoneService</th>\n",
       "      <th>MultipleLines</th>\n",
       "      <th>InternetService</th>\n",
       "      <th>OnlineSecurity</th>\n",
       "      <th>OnlineBackup</th>\n",
       "      <th>DeviceProtection</th>\n",
       "      <th>TechSupport</th>\n",
       "      <th>StreamingTV</th>\n",
       "      <th>StreamingMovies</th>\n",
       "      <th>Contract</th>\n",
       "      <th>PaperlessBilling</th>\n",
       "      <th>PaymentMethod</th>\n",
       "      <th>MonthlyCharges</th>\n",
       "      <th>TotalCharges</th>\n",
       "      <th>Churn</th>\n",
       "    </tr>\n",
       "  </thead>\n",
       "  <tbody>\n",
       "    <tr>\n",
       "      <th>488</th>\n",
       "      <td>Female</td>\n",
       "      <td>0</td>\n",
       "      <td>Yes</td>\n",
       "      <td>Yes</td>\n",
       "      <td>0</td>\n",
       "      <td>No</td>\n",
       "      <td>No phone service</td>\n",
       "      <td>DSL</td>\n",
       "      <td>Yes</td>\n",
       "      <td>No</td>\n",
       "      <td>Yes</td>\n",
       "      <td>Yes</td>\n",
       "      <td>Yes</td>\n",
       "      <td>No</td>\n",
       "      <td>Two year</td>\n",
       "      <td>Yes</td>\n",
       "      <td>Bank transfer (automatic)</td>\n",
       "      <td>52.55</td>\n",
       "      <td>NaN</td>\n",
       "      <td>No</td>\n",
       "    </tr>\n",
       "    <tr>\n",
       "      <th>753</th>\n",
       "      <td>Male</td>\n",
       "      <td>0</td>\n",
       "      <td>No</td>\n",
       "      <td>Yes</td>\n",
       "      <td>0</td>\n",
       "      <td>Yes</td>\n",
       "      <td>No</td>\n",
       "      <td>No</td>\n",
       "      <td>No internet service</td>\n",
       "      <td>No internet service</td>\n",
       "      <td>No internet service</td>\n",
       "      <td>No internet service</td>\n",
       "      <td>No internet service</td>\n",
       "      <td>No internet service</td>\n",
       "      <td>Two year</td>\n",
       "      <td>No</td>\n",
       "      <td>Mailed check</td>\n",
       "      <td>20.25</td>\n",
       "      <td>NaN</td>\n",
       "      <td>No</td>\n",
       "    </tr>\n",
       "    <tr>\n",
       "      <th>936</th>\n",
       "      <td>Female</td>\n",
       "      <td>0</td>\n",
       "      <td>Yes</td>\n",
       "      <td>Yes</td>\n",
       "      <td>0</td>\n",
       "      <td>Yes</td>\n",
       "      <td>No</td>\n",
       "      <td>DSL</td>\n",
       "      <td>Yes</td>\n",
       "      <td>Yes</td>\n",
       "      <td>Yes</td>\n",
       "      <td>No</td>\n",
       "      <td>Yes</td>\n",
       "      <td>Yes</td>\n",
       "      <td>Two year</td>\n",
       "      <td>No</td>\n",
       "      <td>Mailed check</td>\n",
       "      <td>80.85</td>\n",
       "      <td>NaN</td>\n",
       "      <td>No</td>\n",
       "    </tr>\n",
       "    <tr>\n",
       "      <th>1082</th>\n",
       "      <td>Male</td>\n",
       "      <td>0</td>\n",
       "      <td>Yes</td>\n",
       "      <td>Yes</td>\n",
       "      <td>0</td>\n",
       "      <td>Yes</td>\n",
       "      <td>Yes</td>\n",
       "      <td>No</td>\n",
       "      <td>No internet service</td>\n",
       "      <td>No internet service</td>\n",
       "      <td>No internet service</td>\n",
       "      <td>No internet service</td>\n",
       "      <td>No internet service</td>\n",
       "      <td>No internet service</td>\n",
       "      <td>Two year</td>\n",
       "      <td>No</td>\n",
       "      <td>Mailed check</td>\n",
       "      <td>25.75</td>\n",
       "      <td>NaN</td>\n",
       "      <td>No</td>\n",
       "    </tr>\n",
       "    <tr>\n",
       "      <th>1340</th>\n",
       "      <td>Female</td>\n",
       "      <td>0</td>\n",
       "      <td>Yes</td>\n",
       "      <td>Yes</td>\n",
       "      <td>0</td>\n",
       "      <td>No</td>\n",
       "      <td>No phone service</td>\n",
       "      <td>DSL</td>\n",
       "      <td>Yes</td>\n",
       "      <td>Yes</td>\n",
       "      <td>Yes</td>\n",
       "      <td>Yes</td>\n",
       "      <td>Yes</td>\n",
       "      <td>No</td>\n",
       "      <td>Two year</td>\n",
       "      <td>No</td>\n",
       "      <td>Credit card (automatic)</td>\n",
       "      <td>56.05</td>\n",
       "      <td>NaN</td>\n",
       "      <td>No</td>\n",
       "    </tr>\n",
       "    <tr>\n",
       "      <th>3331</th>\n",
       "      <td>Male</td>\n",
       "      <td>0</td>\n",
       "      <td>Yes</td>\n",
       "      <td>Yes</td>\n",
       "      <td>0</td>\n",
       "      <td>Yes</td>\n",
       "      <td>No</td>\n",
       "      <td>No</td>\n",
       "      <td>No internet service</td>\n",
       "      <td>No internet service</td>\n",
       "      <td>No internet service</td>\n",
       "      <td>No internet service</td>\n",
       "      <td>No internet service</td>\n",
       "      <td>No internet service</td>\n",
       "      <td>Two year</td>\n",
       "      <td>No</td>\n",
       "      <td>Mailed check</td>\n",
       "      <td>19.85</td>\n",
       "      <td>NaN</td>\n",
       "      <td>No</td>\n",
       "    </tr>\n",
       "    <tr>\n",
       "      <th>3826</th>\n",
       "      <td>Male</td>\n",
       "      <td>0</td>\n",
       "      <td>Yes</td>\n",
       "      <td>Yes</td>\n",
       "      <td>0</td>\n",
       "      <td>Yes</td>\n",
       "      <td>Yes</td>\n",
       "      <td>No</td>\n",
       "      <td>No internet service</td>\n",
       "      <td>No internet service</td>\n",
       "      <td>No internet service</td>\n",
       "      <td>No internet service</td>\n",
       "      <td>No internet service</td>\n",
       "      <td>No internet service</td>\n",
       "      <td>Two year</td>\n",
       "      <td>No</td>\n",
       "      <td>Mailed check</td>\n",
       "      <td>25.35</td>\n",
       "      <td>NaN</td>\n",
       "      <td>No</td>\n",
       "    </tr>\n",
       "    <tr>\n",
       "      <th>4380</th>\n",
       "      <td>Female</td>\n",
       "      <td>0</td>\n",
       "      <td>Yes</td>\n",
       "      <td>Yes</td>\n",
       "      <td>0</td>\n",
       "      <td>Yes</td>\n",
       "      <td>No</td>\n",
       "      <td>No</td>\n",
       "      <td>No internet service</td>\n",
       "      <td>No internet service</td>\n",
       "      <td>No internet service</td>\n",
       "      <td>No internet service</td>\n",
       "      <td>No internet service</td>\n",
       "      <td>No internet service</td>\n",
       "      <td>Two year</td>\n",
       "      <td>No</td>\n",
       "      <td>Mailed check</td>\n",
       "      <td>20.00</td>\n",
       "      <td>NaN</td>\n",
       "      <td>No</td>\n",
       "    </tr>\n",
       "    <tr>\n",
       "      <th>5218</th>\n",
       "      <td>Male</td>\n",
       "      <td>0</td>\n",
       "      <td>Yes</td>\n",
       "      <td>Yes</td>\n",
       "      <td>0</td>\n",
       "      <td>Yes</td>\n",
       "      <td>No</td>\n",
       "      <td>No</td>\n",
       "      <td>No internet service</td>\n",
       "      <td>No internet service</td>\n",
       "      <td>No internet service</td>\n",
       "      <td>No internet service</td>\n",
       "      <td>No internet service</td>\n",
       "      <td>No internet service</td>\n",
       "      <td>One year</td>\n",
       "      <td>Yes</td>\n",
       "      <td>Mailed check</td>\n",
       "      <td>19.70</td>\n",
       "      <td>NaN</td>\n",
       "      <td>No</td>\n",
       "    </tr>\n",
       "    <tr>\n",
       "      <th>6670</th>\n",
       "      <td>Female</td>\n",
       "      <td>0</td>\n",
       "      <td>Yes</td>\n",
       "      <td>Yes</td>\n",
       "      <td>0</td>\n",
       "      <td>Yes</td>\n",
       "      <td>Yes</td>\n",
       "      <td>DSL</td>\n",
       "      <td>No</td>\n",
       "      <td>Yes</td>\n",
       "      <td>Yes</td>\n",
       "      <td>Yes</td>\n",
       "      <td>Yes</td>\n",
       "      <td>No</td>\n",
       "      <td>Two year</td>\n",
       "      <td>No</td>\n",
       "      <td>Mailed check</td>\n",
       "      <td>73.35</td>\n",
       "      <td>NaN</td>\n",
       "      <td>No</td>\n",
       "    </tr>\n",
       "    <tr>\n",
       "      <th>6754</th>\n",
       "      <td>Male</td>\n",
       "      <td>0</td>\n",
       "      <td>No</td>\n",
       "      <td>Yes</td>\n",
       "      <td>0</td>\n",
       "      <td>Yes</td>\n",
       "      <td>Yes</td>\n",
       "      <td>DSL</td>\n",
       "      <td>Yes</td>\n",
       "      <td>Yes</td>\n",
       "      <td>No</td>\n",
       "      <td>Yes</td>\n",
       "      <td>No</td>\n",
       "      <td>No</td>\n",
       "      <td>Two year</td>\n",
       "      <td>Yes</td>\n",
       "      <td>Bank transfer (automatic)</td>\n",
       "      <td>61.90</td>\n",
       "      <td>NaN</td>\n",
       "      <td>No</td>\n",
       "    </tr>\n",
       "  </tbody>\n",
       "</table>\n",
       "</div>"
      ],
      "text/plain": [
       "      gender  SeniorCitizen Partner Dependents  tenure PhoneService  \\\n",
       "488   Female              0     Yes        Yes       0           No   \n",
       "753     Male              0      No        Yes       0          Yes   \n",
       "936   Female              0     Yes        Yes       0          Yes   \n",
       "1082    Male              0     Yes        Yes       0          Yes   \n",
       "1340  Female              0     Yes        Yes       0           No   \n",
       "3331    Male              0     Yes        Yes       0          Yes   \n",
       "3826    Male              0     Yes        Yes       0          Yes   \n",
       "4380  Female              0     Yes        Yes       0          Yes   \n",
       "5218    Male              0     Yes        Yes       0          Yes   \n",
       "6670  Female              0     Yes        Yes       0          Yes   \n",
       "6754    Male              0      No        Yes       0          Yes   \n",
       "\n",
       "         MultipleLines InternetService       OnlineSecurity  \\\n",
       "488   No phone service             DSL                  Yes   \n",
       "753                 No              No  No internet service   \n",
       "936                 No             DSL                  Yes   \n",
       "1082               Yes              No  No internet service   \n",
       "1340  No phone service             DSL                  Yes   \n",
       "3331                No              No  No internet service   \n",
       "3826               Yes              No  No internet service   \n",
       "4380                No              No  No internet service   \n",
       "5218                No              No  No internet service   \n",
       "6670               Yes             DSL                   No   \n",
       "6754               Yes             DSL                  Yes   \n",
       "\n",
       "             OnlineBackup     DeviceProtection          TechSupport  \\\n",
       "488                    No                  Yes                  Yes   \n",
       "753   No internet service  No internet service  No internet service   \n",
       "936                   Yes                  Yes                   No   \n",
       "1082  No internet service  No internet service  No internet service   \n",
       "1340                  Yes                  Yes                  Yes   \n",
       "3331  No internet service  No internet service  No internet service   \n",
       "3826  No internet service  No internet service  No internet service   \n",
       "4380  No internet service  No internet service  No internet service   \n",
       "5218  No internet service  No internet service  No internet service   \n",
       "6670                  Yes                  Yes                  Yes   \n",
       "6754                  Yes                   No                  Yes   \n",
       "\n",
       "              StreamingTV      StreamingMovies  Contract PaperlessBilling  \\\n",
       "488                   Yes                   No  Two year              Yes   \n",
       "753   No internet service  No internet service  Two year               No   \n",
       "936                   Yes                  Yes  Two year               No   \n",
       "1082  No internet service  No internet service  Two year               No   \n",
       "1340                  Yes                   No  Two year               No   \n",
       "3331  No internet service  No internet service  Two year               No   \n",
       "3826  No internet service  No internet service  Two year               No   \n",
       "4380  No internet service  No internet service  Two year               No   \n",
       "5218  No internet service  No internet service  One year              Yes   \n",
       "6670                  Yes                   No  Two year               No   \n",
       "6754                   No                   No  Two year              Yes   \n",
       "\n",
       "                  PaymentMethod  MonthlyCharges  TotalCharges Churn  \n",
       "488   Bank transfer (automatic)           52.55           NaN    No  \n",
       "753                Mailed check           20.25           NaN    No  \n",
       "936                Mailed check           80.85           NaN    No  \n",
       "1082               Mailed check           25.75           NaN    No  \n",
       "1340    Credit card (automatic)           56.05           NaN    No  \n",
       "3331               Mailed check           19.85           NaN    No  \n",
       "3826               Mailed check           25.35           NaN    No  \n",
       "4380               Mailed check           20.00           NaN    No  \n",
       "5218               Mailed check           19.70           NaN    No  \n",
       "6670               Mailed check           73.35           NaN    No  \n",
       "6754  Bank transfer (automatic)           61.90           NaN    No  "
      ]
     },
     "execution_count": 145,
     "metadata": {},
     "output_type": "execute_result"
    }
   ],
   "source": [
    "# Just Confirm\n",
    "df.iloc[[488,753,936,1082,1340,3331,3826,4380,5218,6670,6754],:]"
   ]
  },
  {
   "cell_type": "code",
   "execution_count": 146,
   "id": "9c693774-0619-4365-b10b-e7568804453e",
   "metadata": {},
   "outputs": [],
   "source": [
    "df['SeniorCitizen'] = df['SeniorCitizen'].astype('object')"
   ]
  },
  {
   "cell_type": "code",
   "execution_count": 147,
   "id": "616503f1-0020-4fce-8073-07e57459de38",
   "metadata": {},
   "outputs": [],
   "source": [
    "df.columns = df.columns.str.lower()"
   ]
  },
  {
   "cell_type": "code",
   "execution_count": 148,
   "id": "a0553a4e-24b2-4725-b6ba-da78cfaba08f",
   "metadata": {},
   "outputs": [
    {
     "data": {
      "text/plain": [
       "Index(['gender', 'seniorcitizen', 'partner', 'dependents', 'tenure',\n",
       "       'phoneservice', 'multiplelines', 'internetservice', 'onlinesecurity',\n",
       "       'onlinebackup', 'deviceprotection', 'techsupport', 'streamingtv',\n",
       "       'streamingmovies', 'contract', 'paperlessbilling', 'paymentmethod',\n",
       "       'monthlycharges', 'totalcharges', 'churn'],\n",
       "      dtype='object')"
      ]
     },
     "execution_count": 148,
     "metadata": {},
     "output_type": "execute_result"
    }
   ],
   "source": [
    "df.columns"
   ]
  },
  {
   "cell_type": "code",
   "execution_count": 149,
   "id": "82672b5b-b900-41e9-9cef-20800a694bd6",
   "metadata": {},
   "outputs": [
    {
     "data": {
      "text/html": [
       "<div>\n",
       "<style scoped>\n",
       "    .dataframe tbody tr th:only-of-type {\n",
       "        vertical-align: middle;\n",
       "    }\n",
       "\n",
       "    .dataframe tbody tr th {\n",
       "        vertical-align: top;\n",
       "    }\n",
       "\n",
       "    .dataframe thead th {\n",
       "        text-align: right;\n",
       "    }\n",
       "</style>\n",
       "<table border=\"1\" class=\"dataframe\">\n",
       "  <thead>\n",
       "    <tr style=\"text-align: right;\">\n",
       "      <th></th>\n",
       "      <th>gender</th>\n",
       "      <th>seniorcitizen</th>\n",
       "      <th>partner</th>\n",
       "      <th>dependents</th>\n",
       "      <th>tenure</th>\n",
       "      <th>phoneservice</th>\n",
       "      <th>multiplelines</th>\n",
       "      <th>internetservice</th>\n",
       "      <th>onlinesecurity</th>\n",
       "      <th>onlinebackup</th>\n",
       "      <th>deviceprotection</th>\n",
       "      <th>techsupport</th>\n",
       "      <th>streamingtv</th>\n",
       "      <th>streamingmovies</th>\n",
       "      <th>contract</th>\n",
       "      <th>paperlessbilling</th>\n",
       "      <th>paymentmethod</th>\n",
       "      <th>monthlycharges</th>\n",
       "      <th>totalcharges</th>\n",
       "      <th>churn</th>\n",
       "    </tr>\n",
       "  </thead>\n",
       "  <tbody>\n",
       "    <tr>\n",
       "      <th>2</th>\n",
       "      <td>Male</td>\n",
       "      <td>0</td>\n",
       "      <td>No</td>\n",
       "      <td>No</td>\n",
       "      <td>2</td>\n",
       "      <td>Yes</td>\n",
       "      <td>No</td>\n",
       "      <td>DSL</td>\n",
       "      <td>Yes</td>\n",
       "      <td>Yes</td>\n",
       "      <td>No</td>\n",
       "      <td>No</td>\n",
       "      <td>No</td>\n",
       "      <td>No</td>\n",
       "      <td>Month-to-month</td>\n",
       "      <td>Yes</td>\n",
       "      <td>Mailed check</td>\n",
       "      <td>53.85</td>\n",
       "      <td>108.15</td>\n",
       "      <td>Yes</td>\n",
       "    </tr>\n",
       "    <tr>\n",
       "      <th>4</th>\n",
       "      <td>Female</td>\n",
       "      <td>0</td>\n",
       "      <td>No</td>\n",
       "      <td>No</td>\n",
       "      <td>2</td>\n",
       "      <td>Yes</td>\n",
       "      <td>No</td>\n",
       "      <td>Fiber optic</td>\n",
       "      <td>No</td>\n",
       "      <td>No</td>\n",
       "      <td>No</td>\n",
       "      <td>No</td>\n",
       "      <td>No</td>\n",
       "      <td>No</td>\n",
       "      <td>Month-to-month</td>\n",
       "      <td>Yes</td>\n",
       "      <td>Electronic check</td>\n",
       "      <td>70.70</td>\n",
       "      <td>151.65</td>\n",
       "      <td>Yes</td>\n",
       "    </tr>\n",
       "    <tr>\n",
       "      <th>5</th>\n",
       "      <td>Female</td>\n",
       "      <td>0</td>\n",
       "      <td>No</td>\n",
       "      <td>No</td>\n",
       "      <td>8</td>\n",
       "      <td>Yes</td>\n",
       "      <td>Yes</td>\n",
       "      <td>Fiber optic</td>\n",
       "      <td>No</td>\n",
       "      <td>No</td>\n",
       "      <td>Yes</td>\n",
       "      <td>No</td>\n",
       "      <td>Yes</td>\n",
       "      <td>Yes</td>\n",
       "      <td>Month-to-month</td>\n",
       "      <td>Yes</td>\n",
       "      <td>Electronic check</td>\n",
       "      <td>99.65</td>\n",
       "      <td>820.50</td>\n",
       "      <td>Yes</td>\n",
       "    </tr>\n",
       "    <tr>\n",
       "      <th>8</th>\n",
       "      <td>Female</td>\n",
       "      <td>0</td>\n",
       "      <td>Yes</td>\n",
       "      <td>No</td>\n",
       "      <td>28</td>\n",
       "      <td>Yes</td>\n",
       "      <td>Yes</td>\n",
       "      <td>Fiber optic</td>\n",
       "      <td>No</td>\n",
       "      <td>No</td>\n",
       "      <td>Yes</td>\n",
       "      <td>Yes</td>\n",
       "      <td>Yes</td>\n",
       "      <td>Yes</td>\n",
       "      <td>Month-to-month</td>\n",
       "      <td>Yes</td>\n",
       "      <td>Electronic check</td>\n",
       "      <td>104.80</td>\n",
       "      <td>3046.05</td>\n",
       "      <td>Yes</td>\n",
       "    </tr>\n",
       "    <tr>\n",
       "      <th>13</th>\n",
       "      <td>Male</td>\n",
       "      <td>0</td>\n",
       "      <td>No</td>\n",
       "      <td>No</td>\n",
       "      <td>49</td>\n",
       "      <td>Yes</td>\n",
       "      <td>Yes</td>\n",
       "      <td>Fiber optic</td>\n",
       "      <td>No</td>\n",
       "      <td>Yes</td>\n",
       "      <td>Yes</td>\n",
       "      <td>No</td>\n",
       "      <td>Yes</td>\n",
       "      <td>Yes</td>\n",
       "      <td>Month-to-month</td>\n",
       "      <td>Yes</td>\n",
       "      <td>Bank transfer (automatic)</td>\n",
       "      <td>103.70</td>\n",
       "      <td>5036.30</td>\n",
       "      <td>Yes</td>\n",
       "    </tr>\n",
       "    <tr>\n",
       "      <th>...</th>\n",
       "      <td>...</td>\n",
       "      <td>...</td>\n",
       "      <td>...</td>\n",
       "      <td>...</td>\n",
       "      <td>...</td>\n",
       "      <td>...</td>\n",
       "      <td>...</td>\n",
       "      <td>...</td>\n",
       "      <td>...</td>\n",
       "      <td>...</td>\n",
       "      <td>...</td>\n",
       "      <td>...</td>\n",
       "      <td>...</td>\n",
       "      <td>...</td>\n",
       "      <td>...</td>\n",
       "      <td>...</td>\n",
       "      <td>...</td>\n",
       "      <td>...</td>\n",
       "      <td>...</td>\n",
       "      <td>...</td>\n",
       "    </tr>\n",
       "    <tr>\n",
       "      <th>7021</th>\n",
       "      <td>Male</td>\n",
       "      <td>0</td>\n",
       "      <td>No</td>\n",
       "      <td>No</td>\n",
       "      <td>12</td>\n",
       "      <td>Yes</td>\n",
       "      <td>No</td>\n",
       "      <td>DSL</td>\n",
       "      <td>No</td>\n",
       "      <td>No</td>\n",
       "      <td>No</td>\n",
       "      <td>Yes</td>\n",
       "      <td>Yes</td>\n",
       "      <td>No</td>\n",
       "      <td>One year</td>\n",
       "      <td>Yes</td>\n",
       "      <td>Electronic check</td>\n",
       "      <td>59.80</td>\n",
       "      <td>727.80</td>\n",
       "      <td>Yes</td>\n",
       "    </tr>\n",
       "    <tr>\n",
       "      <th>7026</th>\n",
       "      <td>Female</td>\n",
       "      <td>0</td>\n",
       "      <td>No</td>\n",
       "      <td>No</td>\n",
       "      <td>9</td>\n",
       "      <td>Yes</td>\n",
       "      <td>No</td>\n",
       "      <td>DSL</td>\n",
       "      <td>No</td>\n",
       "      <td>No</td>\n",
       "      <td>No</td>\n",
       "      <td>No</td>\n",
       "      <td>No</td>\n",
       "      <td>No</td>\n",
       "      <td>Month-to-month</td>\n",
       "      <td>Yes</td>\n",
       "      <td>Bank transfer (automatic)</td>\n",
       "      <td>44.20</td>\n",
       "      <td>403.35</td>\n",
       "      <td>Yes</td>\n",
       "    </tr>\n",
       "    <tr>\n",
       "      <th>7032</th>\n",
       "      <td>Male</td>\n",
       "      <td>1</td>\n",
       "      <td>No</td>\n",
       "      <td>No</td>\n",
       "      <td>1</td>\n",
       "      <td>Yes</td>\n",
       "      <td>Yes</td>\n",
       "      <td>Fiber optic</td>\n",
       "      <td>No</td>\n",
       "      <td>No</td>\n",
       "      <td>No</td>\n",
       "      <td>No</td>\n",
       "      <td>No</td>\n",
       "      <td>No</td>\n",
       "      <td>Month-to-month</td>\n",
       "      <td>Yes</td>\n",
       "      <td>Electronic check</td>\n",
       "      <td>75.75</td>\n",
       "      <td>75.75</td>\n",
       "      <td>Yes</td>\n",
       "    </tr>\n",
       "    <tr>\n",
       "      <th>7034</th>\n",
       "      <td>Female</td>\n",
       "      <td>0</td>\n",
       "      <td>No</td>\n",
       "      <td>No</td>\n",
       "      <td>67</td>\n",
       "      <td>Yes</td>\n",
       "      <td>Yes</td>\n",
       "      <td>Fiber optic</td>\n",
       "      <td>Yes</td>\n",
       "      <td>Yes</td>\n",
       "      <td>Yes</td>\n",
       "      <td>No</td>\n",
       "      <td>Yes</td>\n",
       "      <td>No</td>\n",
       "      <td>Month-to-month</td>\n",
       "      <td>Yes</td>\n",
       "      <td>Credit card (automatic)</td>\n",
       "      <td>102.95</td>\n",
       "      <td>6886.25</td>\n",
       "      <td>Yes</td>\n",
       "    </tr>\n",
       "    <tr>\n",
       "      <th>7041</th>\n",
       "      <td>Male</td>\n",
       "      <td>1</td>\n",
       "      <td>Yes</td>\n",
       "      <td>No</td>\n",
       "      <td>4</td>\n",
       "      <td>Yes</td>\n",
       "      <td>Yes</td>\n",
       "      <td>Fiber optic</td>\n",
       "      <td>No</td>\n",
       "      <td>No</td>\n",
       "      <td>No</td>\n",
       "      <td>No</td>\n",
       "      <td>No</td>\n",
       "      <td>No</td>\n",
       "      <td>Month-to-month</td>\n",
       "      <td>Yes</td>\n",
       "      <td>Mailed check</td>\n",
       "      <td>74.40</td>\n",
       "      <td>306.60</td>\n",
       "      <td>Yes</td>\n",
       "    </tr>\n",
       "  </tbody>\n",
       "</table>\n",
       "<p>1869 rows × 20 columns</p>\n",
       "</div>"
      ],
      "text/plain": [
       "      gender seniorcitizen partner dependents  tenure phoneservice  \\\n",
       "2       Male             0      No         No       2          Yes   \n",
       "4     Female             0      No         No       2          Yes   \n",
       "5     Female             0      No         No       8          Yes   \n",
       "8     Female             0     Yes         No      28          Yes   \n",
       "13      Male             0      No         No      49          Yes   \n",
       "...      ...           ...     ...        ...     ...          ...   \n",
       "7021    Male             0      No         No      12          Yes   \n",
       "7026  Female             0      No         No       9          Yes   \n",
       "7032    Male             1      No         No       1          Yes   \n",
       "7034  Female             0      No         No      67          Yes   \n",
       "7041    Male             1     Yes         No       4          Yes   \n",
       "\n",
       "     multiplelines internetservice onlinesecurity onlinebackup  \\\n",
       "2               No             DSL            Yes          Yes   \n",
       "4               No     Fiber optic             No           No   \n",
       "5              Yes     Fiber optic             No           No   \n",
       "8              Yes     Fiber optic             No           No   \n",
       "13             Yes     Fiber optic             No          Yes   \n",
       "...            ...             ...            ...          ...   \n",
       "7021            No             DSL             No           No   \n",
       "7026            No             DSL             No           No   \n",
       "7032           Yes     Fiber optic             No           No   \n",
       "7034           Yes     Fiber optic            Yes          Yes   \n",
       "7041           Yes     Fiber optic             No           No   \n",
       "\n",
       "     deviceprotection techsupport streamingtv streamingmovies        contract  \\\n",
       "2                  No          No          No              No  Month-to-month   \n",
       "4                  No          No          No              No  Month-to-month   \n",
       "5                 Yes          No         Yes             Yes  Month-to-month   \n",
       "8                 Yes         Yes         Yes             Yes  Month-to-month   \n",
       "13                Yes          No         Yes             Yes  Month-to-month   \n",
       "...               ...         ...         ...             ...             ...   \n",
       "7021               No         Yes         Yes              No        One year   \n",
       "7026               No          No          No              No  Month-to-month   \n",
       "7032               No          No          No              No  Month-to-month   \n",
       "7034              Yes          No         Yes              No  Month-to-month   \n",
       "7041               No          No          No              No  Month-to-month   \n",
       "\n",
       "     paperlessbilling              paymentmethod  monthlycharges  \\\n",
       "2                 Yes               Mailed check           53.85   \n",
       "4                 Yes           Electronic check           70.70   \n",
       "5                 Yes           Electronic check           99.65   \n",
       "8                 Yes           Electronic check          104.80   \n",
       "13                Yes  Bank transfer (automatic)          103.70   \n",
       "...               ...                        ...             ...   \n",
       "7021              Yes           Electronic check           59.80   \n",
       "7026              Yes  Bank transfer (automatic)           44.20   \n",
       "7032              Yes           Electronic check           75.75   \n",
       "7034              Yes    Credit card (automatic)          102.95   \n",
       "7041              Yes               Mailed check           74.40   \n",
       "\n",
       "      totalcharges churn  \n",
       "2           108.15   Yes  \n",
       "4           151.65   Yes  \n",
       "5           820.50   Yes  \n",
       "8          3046.05   Yes  \n",
       "13         5036.30   Yes  \n",
       "...            ...   ...  \n",
       "7021        727.80   Yes  \n",
       "7026        403.35   Yes  \n",
       "7032         75.75   Yes  \n",
       "7034       6886.25   Yes  \n",
       "7041        306.60   Yes  \n",
       "\n",
       "[1869 rows x 20 columns]"
      ]
     },
     "execution_count": 149,
     "metadata": {},
     "output_type": "execute_result"
    }
   ],
   "source": [
    "# Churn\n",
    "df[df.churn == 'Yes']"
   ]
  },
  {
   "cell_type": "code",
   "execution_count": 150,
   "id": "0e6d256e-65ee-4058-b74a-ba9562aea3c5",
   "metadata": {},
   "outputs": [
    {
     "data": {
      "text/plain": [
       "0       0\n",
       "1       0\n",
       "2       1\n",
       "3       0\n",
       "4       1\n",
       "       ..\n",
       "7038    0\n",
       "7039    0\n",
       "7040    0\n",
       "7041    1\n",
       "7042    0\n",
       "Name: churn, Length: 7043, dtype: int32"
      ]
     },
     "execution_count": 150,
     "metadata": {},
     "output_type": "execute_result"
    }
   ],
   "source": [
    "# Convert churn to Numerical Value\n",
    "(df.churn == 'Yes').astype(int)"
   ]
  },
  {
   "cell_type": "code",
   "execution_count": 151,
   "id": "700c073f-8db9-4873-81fd-2625fb8f5ca2",
   "metadata": {},
   "outputs": [],
   "source": [
    "df.churn = (df.churn == 'Yes').astype(int)"
   ]
  },
  {
   "cell_type": "code",
   "execution_count": 152,
   "id": "1457f3c2-16a1-4cc8-8680-cb57c9181023",
   "metadata": {},
   "outputs": [
    {
     "data": {
      "text/plain": [
       "churn\n",
       "0    5174\n",
       "1    1869\n",
       "Name: count, dtype: int64"
      ]
     },
     "execution_count": 152,
     "metadata": {},
     "output_type": "execute_result"
    }
   ],
   "source": [
    "df.churn.value_counts()  #imbalance"
   ]
  },
  {
   "cell_type": "code",
   "execution_count": 153,
   "id": "3782a0c9-df0c-4da9-9b88-ee30fd807238",
   "metadata": {},
   "outputs": [
    {
     "data": {
      "text/plain": [
       "churn\n",
       "0    0.73463\n",
       "1    0.26537\n",
       "Name: proportion, dtype: float64"
      ]
     },
     "execution_count": 153,
     "metadata": {},
     "output_type": "execute_result"
    }
   ],
   "source": [
    "df.churn.value_counts(normalize= True)"
   ]
  },
  {
   "cell_type": "code",
   "execution_count": 154,
   "id": "6d15b193-b659-4e43-ae00-2ad109808dcf",
   "metadata": {},
   "outputs": [
    {
     "data": {
      "text/plain": [
       "0.2653698707936959"
      ]
     },
     "execution_count": 154,
     "metadata": {},
     "output_type": "execute_result"
    }
   ],
   "source": [
    "df.churn.mean()"
   ]
  },
  {
   "cell_type": "markdown",
   "id": "f5d3a8d6-a1f2-4a02-8cb1-135a12958732",
   "metadata": {},
   "source": [
    "## Data Splitting"
   ]
  },
  {
   "cell_type": "markdown",
   "id": "756ef7ab-eedd-4816-935d-77a4fea12c6d",
   "metadata": {},
   "source": [
    "Divide the entire dataset into three subsets: Training Set, Validation Set, and Testing Set."
   ]
  },
  {
   "cell_type": "markdown",
   "id": "57cd2ca2-6ddf-4284-8353-a3cf32e42040",
   "metadata": {},
   "source": [
    "- Training Set: Used for training our model.\n",
    "- Validation Set: Utilized to validate and fine-tune the model(s).\n",
    "- Testing Set: Employed to evaluate the final model after tuning and selecting the best one."
   ]
  },
  {
   "cell_type": "code",
   "execution_count": 155,
   "id": "e21c1f99-1845-4da6-b01c-c251fc7eb114",
   "metadata": {},
   "outputs": [
    {
     "name": "stdout",
     "output_type": "stream",
     "text": [
      "Training Data Size:  (4507, 20)\n",
      "Validation Data Size:  (1127, 20)\n",
      "Testing Data Size:  (1409, 20)\n"
     ]
    }
   ],
   "source": [
    "from sklearn.model_selection import train_test_split\n",
    "\n",
    "df_full_train, df_test = train_test_split(df, test_size=0.2, random_state=1)\n",
    "df_train, df_valid = train_test_split(df_full_train, test_size=0.2, random_state=1)\n",
    "print(\"Training Data Size: \", df_train.shape)\n",
    "print(\"Validation Data Size: \", df_valid.shape)\n",
    "print(\"Testing Data Size: \", df_test.shape)"
   ]
  },
  {
   "cell_type": "markdown",
   "id": "5aec807c-0abd-46a8-be10-8d3bad3ae99f",
   "metadata": {},
   "source": [
    "## Missing Values"
   ]
  },
  {
   "cell_type": "code",
   "execution_count": 156,
   "id": "e432e485-e6ce-4d62-b927-33117b9a81aa",
   "metadata": {},
   "outputs": [
    {
     "data": {
      "text/plain": [
       "gender              0\n",
       "seniorcitizen       0\n",
       "partner             0\n",
       "dependents          0\n",
       "tenure              0\n",
       "phoneservice        0\n",
       "multiplelines       0\n",
       "internetservice     0\n",
       "onlinesecurity      0\n",
       "onlinebackup        0\n",
       "deviceprotection    0\n",
       "techsupport         0\n",
       "streamingtv         0\n",
       "streamingmovies     0\n",
       "contract            0\n",
       "paperlessbilling    0\n",
       "paymentmethod       0\n",
       "monthlycharges      0\n",
       "totalcharges        6\n",
       "churn               0\n",
       "dtype: int64"
      ]
     },
     "execution_count": 156,
     "metadata": {},
     "output_type": "execute_result"
    }
   ],
   "source": [
    "df_train.isnull().sum()"
   ]
  },
  {
   "cell_type": "markdown",
   "id": "76c9dc12-b44d-4abe-b9d0-4a90125358ec",
   "metadata": {},
   "source": [
    "We have missing values in the \"total charges\" column and need to determine the optimal method for imputing them."
   ]
  },
  {
   "cell_type": "code",
   "execution_count": 157,
   "id": "edbd1f21-48c4-4fbe-b2a2-94367f5ba620",
   "metadata": {},
   "outputs": [
    {
     "name": "stdout",
     "output_type": "stream",
     "text": [
      "count    4501.000000\n",
      "mean     2240.586892\n",
      "std      2248.575970\n",
      "min        18.800000\n",
      "25%       385.550000\n",
      "50%      1360.250000\n",
      "75%      3713.950000\n",
      "max      8684.800000\n",
      "Name: totalcharges, dtype: float64\n"
     ]
    },
    {
     "data": {
      "text/plain": [
       "<Axes: >"
      ]
     },
     "execution_count": 157,
     "metadata": {},
     "output_type": "execute_result"
    },
    {
     "data": {
      "image/png": "[encoded data removed]",
      "text/plain": [
       "<Figure size 640x480 with 1 Axes>"
      ]
     },
     "metadata": {},
     "output_type": "display_data"
    }
   ],
   "source": [
    "print(df_train['totalcharges'].describe())\n",
    "df_train['totalcharges'].hist()"
   ]
  },
  {
   "cell_type": "markdown",
   "id": "ad4ad586-b413-4def-9099-ddcd9b937ed9",
   "metadata": {},
   "source": [
    "As the distribution of totalcharges is skewed, we can impute the missing values with its median"
   ]
  },
  {
   "cell_type": "markdown",
   "id": "037b51bd-5965-4913-8e64-69a893e77274",
   "metadata": {},
   "source": [
    "The median of \"total charges\" was computed from the training set and will be applied to the other sets."
   ]
  },
  {
   "cell_type": "code",
   "execution_count": 158,
   "id": "ada0191d-b6e2-41c1-a731-991310cdac71",
   "metadata": {},
   "outputs": [
    {
     "data": {
      "text/plain": [
       "6"
      ]
     },
     "execution_count": 158,
     "metadata": {},
     "output_type": "execute_result"
    }
   ],
   "source": [
    "df_train.totalcharges.isnull().sum()"
   ]
  },
  {
   "cell_type": "code",
   "execution_count": 159,
   "id": "cb9b8f22-3c1a-42b3-9de4-d8d73b553861",
   "metadata": {},
   "outputs": [
    {
     "data": {
      "text/plain": [
       "2"
      ]
     },
     "execution_count": 159,
     "metadata": {},
     "output_type": "execute_result"
    }
   ],
   "source": [
    "df_valid.totalcharges.isnull().sum()"
   ]
  },
  {
   "cell_type": "code",
   "execution_count": 160,
   "id": "9481fa7e-f8c6-49db-a525-11481c36f8d7",
   "metadata": {},
   "outputs": [
    {
     "data": {
      "text/plain": [
       "3"
      ]
     },
     "execution_count": 160,
     "metadata": {},
     "output_type": "execute_result"
    }
   ],
   "source": [
    "df_test.totalcharges.isnull().sum()"
   ]
  },
  {
   "cell_type": "code",
   "execution_count": 161,
   "id": "c7a3ad2b-e2f0-4ec4-961a-0b4517eb7dd7",
   "metadata": {},
   "outputs": [
    {
     "name": "stdout",
     "output_type": "stream",
     "text": [
      "0\n",
      "0\n",
      "0\n"
     ]
    }
   ],
   "source": [
    "total_charges_median = df_train['totalcharges'].median()\n",
    "\n",
    "# Imputing \n",
    "df_train['totalcharges'] = df_train['totalcharges'].fillna(total_charges_median)\n",
    "df_valid['totalcharges'] = df_valid['totalcharges'].fillna(total_charges_median)\n",
    "df_test['totalcharges'] = df_test['totalcharges'].fillna(total_charges_median)\n",
    "\n",
    "print(df_train.totalcharges.isnull().sum())\n",
    "print(df_valid.totalcharges.isnull().sum())\n",
    "print(df_test.totalcharges.isnull().sum())"
   ]
  },
  {
   "cell_type": "markdown",
   "id": "f20484d3-7f28-48bc-9919-162add23b72c",
   "metadata": {},
   "source": [
    "\n",
    "Exploratory Data Analysis (EDA) typically includes multiple visualizations to gain insights into the data."
   ]
  },
  {
   "cell_type": "code",
   "execution_count": 162,
   "id": "40e2a87a-6904-43d4-a572-f767f58c4114",
   "metadata": {},
   "outputs": [
    {
     "data": {
      "text/plain": [
       "Index(['gender', 'seniorcitizen', 'partner', 'dependents', 'phoneservice',\n",
       "       'multiplelines', 'internetservice', 'onlinesecurity', 'onlinebackup',\n",
       "       'deviceprotection', 'techsupport', 'streamingtv', 'streamingmovies',\n",
       "       'contract', 'paperlessbilling', 'paymentmethod'],\n",
       "      dtype='object')"
      ]
     },
     "execution_count": 162,
     "metadata": {},
     "output_type": "execute_result"
    }
   ],
   "source": [
    "df_train.select_dtypes(include=['object']).columns"
   ]
  },
  {
   "cell_type": "code",
   "execution_count": 163,
   "id": "66256e0f-a712-465e-9a01-e69d03ddfe87",
   "metadata": {},
   "outputs": [],
   "source": [
    "categorical = list(df_train.select_dtypes(include=['object']).columns)\n",
    "numerical = list(df_train.select_dtypes(include=['number']).columns)"
   ]
  },
  {
   "cell_type": "code",
   "execution_count": 164,
   "id": "d88d47d7-2d68-41e0-b5c7-126548241dca",
   "metadata": {},
   "outputs": [],
   "source": [
    "numerical.remove('churn')"
   ]
  },
  {
   "cell_type": "code",
   "execution_count": 165,
   "id": "b84f574d-2bb9-4fe2-9cf9-a693bdc3ad67",
   "metadata": {},
   "outputs": [
    {
     "data": {
      "text/plain": [
       "['tenure', 'monthlycharges', 'totalcharges']"
      ]
     },
     "execution_count": 165,
     "metadata": {},
     "output_type": "execute_result"
    }
   ],
   "source": [
    "numerical"
   ]
  },
  {
   "cell_type": "code",
   "execution_count": 166,
   "id": "f651f616-13b7-4a82-97e4-aa24e3518f53",
   "metadata": {},
   "outputs": [
    {
     "data": {
      "text/plain": [
       "gender              2\n",
       "seniorcitizen       2\n",
       "partner             2\n",
       "dependents          2\n",
       "phoneservice        2\n",
       "multiplelines       3\n",
       "internetservice     3\n",
       "onlinesecurity      3\n",
       "onlinebackup        3\n",
       "deviceprotection    3\n",
       "techsupport         3\n",
       "streamingtv         3\n",
       "streamingmovies     3\n",
       "contract            3\n",
       "paperlessbilling    2\n",
       "paymentmethod       4\n",
       "dtype: int64"
      ]
     },
     "execution_count": 166,
     "metadata": {},
     "output_type": "execute_result"
    }
   ],
   "source": [
    "df_train[categorical].nunique()"
   ]
  },
  {
   "cell_type": "markdown",
   "id": "4f49eab6-04de-4d11-89ce-5c645c69e491",
   "metadata": {},
   "source": [
    "Assessing feature importance is a common practice within exploratory data analysis, aiding in identifying variables crucial for the model. This analysis offers deeper insights into the dataset, addressing inquiries such as \"What factors contribute to customer churn?\" and \"What traits are associated with individuals who churn?\""
   ]
  },
  {
   "cell_type": "markdown",
   "id": "00d9e03a-c747-4685-918d-a3b22ee21409",
   "metadata": {},
   "source": [
    "The Risk Ratio is calculated as the group rate divided by the global rate.\n",
    "\n",
    "- A group with a risk ratio close to 1 indicates minimal risk.\n",
    "- A group with a risk ratio lower than 1 suggests that clients in this group are less likely to churn compared to the overall population.\n",
    "- A group with a risk ratio higher than 1 indicates a higher likelihood of churn within the group compared to the population as a whole."
   ]
  },
  {
   "cell_type": "code",
   "execution_count": 167,
   "id": "61f62b96-dbe2-4def-af48-77178329d537",
   "metadata": {},
   "outputs": [
    {
     "data": {
      "text/plain": [
       "0.27"
      ]
     },
     "execution_count": 167,
     "metadata": {},
     "output_type": "execute_result"
    }
   ],
   "source": [
    "global_mean = df_train.churn.mean()\n",
    "round(global_mean, 2)"
   ]
  },
  {
   "cell_type": "code",
   "execution_count": 168,
   "id": "ed4d8960-b0f2-431a-9f4b-ea1c14b106c0",
   "metadata": {},
   "outputs": [
    {
     "name": "stdout",
     "output_type": "stream",
     "text": [
      "int32\n",
      "[0 1]\n",
      "gender\n",
      "Female    0.274258\n",
      "Male      0.261778\n",
      "Name: churn, dtype: float64\n"
     ]
    }
   ],
   "source": [
    "# df_train.groupby('gender').mean()['churn']\n",
    "# Check data types\n",
    "\n",
    "print(df_train['churn'].dtype)\n",
    "\n",
    "# Check unique values\n",
    "print(df_train['churn'].unique())\n",
    "\n",
    "# Convert non-numeric values to NaN\n",
    "df_train['churn'] = pd.to_numeric(df_train['churn'], errors='coerce')\n",
    "\n",
    "# Remove rows with NaN values (if applicable)\n",
    "df_train = df_train.dropna(subset=['churn'])\n",
    "\n",
    "# Convert data type to numeric\n",
    "df_train['churn'] = df_train['churn'].astype(float)\n",
    "\n",
    "# Now you can try computing the mean again\n",
    "mean_churn_by_gender = df_train.groupby('gender')['churn'].mean()\n",
    "print(mean_churn_by_gender)"
   ]
  },
  {
   "cell_type": "code",
   "execution_count": 169,
   "id": "af736756-fda7-44a4-997f-a6546d42c569",
   "metadata": {},
   "outputs": [
    {
     "data": {
      "text/plain": [
       "gender\n",
       "Female    0.274258\n",
       "Male      0.261778\n",
       "Name: churn, dtype: float64"
      ]
     },
     "execution_count": 169,
     "metadata": {},
     "output_type": "execute_result"
    }
   ],
   "source": [
    "churn_gender = df_train.groupby('gender').churn.mean()\n",
    "churn_gender  # we can compare it with the global churn rate"
   ]
  },
  {
   "cell_type": "markdown",
   "id": "5d1a6196-a0c1-462a-b398-df7a4aedf252",
   "metadata": {},
   "source": [
    "The marginal disparity in rates renders the value insignificant when predicting churn, as this group of customers doesn't significantly differ from the rest of the customer base."
   ]
  },
  {
   "cell_type": "code",
   "execution_count": 170,
   "id": "e1c05644-c989-4555-b75a-114db69d382f",
   "metadata": {},
   "outputs": [
    {
     "data": {
      "text/plain": [
       "partner\n",
       "No     0.325838\n",
       "Yes    0.204651\n",
       "Name: churn, dtype: float64"
      ]
     },
     "execution_count": 170,
     "metadata": {},
     "output_type": "execute_result"
    }
   ],
   "source": [
    "churn_partner = df_train.groupby('partner').churn.mean()\n",
    "churn_partner"
   ]
  },
  {
   "cell_type": "markdown",
   "id": "c4b47e35-6c70-4799-aa46-6bf91d2da9fa",
   "metadata": {},
   "source": [
    "\n",
    "The variance is not negligible; there's something within that group that distinguishes it from the rest. A machine learning algorithm should be capable of discerning this and incorporating it into its predictions."
   ]
  },
  {
   "cell_type": "code",
   "execution_count": 171,
   "id": "88675082-6d89-4aeb-84cb-798c39eff1ff",
   "metadata": {},
   "outputs": [
    {
     "data": {
      "text/plain": [
       "gender\n",
       "Female    1.023245\n",
       "Male      0.976682\n",
       "Name: churn, dtype: float64"
      ]
     },
     "execution_count": 171,
     "metadata": {},
     "output_type": "execute_result"
    }
   ],
   "source": [
    "gender_risk = churn_gender / global_mean\n",
    "gender_risk"
   ]
  },
  {
   "cell_type": "code",
   "execution_count": 172,
   "id": "8d55f924-efcd-4bed-a332-8b05ac7a2936",
   "metadata": {},
   "outputs": [
    {
     "data": {
      "text/plain": [
       "partner\n",
       "No     1.215688\n",
       "Yes    0.763545\n",
       "Name: churn, dtype: float64"
      ]
     },
     "execution_count": 172,
     "metadata": {},
     "output_type": "execute_result"
    }
   ],
   "source": [
    "partner_risk = churn_partner / global_mean\n",
    "partner_risk"
   ]
  },
  {
   "cell_type": "markdown",
   "id": "177ea526-f68d-4b10-a9e6-4d7ea126d6e6",
   "metadata": {},
   "source": [
    "\n",
    "Let's summarize the Risk Ratio for all categorical features in tables."
   ]
  },
  {
   "cell_type": "code",
   "execution_count": 173,
   "id": "9c596cef-ac79-43d7-a35d-f5ecc877b769",
   "metadata": {},
   "outputs": [
    {
     "data": {
      "text/html": [
       "<div>\n",
       "<style scoped>\n",
       "    .dataframe tbody tr th:only-of-type {\n",
       "        vertical-align: middle;\n",
       "    }\n",
       "\n",
       "    .dataframe tbody tr th {\n",
       "        vertical-align: top;\n",
       "    }\n",
       "\n",
       "    .dataframe thead th {\n",
       "        text-align: right;\n",
       "    }\n",
       "</style>\n",
       "<table border=\"1\" class=\"dataframe\">\n",
       "  <thead>\n",
       "    <tr style=\"text-align: right;\">\n",
       "      <th></th>\n",
       "      <th>mean</th>\n",
       "      <th>diff</th>\n",
       "      <th>risk</th>\n",
       "    </tr>\n",
       "    <tr>\n",
       "      <th>gender</th>\n",
       "      <th></th>\n",
       "      <th></th>\n",
       "      <th></th>\n",
       "    </tr>\n",
       "  </thead>\n",
       "  <tbody>\n",
       "    <tr>\n",
       "      <th>Female</th>\n",
       "      <td>0.274258</td>\n",
       "      <td>0.00623</td>\n",
       "      <td>1.023245</td>\n",
       "    </tr>\n",
       "    <tr>\n",
       "      <th>Male</th>\n",
       "      <td>0.261778</td>\n",
       "      <td>-0.00625</td>\n",
       "      <td>0.976682</td>\n",
       "    </tr>\n",
       "  </tbody>\n",
       "</table>\n",
       "</div>"
      ],
      "text/plain": [
       "            mean     diff      risk\n",
       "gender                             \n",
       "Female  0.274258  0.00623  1.023245\n",
       "Male    0.261778 -0.00625  0.976682"
      ]
     },
     "metadata": {},
     "output_type": "display_data"
    },
    {
     "data": {
      "text/html": [
       "<div>\n",
       "<style scoped>\n",
       "    .dataframe tbody tr th:only-of-type {\n",
       "        vertical-align: middle;\n",
       "    }\n",
       "\n",
       "    .dataframe tbody tr th {\n",
       "        vertical-align: top;\n",
       "    }\n",
       "\n",
       "    .dataframe thead th {\n",
       "        text-align: right;\n",
       "    }\n",
       "</style>\n",
       "<table border=\"1\" class=\"dataframe\">\n",
       "  <thead>\n",
       "    <tr style=\"text-align: right;\">\n",
       "      <th></th>\n",
       "      <th>mean</th>\n",
       "      <th>diff</th>\n",
       "      <th>risk</th>\n",
       "    </tr>\n",
       "    <tr>\n",
       "      <th>seniorcitizen</th>\n",
       "      <th></th>\n",
       "      <th></th>\n",
       "      <th></th>\n",
       "    </tr>\n",
       "  </thead>\n",
       "  <tbody>\n",
       "    <tr>\n",
       "      <th>0</th>\n",
       "      <td>0.241700</td>\n",
       "      <td>-0.026328</td>\n",
       "      <td>0.901773</td>\n",
       "    </tr>\n",
       "    <tr>\n",
       "      <th>1</th>\n",
       "      <td>0.401617</td>\n",
       "      <td>0.133590</td>\n",
       "      <td>1.498418</td>\n",
       "    </tr>\n",
       "  </tbody>\n",
       "</table>\n",
       "</div>"
      ],
      "text/plain": [
       "                   mean      diff      risk\n",
       "seniorcitizen                              \n",
       "0              0.241700 -0.026328  0.901773\n",
       "1              0.401617  0.133590  1.498418"
      ]
     },
     "metadata": {},
     "output_type": "display_data"
    },
    {
     "data": {
      "text/html": [
       "<div>\n",
       "<style scoped>\n",
       "    .dataframe tbody tr th:only-of-type {\n",
       "        vertical-align: middle;\n",
       "    }\n",
       "\n",
       "    .dataframe tbody tr th {\n",
       "        vertical-align: top;\n",
       "    }\n",
       "\n",
       "    .dataframe thead th {\n",
       "        text-align: right;\n",
       "    }\n",
       "</style>\n",
       "<table border=\"1\" class=\"dataframe\">\n",
       "  <thead>\n",
       "    <tr style=\"text-align: right;\">\n",
       "      <th></th>\n",
       "      <th>mean</th>\n",
       "      <th>diff</th>\n",
       "      <th>risk</th>\n",
       "    </tr>\n",
       "    <tr>\n",
       "      <th>partner</th>\n",
       "      <th></th>\n",
       "      <th></th>\n",
       "      <th></th>\n",
       "    </tr>\n",
       "  </thead>\n",
       "  <tbody>\n",
       "    <tr>\n",
       "      <th>No</th>\n",
       "      <td>0.325838</td>\n",
       "      <td>0.057810</td>\n",
       "      <td>1.215688</td>\n",
       "    </tr>\n",
       "    <tr>\n",
       "      <th>Yes</th>\n",
       "      <td>0.204651</td>\n",
       "      <td>-0.063376</td>\n",
       "      <td>0.763545</td>\n",
       "    </tr>\n",
       "  </tbody>\n",
       "</table>\n",
       "</div>"
      ],
      "text/plain": [
       "             mean      diff      risk\n",
       "partner                              \n",
       "No       0.325838  0.057810  1.215688\n",
       "Yes      0.204651 -0.063376  0.763545"
      ]
     },
     "metadata": {},
     "output_type": "display_data"
    },
    {
     "data": {
      "text/html": [
       "<div>\n",
       "<style scoped>\n",
       "    .dataframe tbody tr th:only-of-type {\n",
       "        vertical-align: middle;\n",
       "    }\n",
       "\n",
       "    .dataframe tbody tr th {\n",
       "        vertical-align: top;\n",
       "    }\n",
       "\n",
       "    .dataframe thead th {\n",
       "        text-align: right;\n",
       "    }\n",
       "</style>\n",
       "<table border=\"1\" class=\"dataframe\">\n",
       "  <thead>\n",
       "    <tr style=\"text-align: right;\">\n",
       "      <th></th>\n",
       "      <th>mean</th>\n",
       "      <th>diff</th>\n",
       "      <th>risk</th>\n",
       "    </tr>\n",
       "    <tr>\n",
       "      <th>dependents</th>\n",
       "      <th></th>\n",
       "      <th></th>\n",
       "      <th></th>\n",
       "    </tr>\n",
       "  </thead>\n",
       "  <tbody>\n",
       "    <tr>\n",
       "      <th>No</th>\n",
       "      <td>0.312599</td>\n",
       "      <td>0.044572</td>\n",
       "      <td>1.166295</td>\n",
       "    </tr>\n",
       "    <tr>\n",
       "      <th>Yes</th>\n",
       "      <td>0.164454</td>\n",
       "      <td>-0.103573</td>\n",
       "      <td>0.613572</td>\n",
       "    </tr>\n",
       "  </tbody>\n",
       "</table>\n",
       "</div>"
      ],
      "text/plain": [
       "                mean      diff      risk\n",
       "dependents                              \n",
       "No          0.312599  0.044572  1.166295\n",
       "Yes         0.164454 -0.103573  0.613572"
      ]
     },
     "metadata": {},
     "output_type": "display_data"
    },
    {
     "data": {
      "text/html": [
       "<div>\n",
       "<style scoped>\n",
       "    .dataframe tbody tr th:only-of-type {\n",
       "        vertical-align: middle;\n",
       "    }\n",
       "\n",
       "    .dataframe tbody tr th {\n",
       "        vertical-align: top;\n",
       "    }\n",
       "\n",
       "    .dataframe thead th {\n",
       "        text-align: right;\n",
       "    }\n",
       "</style>\n",
       "<table border=\"1\" class=\"dataframe\">\n",
       "  <thead>\n",
       "    <tr style=\"text-align: right;\">\n",
       "      <th></th>\n",
       "      <th>mean</th>\n",
       "      <th>diff</th>\n",
       "      <th>risk</th>\n",
       "    </tr>\n",
       "    <tr>\n",
       "      <th>phoneservice</th>\n",
       "      <th></th>\n",
       "      <th></th>\n",
       "      <th></th>\n",
       "    </tr>\n",
       "  </thead>\n",
       "  <tbody>\n",
       "    <tr>\n",
       "      <th>No</th>\n",
       "      <td>0.249438</td>\n",
       "      <td>-0.018589</td>\n",
       "      <td>0.930644</td>\n",
       "    </tr>\n",
       "    <tr>\n",
       "      <th>Yes</th>\n",
       "      <td>0.270064</td>\n",
       "      <td>0.002036</td>\n",
       "      <td>1.007598</td>\n",
       "    </tr>\n",
       "  </tbody>\n",
       "</table>\n",
       "</div>"
      ],
      "text/plain": [
       "                  mean      diff      risk\n",
       "phoneservice                              \n",
       "No            0.249438 -0.018589  0.930644\n",
       "Yes           0.270064  0.002036  1.007598"
      ]
     },
     "metadata": {},
     "output_type": "display_data"
    },
    {
     "data": {
      "text/html": [
       "<div>\n",
       "<style scoped>\n",
       "    .dataframe tbody tr th:only-of-type {\n",
       "        vertical-align: middle;\n",
       "    }\n",
       "\n",
       "    .dataframe tbody tr th {\n",
       "        vertical-align: top;\n",
       "    }\n",
       "\n",
       "    .dataframe thead th {\n",
       "        text-align: right;\n",
       "    }\n",
       "</style>\n",
       "<table border=\"1\" class=\"dataframe\">\n",
       "  <thead>\n",
       "    <tr style=\"text-align: right;\">\n",
       "      <th></th>\n",
       "      <th>mean</th>\n",
       "      <th>diff</th>\n",
       "      <th>risk</th>\n",
       "    </tr>\n",
       "    <tr>\n",
       "      <th>multiplelines</th>\n",
       "      <th></th>\n",
       "      <th></th>\n",
       "      <th></th>\n",
       "    </tr>\n",
       "  </thead>\n",
       "  <tbody>\n",
       "    <tr>\n",
       "      <th>No</th>\n",
       "      <td>0.253358</td>\n",
       "      <td>-0.014669</td>\n",
       "      <td>0.945269</td>\n",
       "    </tr>\n",
       "    <tr>\n",
       "      <th>No phone service</th>\n",
       "      <td>0.249438</td>\n",
       "      <td>-0.018589</td>\n",
       "      <td>0.930644</td>\n",
       "    </tr>\n",
       "    <tr>\n",
       "      <th>Yes</th>\n",
       "      <td>0.289017</td>\n",
       "      <td>0.020990</td>\n",
       "      <td>1.078312</td>\n",
       "    </tr>\n",
       "  </tbody>\n",
       "</table>\n",
       "</div>"
      ],
      "text/plain": [
       "                      mean      diff      risk\n",
       "multiplelines                                 \n",
       "No                0.253358 -0.014669  0.945269\n",
       "No phone service  0.249438 -0.018589  0.930644\n",
       "Yes               0.289017  0.020990  1.078312"
      ]
     },
     "metadata": {},
     "output_type": "display_data"
    },
    {
     "data": {
      "text/html": [
       "<div>\n",
       "<style scoped>\n",
       "    .dataframe tbody tr th:only-of-type {\n",
       "        vertical-align: middle;\n",
       "    }\n",
       "\n",
       "    .dataframe tbody tr th {\n",
       "        vertical-align: top;\n",
       "    }\n",
       "\n",
       "    .dataframe thead th {\n",
       "        text-align: right;\n",
       "    }\n",
       "</style>\n",
       "<table border=\"1\" class=\"dataframe\">\n",
       "  <thead>\n",
       "    <tr style=\"text-align: right;\">\n",
       "      <th></th>\n",
       "      <th>mean</th>\n",
       "      <th>diff</th>\n",
       "      <th>risk</th>\n",
       "    </tr>\n",
       "    <tr>\n",
       "      <th>internetservice</th>\n",
       "      <th></th>\n",
       "      <th></th>\n",
       "      <th></th>\n",
       "    </tr>\n",
       "  </thead>\n",
       "  <tbody>\n",
       "    <tr>\n",
       "      <th>DSL</th>\n",
       "      <td>0.195232</td>\n",
       "      <td>-0.072796</td>\n",
       "      <td>0.728403</td>\n",
       "    </tr>\n",
       "    <tr>\n",
       "      <th>Fiber optic</th>\n",
       "      <td>0.421779</td>\n",
       "      <td>0.153752</td>\n",
       "      <td>1.573641</td>\n",
       "    </tr>\n",
       "    <tr>\n",
       "      <th>No</th>\n",
       "      <td>0.080080</td>\n",
       "      <td>-0.187947</td>\n",
       "      <td>0.298776</td>\n",
       "    </tr>\n",
       "  </tbody>\n",
       "</table>\n",
       "</div>"
      ],
      "text/plain": [
       "                     mean      diff      risk\n",
       "internetservice                              \n",
       "DSL              0.195232 -0.072796  0.728403\n",
       "Fiber optic      0.421779  0.153752  1.573641\n",
       "No               0.080080 -0.187947  0.298776"
      ]
     },
     "metadata": {},
     "output_type": "display_data"
    },
    {
     "data": {
      "text/html": [
       "<div>\n",
       "<style scoped>\n",
       "    .dataframe tbody tr th:only-of-type {\n",
       "        vertical-align: middle;\n",
       "    }\n",
       "\n",
       "    .dataframe tbody tr th {\n",
       "        vertical-align: top;\n",
       "    }\n",
       "\n",
       "    .dataframe thead th {\n",
       "        text-align: right;\n",
       "    }\n",
       "</style>\n",
       "<table border=\"1\" class=\"dataframe\">\n",
       "  <thead>\n",
       "    <tr style=\"text-align: right;\">\n",
       "      <th></th>\n",
       "      <th>mean</th>\n",
       "      <th>diff</th>\n",
       "      <th>risk</th>\n",
       "    </tr>\n",
       "    <tr>\n",
       "      <th>onlinesecurity</th>\n",
       "      <th></th>\n",
       "      <th></th>\n",
       "      <th></th>\n",
       "    </tr>\n",
       "  </thead>\n",
       "  <tbody>\n",
       "    <tr>\n",
       "      <th>No</th>\n",
       "      <td>0.419964</td>\n",
       "      <td>0.151937</td>\n",
       "      <td>1.566869</td>\n",
       "    </tr>\n",
       "    <tr>\n",
       "      <th>No internet service</th>\n",
       "      <td>0.080080</td>\n",
       "      <td>-0.187947</td>\n",
       "      <td>0.298776</td>\n",
       "    </tr>\n",
       "    <tr>\n",
       "      <th>Yes</th>\n",
       "      <td>0.151090</td>\n",
       "      <td>-0.116937</td>\n",
       "      <td>0.563712</td>\n",
       "    </tr>\n",
       "  </tbody>\n",
       "</table>\n",
       "</div>"
      ],
      "text/plain": [
       "                         mean      diff      risk\n",
       "onlinesecurity                                   \n",
       "No                   0.419964  0.151937  1.566869\n",
       "No internet service  0.080080 -0.187947  0.298776\n",
       "Yes                  0.151090 -0.116937  0.563712"
      ]
     },
     "metadata": {},
     "output_type": "display_data"
    },
    {
     "data": {
      "text/html": [
       "<div>\n",
       "<style scoped>\n",
       "    .dataframe tbody tr th:only-of-type {\n",
       "        vertical-align: middle;\n",
       "    }\n",
       "\n",
       "    .dataframe tbody tr th {\n",
       "        vertical-align: top;\n",
       "    }\n",
       "\n",
       "    .dataframe thead th {\n",
       "        text-align: right;\n",
       "    }\n",
       "</style>\n",
       "<table border=\"1\" class=\"dataframe\">\n",
       "  <thead>\n",
       "    <tr style=\"text-align: right;\">\n",
       "      <th></th>\n",
       "      <th>mean</th>\n",
       "      <th>diff</th>\n",
       "      <th>risk</th>\n",
       "    </tr>\n",
       "    <tr>\n",
       "      <th>onlinebackup</th>\n",
       "      <th></th>\n",
       "      <th></th>\n",
       "      <th></th>\n",
       "    </tr>\n",
       "  </thead>\n",
       "  <tbody>\n",
       "    <tr>\n",
       "      <th>No</th>\n",
       "      <td>0.396020</td>\n",
       "      <td>0.127992</td>\n",
       "      <td>1.477535</td>\n",
       "    </tr>\n",
       "    <tr>\n",
       "      <th>No internet service</th>\n",
       "      <td>0.080080</td>\n",
       "      <td>-0.187947</td>\n",
       "      <td>0.298776</td>\n",
       "    </tr>\n",
       "    <tr>\n",
       "      <th>Yes</th>\n",
       "      <td>0.221629</td>\n",
       "      <td>-0.046399</td>\n",
       "      <td>0.826888</td>\n",
       "    </tr>\n",
       "  </tbody>\n",
       "</table>\n",
       "</div>"
      ],
      "text/plain": [
       "                         mean      diff      risk\n",
       "onlinebackup                                     \n",
       "No                   0.396020  0.127992  1.477535\n",
       "No internet service  0.080080 -0.187947  0.298776\n",
       "Yes                  0.221629 -0.046399  0.826888"
      ]
     },
     "metadata": {},
     "output_type": "display_data"
    },
    {
     "data": {
      "text/html": [
       "<div>\n",
       "<style scoped>\n",
       "    .dataframe tbody tr th:only-of-type {\n",
       "        vertical-align: middle;\n",
       "    }\n",
       "\n",
       "    .dataframe tbody tr th {\n",
       "        vertical-align: top;\n",
       "    }\n",
       "\n",
       "    .dataframe thead th {\n",
       "        text-align: right;\n",
       "    }\n",
       "</style>\n",
       "<table border=\"1\" class=\"dataframe\">\n",
       "  <thead>\n",
       "    <tr style=\"text-align: right;\">\n",
       "      <th></th>\n",
       "      <th>mean</th>\n",
       "      <th>diff</th>\n",
       "      <th>risk</th>\n",
       "    </tr>\n",
       "    <tr>\n",
       "      <th>deviceprotection</th>\n",
       "      <th></th>\n",
       "      <th></th>\n",
       "      <th></th>\n",
       "    </tr>\n",
       "  </thead>\n",
       "  <tbody>\n",
       "    <tr>\n",
       "      <th>No</th>\n",
       "      <td>0.392514</td>\n",
       "      <td>0.124486</td>\n",
       "      <td>1.464454</td>\n",
       "    </tr>\n",
       "    <tr>\n",
       "      <th>No internet service</th>\n",
       "      <td>0.080080</td>\n",
       "      <td>-0.187947</td>\n",
       "      <td>0.298776</td>\n",
       "    </tr>\n",
       "    <tr>\n",
       "      <th>Yes</th>\n",
       "      <td>0.229915</td>\n",
       "      <td>-0.038112</td>\n",
       "      <td>0.857804</td>\n",
       "    </tr>\n",
       "  </tbody>\n",
       "</table>\n",
       "</div>"
      ],
      "text/plain": [
       "                         mean      diff      risk\n",
       "deviceprotection                                 \n",
       "No                   0.392514  0.124486  1.464454\n",
       "No internet service  0.080080 -0.187947  0.298776\n",
       "Yes                  0.229915 -0.038112  0.857804"
      ]
     },
     "metadata": {},
     "output_type": "display_data"
    },
    {
     "data": {
      "text/html": [
       "<div>\n",
       "<style scoped>\n",
       "    .dataframe tbody tr th:only-of-type {\n",
       "        vertical-align: middle;\n",
       "    }\n",
       "\n",
       "    .dataframe tbody tr th {\n",
       "        vertical-align: top;\n",
       "    }\n",
       "\n",
       "    .dataframe thead th {\n",
       "        text-align: right;\n",
       "    }\n",
       "</style>\n",
       "<table border=\"1\" class=\"dataframe\">\n",
       "  <thead>\n",
       "    <tr style=\"text-align: right;\">\n",
       "      <th></th>\n",
       "      <th>mean</th>\n",
       "      <th>diff</th>\n",
       "      <th>risk</th>\n",
       "    </tr>\n",
       "    <tr>\n",
       "      <th>techsupport</th>\n",
       "      <th></th>\n",
       "      <th></th>\n",
       "      <th></th>\n",
       "    </tr>\n",
       "  </thead>\n",
       "  <tbody>\n",
       "    <tr>\n",
       "      <th>No</th>\n",
       "      <td>0.416554</td>\n",
       "      <td>0.148526</td>\n",
       "      <td>1.554145</td>\n",
       "    </tr>\n",
       "    <tr>\n",
       "      <th>No internet service</th>\n",
       "      <td>0.080080</td>\n",
       "      <td>-0.187947</td>\n",
       "      <td>0.298776</td>\n",
       "    </tr>\n",
       "    <tr>\n",
       "      <th>Yes</th>\n",
       "      <td>0.159599</td>\n",
       "      <td>-0.108428</td>\n",
       "      <td>0.595458</td>\n",
       "    </tr>\n",
       "  </tbody>\n",
       "</table>\n",
       "</div>"
      ],
      "text/plain": [
       "                         mean      diff      risk\n",
       "techsupport                                      \n",
       "No                   0.416554  0.148526  1.554145\n",
       "No internet service  0.080080 -0.187947  0.298776\n",
       "Yes                  0.159599 -0.108428  0.595458"
      ]
     },
     "metadata": {},
     "output_type": "display_data"
    },
    {
     "data": {
      "text/html": [
       "<div>\n",
       "<style scoped>\n",
       "    .dataframe tbody tr th:only-of-type {\n",
       "        vertical-align: middle;\n",
       "    }\n",
       "\n",
       "    .dataframe tbody tr th {\n",
       "        vertical-align: top;\n",
       "    }\n",
       "\n",
       "    .dataframe thead th {\n",
       "        text-align: right;\n",
       "    }\n",
       "</style>\n",
       "<table border=\"1\" class=\"dataframe\">\n",
       "  <thead>\n",
       "    <tr style=\"text-align: right;\">\n",
       "      <th></th>\n",
       "      <th>mean</th>\n",
       "      <th>diff</th>\n",
       "      <th>risk</th>\n",
       "    </tr>\n",
       "    <tr>\n",
       "      <th>streamingtv</th>\n",
       "      <th></th>\n",
       "      <th></th>\n",
       "      <th></th>\n",
       "    </tr>\n",
       "  </thead>\n",
       "  <tbody>\n",
       "    <tr>\n",
       "      <th>No</th>\n",
       "      <td>0.344674</td>\n",
       "      <td>0.076646</td>\n",
       "      <td>1.285964</td>\n",
       "    </tr>\n",
       "    <tr>\n",
       "      <th>No internet service</th>\n",
       "      <td>0.080080</td>\n",
       "      <td>-0.187947</td>\n",
       "      <td>0.298776</td>\n",
       "    </tr>\n",
       "    <tr>\n",
       "      <th>Yes</th>\n",
       "      <td>0.297376</td>\n",
       "      <td>0.029349</td>\n",
       "      <td>1.109498</td>\n",
       "    </tr>\n",
       "  </tbody>\n",
       "</table>\n",
       "</div>"
      ],
      "text/plain": [
       "                         mean      diff      risk\n",
       "streamingtv                                      \n",
       "No                   0.344674  0.076646  1.285964\n",
       "No internet service  0.080080 -0.187947  0.298776\n",
       "Yes                  0.297376  0.029349  1.109498"
      ]
     },
     "metadata": {},
     "output_type": "display_data"
    },
    {
     "data": {
      "text/html": [
       "<div>\n",
       "<style scoped>\n",
       "    .dataframe tbody tr th:only-of-type {\n",
       "        vertical-align: middle;\n",
       "    }\n",
       "\n",
       "    .dataframe tbody tr th {\n",
       "        vertical-align: top;\n",
       "    }\n",
       "\n",
       "    .dataframe thead th {\n",
       "        text-align: right;\n",
       "    }\n",
       "</style>\n",
       "<table border=\"1\" class=\"dataframe\">\n",
       "  <thead>\n",
       "    <tr style=\"text-align: right;\">\n",
       "      <th></th>\n",
       "      <th>mean</th>\n",
       "      <th>diff</th>\n",
       "      <th>risk</th>\n",
       "    </tr>\n",
       "    <tr>\n",
       "      <th>streamingmovies</th>\n",
       "      <th></th>\n",
       "      <th></th>\n",
       "      <th></th>\n",
       "    </tr>\n",
       "  </thead>\n",
       "  <tbody>\n",
       "    <tr>\n",
       "      <th>No</th>\n",
       "      <td>0.338609</td>\n",
       "      <td>0.070582</td>\n",
       "      <td>1.263338</td>\n",
       "    </tr>\n",
       "    <tr>\n",
       "      <th>No internet service</th>\n",
       "      <td>0.080080</td>\n",
       "      <td>-0.187947</td>\n",
       "      <td>0.298776</td>\n",
       "    </tr>\n",
       "    <tr>\n",
       "      <th>Yes</th>\n",
       "      <td>0.304198</td>\n",
       "      <td>0.036170</td>\n",
       "      <td>1.134950</td>\n",
       "    </tr>\n",
       "  </tbody>\n",
       "</table>\n",
       "</div>"
      ],
      "text/plain": [
       "                         mean      diff      risk\n",
       "streamingmovies                                  \n",
       "No                   0.338609  0.070582  1.263338\n",
       "No internet service  0.080080 -0.187947  0.298776\n",
       "Yes                  0.304198  0.036170  1.134950"
      ]
     },
     "metadata": {},
     "output_type": "display_data"
    },
    {
     "data": {
      "text/html": [
       "<div>\n",
       "<style scoped>\n",
       "    .dataframe tbody tr th:only-of-type {\n",
       "        vertical-align: middle;\n",
       "    }\n",
       "\n",
       "    .dataframe tbody tr th {\n",
       "        vertical-align: top;\n",
       "    }\n",
       "\n",
       "    .dataframe thead th {\n",
       "        text-align: right;\n",
       "    }\n",
       "</style>\n",
       "<table border=\"1\" class=\"dataframe\">\n",
       "  <thead>\n",
       "    <tr style=\"text-align: right;\">\n",
       "      <th></th>\n",
       "      <th>mean</th>\n",
       "      <th>diff</th>\n",
       "      <th>risk</th>\n",
       "    </tr>\n",
       "    <tr>\n",
       "      <th>contract</th>\n",
       "      <th></th>\n",
       "      <th></th>\n",
       "      <th></th>\n",
       "    </tr>\n",
       "  </thead>\n",
       "  <tbody>\n",
       "    <tr>\n",
       "      <th>Month-to-month</th>\n",
       "      <td>0.432509</td>\n",
       "      <td>0.164482</td>\n",
       "      <td>1.613674</td>\n",
       "    </tr>\n",
       "    <tr>\n",
       "      <th>One year</th>\n",
       "      <td>0.115822</td>\n",
       "      <td>-0.152205</td>\n",
       "      <td>0.432128</td>\n",
       "    </tr>\n",
       "    <tr>\n",
       "      <th>Two year</th>\n",
       "      <td>0.027027</td>\n",
       "      <td>-0.241000</td>\n",
       "      <td>0.100837</td>\n",
       "    </tr>\n",
       "  </tbody>\n",
       "</table>\n",
       "</div>"
      ],
      "text/plain": [
       "                    mean      diff      risk\n",
       "contract                                    \n",
       "Month-to-month  0.432509  0.164482  1.613674\n",
       "One year        0.115822 -0.152205  0.432128\n",
       "Two year        0.027027 -0.241000  0.100837"
      ]
     },
     "metadata": {},
     "output_type": "display_data"
    },
    {
     "data": {
      "text/html": [
       "<div>\n",
       "<style scoped>\n",
       "    .dataframe tbody tr th:only-of-type {\n",
       "        vertical-align: middle;\n",
       "    }\n",
       "\n",
       "    .dataframe tbody tr th {\n",
       "        vertical-align: top;\n",
       "    }\n",
       "\n",
       "    .dataframe thead th {\n",
       "        text-align: right;\n",
       "    }\n",
       "</style>\n",
       "<table border=\"1\" class=\"dataframe\">\n",
       "  <thead>\n",
       "    <tr style=\"text-align: right;\">\n",
       "      <th></th>\n",
       "      <th>mean</th>\n",
       "      <th>diff</th>\n",
       "      <th>risk</th>\n",
       "    </tr>\n",
       "    <tr>\n",
       "      <th>paperlessbilling</th>\n",
       "      <th></th>\n",
       "      <th></th>\n",
       "      <th></th>\n",
       "    </tr>\n",
       "  </thead>\n",
       "  <tbody>\n",
       "    <tr>\n",
       "      <th>No</th>\n",
       "      <td>0.171566</td>\n",
       "      <td>-0.096462</td>\n",
       "      <td>0.640106</td>\n",
       "    </tr>\n",
       "    <tr>\n",
       "      <th>Yes</th>\n",
       "      <td>0.336495</td>\n",
       "      <td>0.068467</td>\n",
       "      <td>1.255448</td>\n",
       "    </tr>\n",
       "  </tbody>\n",
       "</table>\n",
       "</div>"
      ],
      "text/plain": [
       "                      mean      diff      risk\n",
       "paperlessbilling                              \n",
       "No                0.171566 -0.096462  0.640106\n",
       "Yes               0.336495  0.068467  1.255448"
      ]
     },
     "metadata": {},
     "output_type": "display_data"
    },
    {
     "data": {
      "text/html": [
       "<div>\n",
       "<style scoped>\n",
       "    .dataframe tbody tr th:only-of-type {\n",
       "        vertical-align: middle;\n",
       "    }\n",
       "\n",
       "    .dataframe tbody tr th {\n",
       "        vertical-align: top;\n",
       "    }\n",
       "\n",
       "    .dataframe thead th {\n",
       "        text-align: right;\n",
       "    }\n",
       "</style>\n",
       "<table border=\"1\" class=\"dataframe\">\n",
       "  <thead>\n",
       "    <tr style=\"text-align: right;\">\n",
       "      <th></th>\n",
       "      <th>mean</th>\n",
       "      <th>diff</th>\n",
       "      <th>risk</th>\n",
       "    </tr>\n",
       "    <tr>\n",
       "      <th>paymentmethod</th>\n",
       "      <th></th>\n",
       "      <th></th>\n",
       "      <th></th>\n",
       "    </tr>\n",
       "  </thead>\n",
       "  <tbody>\n",
       "    <tr>\n",
       "      <th>Bank transfer (automatic)</th>\n",
       "      <td>0.164622</td>\n",
       "      <td>-0.103406</td>\n",
       "      <td>0.614197</td>\n",
       "    </tr>\n",
       "    <tr>\n",
       "      <th>Credit card (automatic)</th>\n",
       "      <td>0.175620</td>\n",
       "      <td>-0.092408</td>\n",
       "      <td>0.655231</td>\n",
       "    </tr>\n",
       "    <tr>\n",
       "      <th>Electronic check</th>\n",
       "      <td>0.441215</td>\n",
       "      <td>0.173188</td>\n",
       "      <td>1.646157</td>\n",
       "    </tr>\n",
       "    <tr>\n",
       "      <th>Mailed check</th>\n",
       "      <td>0.199618</td>\n",
       "      <td>-0.068410</td>\n",
       "      <td>0.744767</td>\n",
       "    </tr>\n",
       "  </tbody>\n",
       "</table>\n",
       "</div>"
      ],
      "text/plain": [
       "                               mean      diff      risk\n",
       "paymentmethod                                          \n",
       "Bank transfer (automatic)  0.164622 -0.103406  0.614197\n",
       "Credit card (automatic)    0.175620 -0.092408  0.655231\n",
       "Electronic check           0.441215  0.173188  1.646157\n",
       "Mailed check               0.199618 -0.068410  0.744767"
      ]
     },
     "metadata": {},
     "output_type": "display_data"
    }
   ],
   "source": [
    "from IPython.display import display\n",
    "for feature in categorical:                                           \n",
    "    df_group = df_train.groupby(by=feature).churn.agg(['mean']) \n",
    "    df_group['diff'] = df_group['mean'] - global_mean\n",
    "    df_group['risk'] = df_group['mean'] / global_mean\n",
    "    display(df_group)"
   ]
  },
  {
   "cell_type": "code",
   "execution_count": 174,
   "id": "eff41b0a-07a9-42c8-9635-10e7096b0a0f",
   "metadata": {},
   "outputs": [
    {
     "data": {
      "image/png": "[encoded data removed]",
      "text/plain": [
       "<Figure size 640x480 with 1 Axes>"
      ]
     },
     "metadata": {},
     "output_type": "display_data"
    },
    {
     "data": {
      "image/png": "[encoded data removed]",
      "text/plain": [
       "<Figure size 640x480 with 1 Axes>"
      ]
     },
     "metadata": {},
     "output_type": "display_data"
    },
    {
     "data": {
      "image/png": "[encoded data removed]",
      "text/plain": [
       "<Figure size 640x480 with 1 Axes>"
      ]
     },
     "metadata": {},
     "output_type": "display_data"
    }
   ],
   "source": [
    "df['churn'] = df['churn'].astype(str)\n",
    "\n",
    "for feature in categorical[:3]:                                           \n",
    "    _=sns.countplot(x= feature, hue = 'churn', data=df)\n",
    "    plt.show()"
   ]
  },
  {
   "cell_type": "code",
   "execution_count": 175,
   "id": "33b3cc48-84a7-4f3e-8f3c-28a7abd7cfdc",
   "metadata": {},
   "outputs": [
    {
     "data": {
      "image/png": "[encoded data removed]",
      "text/plain": [
       "<Figure size 640x480 with 1 Axes>"
      ]
     },
     "metadata": {},
     "output_type": "display_data"
    },
    {
     "data": {
      "image/png": "[encoded data removed]",
      "text/plain": [
       "<Figure size 640x480 with 1 Axes>"
      ]
     },
     "metadata": {},
     "output_type": "display_data"
    },
    {
     "data": {
      "image/png": "[encoded data removed]",
      "text/plain": [
       "<Figure size 640x480 with 1 Axes>"
      ]
     },
     "metadata": {},
     "output_type": "display_data"
    },
    {
     "data": {
      "image/png": "[encoded data removed]",
      "text/plain": [
       "<Figure size 640x480 with 1 Axes>"
      ]
     },
     "metadata": {},
     "output_type": "display_data"
    },
    {
     "data": {
      "image/png": "[encoded data removed]",
      "text/plain": [
       "<Figure size 640x480 with 1 Axes>"
      ]
     },
     "metadata": {},
     "output_type": "display_data"
    },
    {
     "data": {
      "image/png": "[encoded data removed]",
      "text/plain": [
       "<Figure size 640x480 with 1 Axes>"
      ]
     },
     "metadata": {},
     "output_type": "display_data"
    },
    {
     "data": {
      "image/png": "[encoded data removed]",
      "text/plain": [
       "<Figure size 640x480 with 1 Axes>"
      ]
     },
     "metadata": {},
     "output_type": "display_data"
    },
    {
     "data": {
      "image/png": "[encoded data removed]",
      "text/plain": [
       "<Figure size 640x480 with 1 Axes>"
      ]
     },
     "metadata": {},
     "output_type": "display_data"
    },
    {
     "data": {
      "image/png": "[encoded data removed]",
      "text/plain": [
       "<Figure size 640x480 with 1 Axes>"
      ]
     },
     "metadata": {},
     "output_type": "display_data"
    },
    {
     "data": {
      "image/png": "[encoded data removed]",
      "text/plain": [
       "<Figure size 640x480 with 1 Axes>"
      ]
     },
     "metadata": {},
     "output_type": "display_data"
    },
    {
     "data": {
      "image/png": "[encoded data removed]",
      "text/plain": [
       "<Figure size 640x480 with 1 Axes>"
      ]
     },
     "metadata": {},
     "output_type": "display_data"
    },
    {
     "data": {
      "image/png": "[encoded data removed]",
      "text/plain": [
       "<Figure size 640x480 with 1 Axes>"
      ]
     },
     "metadata": {},
     "output_type": "display_data"
    },
    {
     "data": {
      "image/png": "[encoded data removed]",
      "text/plain": [
       "<Figure size 640x480 with 1 Axes>"
      ]
     },
     "metadata": {},
     "output_type": "display_data"
    },
    {
     "data": {
      "image/png": "[encoded data removed]",
      "text/plain": [
       "<Figure size 640x480 with 1 Axes>"
      ]
     },
     "metadata": {},
     "output_type": "display_data"
    },
    {
     "data": {
      "image/png": "[encoded data removed]",
      "text/plain": [
       "<Figure size 640x480 with 1 Axes>"
      ]
     },
     "metadata": {},
     "output_type": "display_data"
    },
    {
     "data": {
      "image/png": "[encoded data removed]",
      "text/plain": [
       "<Figure size 640x480 with 1 Axes>"
      ]
     },
     "metadata": {},
     "output_type": "display_data"
    }
   ],
   "source": [
    "for feature in categorical:                                           \n",
    "    df_group = df_train.groupby(by=feature).churn.agg(['mean']).reset_index()\n",
    "    graph=sns.barplot(x= feature, y = 'mean', data=df_group, palette='Greens')\n",
    "    graph.axhline(global_mean, linewidth=3, color='b')\n",
    "    plt.text(0, global_mean - 0.03, \"global_mean\", color='black', weight='semibold')\n",
    "    plt.show()"
   ]
  },
  {
   "cell_type": "markdown",
   "id": "7e76dc3b-3988-4753-9aa9-82fde6d9aaf2",
   "metadata": {},
   "source": [
    "- Gender doesn't show a significant difference in churn rates between females and males.\n",
    "- Senior citizens are more prone to churn compared to non-seniors.\n",
    "- Customers with a partner exhibit lower churn rates than those without.\n",
    "- Subscribers utilizing phone services have lower churn rates, while those without phone services are even less likely to churn.\n",
    "- Clients lacking tech support are more likely to churn compared to those with tech support.\n",
    "- Monthly contract holders demonstrate higher cancellation rates, whereas individuals with two-year contracts churn very infrequently."
   ]
  },
  {
   "cell_type": "markdown",
   "id": "2dc03b8d-4182-4473-9532-fddf4f29948b",
   "metadata": {},
   "source": [
    "# Mutual Information"
   ]
  },
  {
   "cell_type": "markdown",
   "id": "f2700353-76d1-47ad-8156-9078fd22be7d",
   "metadata": {},
   "source": [
    "- It's more effective to compare the importance of features.\n",
    "- Mutual information provides a measure to quantify the level of dependency between two categorical variables. However, it's ineffective when one of the features is numerical.\n",
    "- The mutual information between a feature and the target variable is calculated as the entropy of the feature minus the conditional entropy of the feature given the target."
   ]
  },
  {
   "cell_type": "markdown",
   "id": "2f5415d3",
   "metadata": {},
   "source": []
  },
  {
   "cell_type": "code",
   "execution_count": 176,
   "id": "6df4df8e-bb17-43db-978f-924c94a9e4f6",
   "metadata": {},
   "outputs": [
    {
     "data": {
      "text/html": [
       "<div>\n",
       "<style scoped>\n",
       "    .dataframe tbody tr th:only-of-type {\n",
       "        vertical-align: middle;\n",
       "    }\n",
       "\n",
       "    .dataframe tbody tr th {\n",
       "        vertical-align: top;\n",
       "    }\n",
       "\n",
       "    .dataframe thead th {\n",
       "        text-align: right;\n",
       "    }\n",
       "</style>\n",
       "<table border=\"1\" class=\"dataframe\">\n",
       "  <thead>\n",
       "    <tr style=\"text-align: right;\">\n",
       "      <th></th>\n",
       "      <th>MI</th>\n",
       "    </tr>\n",
       "  </thead>\n",
       "  <tbody>\n",
       "    <tr>\n",
       "      <th>contract</th>\n",
       "      <td>0.100378</td>\n",
       "    </tr>\n",
       "    <tr>\n",
       "      <th>onlinesecurity</th>\n",
       "      <td>0.062802</td>\n",
       "    </tr>\n",
       "    <tr>\n",
       "      <th>techsupport</th>\n",
       "      <td>0.059945</td>\n",
       "    </tr>\n",
       "    <tr>\n",
       "      <th>internetservice</th>\n",
       "      <td>0.053951</td>\n",
       "    </tr>\n",
       "    <tr>\n",
       "      <th>onlinebackup</th>\n",
       "      <td>0.044230</td>\n",
       "    </tr>\n",
       "  </tbody>\n",
       "</table>\n",
       "</div>"
      ],
      "text/plain": [
       "                       MI\n",
       "contract         0.100378\n",
       "onlinesecurity   0.062802\n",
       "techsupport      0.059945\n",
       "internetservice  0.053951\n",
       "onlinebackup     0.044230"
      ]
     },
     "metadata": {},
     "output_type": "display_data"
    },
    {
     "data": {
      "text/html": [
       "<div>\n",
       "<style scoped>\n",
       "    .dataframe tbody tr th:only-of-type {\n",
       "        vertical-align: middle;\n",
       "    }\n",
       "\n",
       "    .dataframe tbody tr th {\n",
       "        vertical-align: top;\n",
       "    }\n",
       "\n",
       "    .dataframe thead th {\n",
       "        text-align: right;\n",
       "    }\n",
       "</style>\n",
       "<table border=\"1\" class=\"dataframe\">\n",
       "  <thead>\n",
       "    <tr style=\"text-align: right;\">\n",
       "      <th></th>\n",
       "      <th>MI</th>\n",
       "    </tr>\n",
       "  </thead>\n",
       "  <tbody>\n",
       "    <tr>\n",
       "      <th>partner</th>\n",
       "      <td>0.009443</td>\n",
       "    </tr>\n",
       "    <tr>\n",
       "      <th>seniorcitizen</th>\n",
       "      <td>0.008396</td>\n",
       "    </tr>\n",
       "    <tr>\n",
       "      <th>multiplelines</th>\n",
       "      <td>0.000821</td>\n",
       "    </tr>\n",
       "    <tr>\n",
       "      <th>gender</th>\n",
       "      <td>0.000099</td>\n",
       "    </tr>\n",
       "    <tr>\n",
       "      <th>phoneservice</th>\n",
       "      <td>0.000098</td>\n",
       "    </tr>\n",
       "  </tbody>\n",
       "</table>\n",
       "</div>"
      ],
      "text/plain": [
       "                     MI\n",
       "partner        0.009443\n",
       "seniorcitizen  0.008396\n",
       "multiplelines  0.000821\n",
       "gender         0.000099\n",
       "phoneservice   0.000098"
      ]
     },
     "metadata": {},
     "output_type": "display_data"
    }
   ],
   "source": [
    "from sklearn.metrics import mutual_info_score\n",
    "\n",
    "def calculate_mi(series):\n",
    "    return mutual_info_score(series, df_train.churn)\n",
    "\n",
    "df_mi = df_train[categorical].apply(calculate_mi)\n",
    "df_mi = df_mi.sort_values(ascending=False).to_frame(name='MI')\n",
    "display(df_mi.head())\n",
    "display(df_mi.tail())"
   ]
  },
  {
   "cell_type": "markdown",
   "id": "78342ec9-a035-42de-9151-6dd3272acdda",
   "metadata": {},
   "source": [
    "- Greater values of mutual information signify a stronger degree of dependence: when the mutual information between a categorical variable and the target is high, this categorical variable becomes significantly valuable for predicting the target.\n",
    "- Conversely, if the mutual information is low, the categorical variable and the target are independent, rendering the variable less useful for predicting the target."
   ]
  },
  {
   "cell_type": "markdown",
   "metadata": {},
   "source": [
    "## Correlation Coefficient\n",
    "- The correlation coefficient, specifically Pearson’s correlation coefficient, ranges from -1 to 1.\n",
    "\n",
    "- Positive correlation indicates that as one variable increases, the other tends to increase as well. In the case of a binary target, higher values of the variable correspond to more occurrences of ones, while lower values correspond to more zeros.\n",
    "\n",
    "- Zero correlation signifies no relationship between the two variables; they are entirely independent.\n",
    "\n",
    "- Negative correlation occurs when one variable increases while the other decreases. In the binary scenario, higher values of the variable correspond to more zeros than ones in the target, and vice versa for lower values.\n"
   ]
  },
  {
   "cell_type": "code",
   "execution_count": 178,
   "id": "eb262e38-1043-4ca4-8199-49b4be78fc5f",
   "metadata": {},
   "outputs": [
    {
     "data": {
      "text/plain": [
       "tenure           -0.352229\n",
       "monthlycharges    0.193356\n",
       "totalcharges     -0.199484\n",
       "dtype: float64"
      ]
     },
     "execution_count": 178,
     "metadata": {},
     "output_type": "execute_result"
    }
   ],
   "source": [
    "df[numerical].corrwith(df.churn)"
   ]
  },
  {
   "cell_type": "markdown",
   "id": "799e99c4-cf84-4bfe-9726-cafdeda79faa",
   "metadata": {},
   "source": [
    "# Tenure\n",
    "The correlation between tenure and churn is -0.35, indicating a negative relationship. Therefore, as customers stay for longer periods, they tend to churn less frequently."
   ]
  },
  {
   "cell_type": "code",
   "execution_count": 180,
   "id": "0295c358-d63f-49ea-9456-91fd0969e5ed",
   "metadata": {},
   "outputs": [
    {
     "name": "stdout",
     "output_type": "stream",
     "text": [
      "0.5835266821345708\n"
     ]
    },
    {
     "data": {
      "text/plain": [
       "0.5835266821345708"
      ]
     },
     "execution_count": 180,
     "metadata": {},
     "output_type": "execute_result"
    }
   ],
   "source": [
    "import pandas as pd\n",
    "\n",
    "# Convert 'churn' column to numeric, coerce errors to NaN\n",
    "df['churn'] = pd.to_numeric(df['churn'], errors='coerce')\n",
    "\n",
    "# Filter DataFrame for 'tenure' <= 2 and compute mean of 'churn' column\n",
    "t1 = df[df['tenure'] <= 2]['churn'].mean()\n",
    "print(t1)\n",
    "\n",
    "t1 =df[df['tenure'] <= 2].churn.mean()\n",
    "t1"
   ]
  },
  {
   "cell_type": "code",
   "execution_count": 181,
   "id": "e02fc7ce-86e7-42d1-9516-fe088d8e51d4",
   "metadata": {},
   "outputs": [
    {
     "data": {
      "text/plain": [
       "0.4033232628398791"
      ]
     },
     "execution_count": 181,
     "metadata": {},
     "output_type": "execute_result"
    }
   ],
   "source": [
    "t2 = df[(df.tenure >= 3) & (df.tenure <= 12)].churn.mean()\n",
    "t2 "
   ]
  },
  {
   "cell_type": "code",
   "execution_count": 182,
   "id": "5e8ddcc0-d00a-451e-b73f-c347f77daeaf",
   "metadata": {},
   "outputs": [
    {
     "data": {
      "text/plain": [
       "0.17490952955367914"
      ]
     },
     "execution_count": 182,
     "metadata": {},
     "output_type": "execute_result"
    }
   ],
   "source": [
    "t3 = df[df['tenure'] >= 12].churn.mean()\n",
    "t3"
   ]
  },
  {
   "cell_type": "code",
   "execution_count": 183,
   "id": "19156f53-787e-4004-85eb-0700a3907db7",
   "metadata": {},
   "outputs": [
    {
     "name": "stderr",
     "output_type": "stream",
     "text": [
      "C:\\Users\\LENOVO\\anaconda3\\Lib\\site-packages\\seaborn\\_oldcore.py:1765: FutureWarning: unique with argument that is not not a Series, Index, ExtensionArray, or np.ndarray is deprecated and will raise in a future version.\n",
      "  order = pd.unique(vector)\n"
     ]
    },
    {
     "data": {
      "image/png": "[encoded data removed]",
      "text/plain": [
       "<Figure size 640x480 with 1 Axes>"
      ]
     },
     "metadata": {},
     "output_type": "display_data"
    }
   ],
   "source": [
    "sns.barplot(x =['1-2', '3-12', '+12'], y =[t1,t2,t3], palette='Greens');\n",
    "plt.title('Churn Rate by Tenure');\n",
    "plt.xlabel('Tenure');\n",
    "plt.ylabel('Churn Rate');"
   ]
  },
  {
   "cell_type": "markdown",
   "id": "e56fd391-a10a-4953-b655-8a739f4912b8",
   "metadata": {},
   "source": [
    "\n",
    "# Monthly Charges\n",
    "- The coefficient for monthly charges is positive at 0.19, suggesting that customers who pay higher monthly charges are more likely to churn."
   ]
  },
  {
   "cell_type": "code",
   "execution_count": 185,
   "id": "dd78bb3a-3303-4147-9a21-44b5807011d9",
   "metadata": {},
   "outputs": [
    {
     "data": {
      "text/plain": [
       "0.08841463414634146"
      ]
     },
     "execution_count": 185,
     "metadata": {},
     "output_type": "execute_result"
    }
   ],
   "source": [
    "mc1 =df[df['monthlycharges'] <= 20].churn.mean()\n",
    "mc1"
   ]
  },
  {
   "cell_type": "code",
   "execution_count": 186,
   "id": "a2260a2f-dacc-4208-8f84-0d981eaeb307",
   "metadata": {},
   "outputs": [
    {
     "data": {
      "text/plain": [
       "0.22807017543859648"
      ]
     },
     "execution_count": 186,
     "metadata": {},
     "output_type": "execute_result"
    }
   ],
   "source": [
    "mc2 = df[(df.monthlycharges >= 21) & (df.monthlycharges <= 50)].churn.mean()\n",
    "mc2"
   ]
  },
  {
   "cell_type": "code",
   "execution_count": 187,
   "id": "db0fda84-b2c7-47d1-aeca-fa3e79baaeb5",
   "metadata": {},
   "outputs": [
    {
     "data": {
      "text/plain": [
       "0.3178752107925801"
      ]
     },
     "execution_count": 187,
     "metadata": {},
     "output_type": "execute_result"
    }
   ],
   "source": [
    "mc3 = df[df['monthlycharges'] > 50].churn.mean()\n",
    "mc3"
   ]
  },
  {
   "cell_type": "code",
   "execution_count": 188,
   "id": "787bd004-cf17-4cb4-9b83-279826fdaebf",
   "metadata": {},
   "outputs": [
    {
     "name": "stderr",
     "output_type": "stream",
     "text": [
      "C:\\Users\\LENOVO\\anaconda3\\Lib\\site-packages\\seaborn\\_oldcore.py:1765: FutureWarning: unique with argument that is not not a Series, Index, ExtensionArray, or np.ndarray is deprecated and will raise in a future version.\n",
      "  order = pd.unique(vector)\n"
     ]
    },
    {
     "data": {
      "image/png": "[encoded data removed]",
      "text/plain": [
       "<Figure size 640x480 with 1 Axes>"
      ]
     },
     "metadata": {},
     "output_type": "display_data"
    }
   ],
   "source": [
    "sns.barplot(x =['0-20', '21-50', '+50'], y =[mc1,mc2,mc3], palette='Greens');\n",
    "plt.title('Churn Rate by Monthly Charges');\n",
    "plt.xlabel('Monthly Charges');\n",
    "plt.ylabel('Churn Rate');"
   ]
  },
  {
   "cell_type": "markdown",
   "id": "95eefa77-456d-44d2-bcbc-08b70b6aaad2",
   "metadata": {},
   "source": [
    "\n",
    "# Total Charges\n",
    "- Total charges exhibit a negative correlation, which aligns with expectations: as customers remain with the company for longer periods, their total payments increase, decreasing the likelihood of them leaving."
   ]
  },
  {
   "cell_type": "code",
   "execution_count": 190,
   "id": "6819a619-9057-4ce5-9513-45a70a8e0367",
   "metadata": {},
   "outputs": [
    {
     "data": {
      "text/plain": [
       "0.36985827860352577"
      ]
     },
     "execution_count": 190,
     "metadata": {},
     "output_type": "execute_result"
    }
   ],
   "source": [
    "tc1 = df[df['totalcharges'] <= 1000].churn.mean()\n",
    "tc1"
   ]
  },
  {
   "cell_type": "code",
   "execution_count": 191,
   "id": "904b22ea-6c18-4394-8fec-09868a48a298",
   "metadata": {},
   "outputs": [
    {
     "data": {
      "text/plain": [
       "0.2137150466045273"
      ]
     },
     "execution_count": 191,
     "metadata": {},
     "output_type": "execute_result"
    }
   ],
   "source": [
    "tc2 = df[(df.totalcharges > 1000) & (df.totalcharges <= 5000)].churn.mean()\n",
    "tc2"
   ]
  },
  {
   "cell_type": "code",
   "execution_count": 192,
   "id": "890796c8-2e60-4c58-b148-1af6c96ee80a",
   "metadata": {},
   "outputs": [
    {
     "data": {
      "text/plain": [
       "0.13832599118942732"
      ]
     },
     "execution_count": 192,
     "metadata": {},
     "output_type": "execute_result"
    }
   ],
   "source": [
    "tc3 = df[df['totalcharges'] > 5000].churn.mean()\n",
    "tc3"
   ]
  },
  {
   "cell_type": "markdown",
   "id": "65b2603e-3468-4bfa-9b5a-124907ddecf7",
   "metadata": {},
   "source": [
    "sns.barplot(x =['0-1000', '1000-5000', '+5000'], y =[tc1,tc2,tc3], palette='Greens');\n",
    "plt.title('Churn Rate by Total Charges');\n",
    "plt.xlabel('Total Charges');\n",
    "plt.ylabel('Churn Rate');"
   ]
  },
  {
   "cell_type": "markdown",
   "id": "16a24515-badd-4f91-b9f8-33d407794efe",
   "metadata": {},
   "source": [
    "# Preprocessing"
   ]
  },
  {
   "cell_type": "markdown",
   "id": "3dfbf02a-b43b-4afc-8d37-fa88048dc150",
   "metadata": {},
   "source": [
    "## Handling Categorical Variables"
   ]
  },
  {
   "cell_type": "code",
   "execution_count": 194,
   "id": "3f8f294b-64d0-40cc-80f0-b4159f787947",
   "metadata": {},
   "outputs": [
    {
     "data": {
      "text/html": [
       "<div>\n",
       "<style scoped>\n",
       "    .dataframe tbody tr th:only-of-type {\n",
       "        vertical-align: middle;\n",
       "    }\n",
       "\n",
       "    .dataframe tbody tr th {\n",
       "        vertical-align: top;\n",
       "    }\n",
       "\n",
       "    .dataframe thead th {\n",
       "        text-align: right;\n",
       "    }\n",
       "</style>\n",
       "<table border=\"1\" class=\"dataframe\">\n",
       "  <thead>\n",
       "    <tr style=\"text-align: right;\">\n",
       "      <th></th>\n",
       "      <th>tenure</th>\n",
       "      <th>monthlycharges</th>\n",
       "      <th>totalcharges</th>\n",
       "      <th>churn</th>\n",
       "      <th>gender_Male</th>\n",
       "      <th>seniorcitizen_1</th>\n",
       "      <th>partner_Yes</th>\n",
       "      <th>dependents_Yes</th>\n",
       "      <th>phoneservice_Yes</th>\n",
       "      <th>multiplelines_No phone service</th>\n",
       "      <th>...</th>\n",
       "      <th>streamingtv_No internet service</th>\n",
       "      <th>streamingtv_Yes</th>\n",
       "      <th>streamingmovies_No internet service</th>\n",
       "      <th>streamingmovies_Yes</th>\n",
       "      <th>contract_One year</th>\n",
       "      <th>contract_Two year</th>\n",
       "      <th>paperlessbilling_Yes</th>\n",
       "      <th>paymentmethod_Credit card (automatic)</th>\n",
       "      <th>paymentmethod_Electronic check</th>\n",
       "      <th>paymentmethod_Mailed check</th>\n",
       "    </tr>\n",
       "  </thead>\n",
       "  <tbody>\n",
       "    <tr>\n",
       "      <th>2678</th>\n",
       "      <td>30</td>\n",
       "      <td>19.70</td>\n",
       "      <td>625.05</td>\n",
       "      <td>0.0</td>\n",
       "      <td>True</td>\n",
       "      <td>False</td>\n",
       "      <td>False</td>\n",
       "      <td>False</td>\n",
       "      <td>True</td>\n",
       "      <td>False</td>\n",
       "      <td>...</td>\n",
       "      <td>True</td>\n",
       "      <td>False</td>\n",
       "      <td>True</td>\n",
       "      <td>False</td>\n",
       "      <td>True</td>\n",
       "      <td>False</td>\n",
       "      <td>False</td>\n",
       "      <td>False</td>\n",
       "      <td>False</td>\n",
       "      <td>True</td>\n",
       "    </tr>\n",
       "    <tr>\n",
       "      <th>5594</th>\n",
       "      <td>23</td>\n",
       "      <td>83.75</td>\n",
       "      <td>1849.95</td>\n",
       "      <td>0.0</td>\n",
       "      <td>False</td>\n",
       "      <td>False</td>\n",
       "      <td>True</td>\n",
       "      <td>True</td>\n",
       "      <td>True</td>\n",
       "      <td>False</td>\n",
       "      <td>...</td>\n",
       "      <td>False</td>\n",
       "      <td>True</td>\n",
       "      <td>False</td>\n",
       "      <td>False</td>\n",
       "      <td>False</td>\n",
       "      <td>False</td>\n",
       "      <td>True</td>\n",
       "      <td>False</td>\n",
       "      <td>True</td>\n",
       "      <td>False</td>\n",
       "    </tr>\n",
       "    <tr>\n",
       "      <th>4077</th>\n",
       "      <td>14</td>\n",
       "      <td>95.80</td>\n",
       "      <td>1346.30</td>\n",
       "      <td>0.0</td>\n",
       "      <td>False</td>\n",
       "      <td>True</td>\n",
       "      <td>True</td>\n",
       "      <td>True</td>\n",
       "      <td>True</td>\n",
       "      <td>False</td>\n",
       "      <td>...</td>\n",
       "      <td>False</td>\n",
       "      <td>True</td>\n",
       "      <td>False</td>\n",
       "      <td>True</td>\n",
       "      <td>False</td>\n",
       "      <td>False</td>\n",
       "      <td>True</td>\n",
       "      <td>False</td>\n",
       "      <td>True</td>\n",
       "      <td>False</td>\n",
       "    </tr>\n",
       "    <tr>\n",
       "      <th>4758</th>\n",
       "      <td>56</td>\n",
       "      <td>19.70</td>\n",
       "      <td>1051.90</td>\n",
       "      <td>0.0</td>\n",
       "      <td>False</td>\n",
       "      <td>False</td>\n",
       "      <td>False</td>\n",
       "      <td>False</td>\n",
       "      <td>True</td>\n",
       "      <td>False</td>\n",
       "      <td>...</td>\n",
       "      <td>True</td>\n",
       "      <td>False</td>\n",
       "      <td>True</td>\n",
       "      <td>False</td>\n",
       "      <td>False</td>\n",
       "      <td>True</td>\n",
       "      <td>False</td>\n",
       "      <td>False</td>\n",
       "      <td>False</td>\n",
       "      <td>False</td>\n",
       "    </tr>\n",
       "    <tr>\n",
       "      <th>4445</th>\n",
       "      <td>63</td>\n",
       "      <td>98.00</td>\n",
       "      <td>6218.45</td>\n",
       "      <td>0.0</td>\n",
       "      <td>False</td>\n",
       "      <td>False</td>\n",
       "      <td>False</td>\n",
       "      <td>False</td>\n",
       "      <td>True</td>\n",
       "      <td>False</td>\n",
       "      <td>...</td>\n",
       "      <td>False</td>\n",
       "      <td>True</td>\n",
       "      <td>False</td>\n",
       "      <td>False</td>\n",
       "      <td>False</td>\n",
       "      <td>True</td>\n",
       "      <td>False</td>\n",
       "      <td>True</td>\n",
       "      <td>False</td>\n",
       "      <td>False</td>\n",
       "    </tr>\n",
       "  </tbody>\n",
       "</table>\n",
       "<p>5 rows × 31 columns</p>\n",
       "</div>"
      ],
      "text/plain": [
       "      tenure  monthlycharges  totalcharges  churn  gender_Male  \\\n",
       "2678      30           19.70        625.05    0.0         True   \n",
       "5594      23           83.75       1849.95    0.0        False   \n",
       "4077      14           95.80       1346.30    0.0        False   \n",
       "4758      56           19.70       1051.90    0.0        False   \n",
       "4445      63           98.00       6218.45    0.0        False   \n",
       "\n",
       "      seniorcitizen_1  partner_Yes  dependents_Yes  phoneservice_Yes  \\\n",
       "2678            False        False           False              True   \n",
       "5594            False         True            True              True   \n",
       "4077             True         True            True              True   \n",
       "4758            False        False           False              True   \n",
       "4445            False        False           False              True   \n",
       "\n",
       "      multiplelines_No phone service  ...  streamingtv_No internet service  \\\n",
       "2678                           False  ...                             True   \n",
       "5594                           False  ...                            False   \n",
       "4077                           False  ...                            False   \n",
       "4758                           False  ...                             True   \n",
       "4445                           False  ...                            False   \n",
       "\n",
       "      streamingtv_Yes  streamingmovies_No internet service  \\\n",
       "2678            False                                 True   \n",
       "5594             True                                False   \n",
       "4077             True                                False   \n",
       "4758            False                                 True   \n",
       "4445             True                                False   \n",
       "\n",
       "      streamingmovies_Yes  contract_One year  contract_Two year  \\\n",
       "2678                False               True              False   \n",
       "5594                False              False              False   \n",
       "4077                 True              False              False   \n",
       "4758                False              False               True   \n",
       "4445                False              False               True   \n",
       "\n",
       "      paperlessbilling_Yes  paymentmethod_Credit card (automatic)  \\\n",
       "2678                 False                                  False   \n",
       "5594                  True                                  False   \n",
       "4077                  True                                  False   \n",
       "4758                 False                                  False   \n",
       "4445                 False                                   True   \n",
       "\n",
       "      paymentmethod_Electronic check  paymentmethod_Mailed check  \n",
       "2678                           False                        True  \n",
       "5594                            True                       False  \n",
       "4077                            True                       False  \n",
       "4758                           False                       False  \n",
       "4445                           False                       False  \n",
       "\n",
       "[5 rows x 31 columns]"
      ]
     },
     "execution_count": 194,
     "metadata": {},
     "output_type": "execute_result"
    }
   ],
   "source": [
    "df_train_enc= pd.get_dummies(df_train, drop_first=True)\n",
    "df_train_enc.head()"
   ]
  },
  {
   "cell_type": "code",
   "execution_count": 196,
   "id": "098ec333-93a1-426f-b01d-66886d974e8d",
   "metadata": {},
   "outputs": [
    {
     "data": {
      "text/html": [
       "<div>\n",
       "<style scoped>\n",
       "    .dataframe tbody tr th:only-of-type {\n",
       "        vertical-align: middle;\n",
       "    }\n",
       "\n",
       "    .dataframe tbody tr th {\n",
       "        vertical-align: top;\n",
       "    }\n",
       "\n",
       "    .dataframe thead th {\n",
       "        text-align: right;\n",
       "    }\n",
       "</style>\n",
       "<table border=\"1\" class=\"dataframe\">\n",
       "  <thead>\n",
       "    <tr style=\"text-align: right;\">\n",
       "      <th></th>\n",
       "      <th>gender_Male</th>\n",
       "      <th>seniorcitizen_1</th>\n",
       "      <th>partner_Yes</th>\n",
       "      <th>dependents_Yes</th>\n",
       "      <th>phoneservice_Yes</th>\n",
       "      <th>multiplelines_No phone service</th>\n",
       "      <th>multiplelines_Yes</th>\n",
       "      <th>internetservice_Fiber optic</th>\n",
       "      <th>internetservice_No</th>\n",
       "      <th>onlinesecurity_No internet service</th>\n",
       "      <th>...</th>\n",
       "      <th>contract_One year</th>\n",
       "      <th>contract_Two year</th>\n",
       "      <th>paperlessbilling_Yes</th>\n",
       "      <th>paymentmethod_Credit card (automatic)</th>\n",
       "      <th>paymentmethod_Electronic check</th>\n",
       "      <th>paymentmethod_Mailed check</th>\n",
       "      <th>tenure</th>\n",
       "      <th>monthlycharges</th>\n",
       "      <th>totalcharges</th>\n",
       "      <th>churn</th>\n",
       "    </tr>\n",
       "  </thead>\n",
       "  <tbody>\n",
       "    <tr>\n",
       "      <th>0</th>\n",
       "      <td>1.0</td>\n",
       "      <td>0.0</td>\n",
       "      <td>0.0</td>\n",
       "      <td>0.0</td>\n",
       "      <td>1.0</td>\n",
       "      <td>0.0</td>\n",
       "      <td>0.0</td>\n",
       "      <td>0.0</td>\n",
       "      <td>1.0</td>\n",
       "      <td>1.0</td>\n",
       "      <td>...</td>\n",
       "      <td>1.0</td>\n",
       "      <td>0.0</td>\n",
       "      <td>0.0</td>\n",
       "      <td>0.0</td>\n",
       "      <td>0.0</td>\n",
       "      <td>1.0</td>\n",
       "      <td>30.0</td>\n",
       "      <td>19.70</td>\n",
       "      <td>625.05</td>\n",
       "      <td>0.0</td>\n",
       "    </tr>\n",
       "    <tr>\n",
       "      <th>1</th>\n",
       "      <td>0.0</td>\n",
       "      <td>0.0</td>\n",
       "      <td>1.0</td>\n",
       "      <td>1.0</td>\n",
       "      <td>1.0</td>\n",
       "      <td>0.0</td>\n",
       "      <td>1.0</td>\n",
       "      <td>1.0</td>\n",
       "      <td>0.0</td>\n",
       "      <td>0.0</td>\n",
       "      <td>...</td>\n",
       "      <td>0.0</td>\n",
       "      <td>0.0</td>\n",
       "      <td>1.0</td>\n",
       "      <td>0.0</td>\n",
       "      <td>1.0</td>\n",
       "      <td>0.0</td>\n",
       "      <td>23.0</td>\n",
       "      <td>83.75</td>\n",
       "      <td>1849.95</td>\n",
       "      <td>0.0</td>\n",
       "    </tr>\n",
       "    <tr>\n",
       "      <th>2</th>\n",
       "      <td>0.0</td>\n",
       "      <td>1.0</td>\n",
       "      <td>1.0</td>\n",
       "      <td>1.0</td>\n",
       "      <td>1.0</td>\n",
       "      <td>0.0</td>\n",
       "      <td>1.0</td>\n",
       "      <td>1.0</td>\n",
       "      <td>0.0</td>\n",
       "      <td>0.0</td>\n",
       "      <td>...</td>\n",
       "      <td>0.0</td>\n",
       "      <td>0.0</td>\n",
       "      <td>1.0</td>\n",
       "      <td>0.0</td>\n",
       "      <td>1.0</td>\n",
       "      <td>0.0</td>\n",
       "      <td>14.0</td>\n",
       "      <td>95.80</td>\n",
       "      <td>1346.30</td>\n",
       "      <td>0.0</td>\n",
       "    </tr>\n",
       "    <tr>\n",
       "      <th>3</th>\n",
       "      <td>0.0</td>\n",
       "      <td>0.0</td>\n",
       "      <td>0.0</td>\n",
       "      <td>0.0</td>\n",
       "      <td>1.0</td>\n",
       "      <td>0.0</td>\n",
       "      <td>0.0</td>\n",
       "      <td>0.0</td>\n",
       "      <td>1.0</td>\n",
       "      <td>1.0</td>\n",
       "      <td>...</td>\n",
       "      <td>0.0</td>\n",
       "      <td>1.0</td>\n",
       "      <td>0.0</td>\n",
       "      <td>0.0</td>\n",
       "      <td>0.0</td>\n",
       "      <td>0.0</td>\n",
       "      <td>56.0</td>\n",
       "      <td>19.70</td>\n",
       "      <td>1051.90</td>\n",
       "      <td>0.0</td>\n",
       "    </tr>\n",
       "    <tr>\n",
       "      <th>4</th>\n",
       "      <td>0.0</td>\n",
       "      <td>0.0</td>\n",
       "      <td>0.0</td>\n",
       "      <td>0.0</td>\n",
       "      <td>1.0</td>\n",
       "      <td>0.0</td>\n",
       "      <td>1.0</td>\n",
       "      <td>1.0</td>\n",
       "      <td>0.0</td>\n",
       "      <td>0.0</td>\n",
       "      <td>...</td>\n",
       "      <td>0.0</td>\n",
       "      <td>1.0</td>\n",
       "      <td>0.0</td>\n",
       "      <td>1.0</td>\n",
       "      <td>0.0</td>\n",
       "      <td>0.0</td>\n",
       "      <td>63.0</td>\n",
       "      <td>98.00</td>\n",
       "      <td>6218.45</td>\n",
       "      <td>0.0</td>\n",
       "    </tr>\n",
       "    <tr>\n",
       "      <th>...</th>\n",
       "      <td>...</td>\n",
       "      <td>...</td>\n",
       "      <td>...</td>\n",
       "      <td>...</td>\n",
       "      <td>...</td>\n",
       "      <td>...</td>\n",
       "      <td>...</td>\n",
       "      <td>...</td>\n",
       "      <td>...</td>\n",
       "      <td>...</td>\n",
       "      <td>...</td>\n",
       "      <td>...</td>\n",
       "      <td>...</td>\n",
       "      <td>...</td>\n",
       "      <td>...</td>\n",
       "      <td>...</td>\n",
       "      <td>...</td>\n",
       "      <td>...</td>\n",
       "      <td>...</td>\n",
       "      <td>...</td>\n",
       "      <td>...</td>\n",
       "    </tr>\n",
       "    <tr>\n",
       "      <th>4502</th>\n",
       "      <td>1.0</td>\n",
       "      <td>1.0</td>\n",
       "      <td>1.0</td>\n",
       "      <td>1.0</td>\n",
       "      <td>1.0</td>\n",
       "      <td>0.0</td>\n",
       "      <td>1.0</td>\n",
       "      <td>0.0</td>\n",
       "      <td>0.0</td>\n",
       "      <td>0.0</td>\n",
       "      <td>...</td>\n",
       "      <td>1.0</td>\n",
       "      <td>0.0</td>\n",
       "      <td>1.0</td>\n",
       "      <td>0.0</td>\n",
       "      <td>1.0</td>\n",
       "      <td>0.0</td>\n",
       "      <td>52.0</td>\n",
       "      <td>80.85</td>\n",
       "      <td>4079.55</td>\n",
       "      <td>0.0</td>\n",
       "    </tr>\n",
       "    <tr>\n",
       "      <th>4503</th>\n",
       "      <td>1.0</td>\n",
       "      <td>0.0</td>\n",
       "      <td>0.0</td>\n",
       "      <td>0.0</td>\n",
       "      <td>0.0</td>\n",
       "      <td>1.0</td>\n",
       "      <td>0.0</td>\n",
       "      <td>0.0</td>\n",
       "      <td>0.0</td>\n",
       "      <td>0.0</td>\n",
       "      <td>...</td>\n",
       "      <td>0.0</td>\n",
       "      <td>0.0</td>\n",
       "      <td>0.0</td>\n",
       "      <td>0.0</td>\n",
       "      <td>0.0</td>\n",
       "      <td>1.0</td>\n",
       "      <td>18.0</td>\n",
       "      <td>25.15</td>\n",
       "      <td>476.80</td>\n",
       "      <td>0.0</td>\n",
       "    </tr>\n",
       "    <tr>\n",
       "      <th>4504</th>\n",
       "      <td>1.0</td>\n",
       "      <td>0.0</td>\n",
       "      <td>1.0</td>\n",
       "      <td>1.0</td>\n",
       "      <td>1.0</td>\n",
       "      <td>0.0</td>\n",
       "      <td>0.0</td>\n",
       "      <td>1.0</td>\n",
       "      <td>0.0</td>\n",
       "      <td>0.0</td>\n",
       "      <td>...</td>\n",
       "      <td>0.0</td>\n",
       "      <td>0.0</td>\n",
       "      <td>0.0</td>\n",
       "      <td>1.0</td>\n",
       "      <td>0.0</td>\n",
       "      <td>0.0</td>\n",
       "      <td>2.0</td>\n",
       "      <td>90.00</td>\n",
       "      <td>190.05</td>\n",
       "      <td>1.0</td>\n",
       "    </tr>\n",
       "    <tr>\n",
       "      <th>4505</th>\n",
       "      <td>0.0</td>\n",
       "      <td>0.0</td>\n",
       "      <td>1.0</td>\n",
       "      <td>1.0</td>\n",
       "      <td>1.0</td>\n",
       "      <td>0.0</td>\n",
       "      <td>1.0</td>\n",
       "      <td>0.0</td>\n",
       "      <td>1.0</td>\n",
       "      <td>1.0</td>\n",
       "      <td>...</td>\n",
       "      <td>0.0</td>\n",
       "      <td>1.0</td>\n",
       "      <td>0.0</td>\n",
       "      <td>0.0</td>\n",
       "      <td>1.0</td>\n",
       "      <td>0.0</td>\n",
       "      <td>27.0</td>\n",
       "      <td>24.50</td>\n",
       "      <td>761.95</td>\n",
       "      <td>0.0</td>\n",
       "    </tr>\n",
       "    <tr>\n",
       "      <th>4506</th>\n",
       "      <td>0.0</td>\n",
       "      <td>1.0</td>\n",
       "      <td>0.0</td>\n",
       "      <td>0.0</td>\n",
       "      <td>1.0</td>\n",
       "      <td>0.0</td>\n",
       "      <td>0.0</td>\n",
       "      <td>1.0</td>\n",
       "      <td>0.0</td>\n",
       "      <td>0.0</td>\n",
       "      <td>...</td>\n",
       "      <td>0.0</td>\n",
       "      <td>0.0</td>\n",
       "      <td>1.0</td>\n",
       "      <td>0.0</td>\n",
       "      <td>1.0</td>\n",
       "      <td>0.0</td>\n",
       "      <td>9.0</td>\n",
       "      <td>80.85</td>\n",
       "      <td>751.65</td>\n",
       "      <td>1.0</td>\n",
       "    </tr>\n",
       "  </tbody>\n",
       "</table>\n",
       "<p>4507 rows × 31 columns</p>\n",
       "</div>"
      ],
      "text/plain": [
       "      gender_Male  seniorcitizen_1  partner_Yes  dependents_Yes  \\\n",
       "0             1.0              0.0          0.0             0.0   \n",
       "1             0.0              0.0          1.0             1.0   \n",
       "2             0.0              1.0          1.0             1.0   \n",
       "3             0.0              0.0          0.0             0.0   \n",
       "4             0.0              0.0          0.0             0.0   \n",
       "...           ...              ...          ...             ...   \n",
       "4502          1.0              1.0          1.0             1.0   \n",
       "4503          1.0              0.0          0.0             0.0   \n",
       "4504          1.0              0.0          1.0             1.0   \n",
       "4505          0.0              0.0          1.0             1.0   \n",
       "4506          0.0              1.0          0.0             0.0   \n",
       "\n",
       "      phoneservice_Yes  multiplelines_No phone service  multiplelines_Yes  \\\n",
       "0                  1.0                             0.0                0.0   \n",
       "1                  1.0                             0.0                1.0   \n",
       "2                  1.0                             0.0                1.0   \n",
       "3                  1.0                             0.0                0.0   \n",
       "4                  1.0                             0.0                1.0   \n",
       "...                ...                             ...                ...   \n",
       "4502               1.0                             0.0                1.0   \n",
       "4503               0.0                             1.0                0.0   \n",
       "4504               1.0                             0.0                0.0   \n",
       "4505               1.0                             0.0                1.0   \n",
       "4506               1.0                             0.0                0.0   \n",
       "\n",
       "      internetservice_Fiber optic  internetservice_No  \\\n",
       "0                             0.0                 1.0   \n",
       "1                             1.0                 0.0   \n",
       "2                             1.0                 0.0   \n",
       "3                             0.0                 1.0   \n",
       "4                             1.0                 0.0   \n",
       "...                           ...                 ...   \n",
       "4502                          0.0                 0.0   \n",
       "4503                          0.0                 0.0   \n",
       "4504                          1.0                 0.0   \n",
       "4505                          0.0                 1.0   \n",
       "4506                          1.0                 0.0   \n",
       "\n",
       "      onlinesecurity_No internet service  ...  contract_One year  \\\n",
       "0                                    1.0  ...                1.0   \n",
       "1                                    0.0  ...                0.0   \n",
       "2                                    0.0  ...                0.0   \n",
       "3                                    1.0  ...                0.0   \n",
       "4                                    0.0  ...                0.0   \n",
       "...                                  ...  ...                ...   \n",
       "4502                                 0.0  ...                1.0   \n",
       "4503                                 0.0  ...                0.0   \n",
       "4504                                 0.0  ...                0.0   \n",
       "4505                                 1.0  ...                0.0   \n",
       "4506                                 0.0  ...                0.0   \n",
       "\n",
       "      contract_Two year  paperlessbilling_Yes  \\\n",
       "0                   0.0                   0.0   \n",
       "1                   0.0                   1.0   \n",
       "2                   0.0                   1.0   \n",
       "3                   1.0                   0.0   \n",
       "4                   1.0                   0.0   \n",
       "...                 ...                   ...   \n",
       "4502                0.0                   1.0   \n",
       "4503                0.0                   0.0   \n",
       "4504                0.0                   0.0   \n",
       "4505                1.0                   0.0   \n",
       "4506                0.0                   1.0   \n",
       "\n",
       "      paymentmethod_Credit card (automatic)  paymentmethod_Electronic check  \\\n",
       "0                                       0.0                             0.0   \n",
       "1                                       0.0                             1.0   \n",
       "2                                       0.0                             1.0   \n",
       "3                                       0.0                             0.0   \n",
       "4                                       1.0                             0.0   \n",
       "...                                     ...                             ...   \n",
       "4502                                    0.0                             1.0   \n",
       "4503                                    0.0                             0.0   \n",
       "4504                                    1.0                             0.0   \n",
       "4505                                    0.0                             1.0   \n",
       "4506                                    0.0                             1.0   \n",
       "\n",
       "      paymentmethod_Mailed check  tenure  monthlycharges  totalcharges  churn  \n",
       "0                            1.0    30.0           19.70        625.05    0.0  \n",
       "1                            0.0    23.0           83.75       1849.95    0.0  \n",
       "2                            0.0    14.0           95.80       1346.30    0.0  \n",
       "3                            0.0    56.0           19.70       1051.90    0.0  \n",
       "4                            0.0    63.0           98.00       6218.45    0.0  \n",
       "...                          ...     ...             ...           ...    ...  \n",
       "4502                         0.0    52.0           80.85       4079.55    0.0  \n",
       "4503                         1.0    18.0           25.15        476.80    0.0  \n",
       "4504                         0.0     2.0           90.00        190.05    1.0  \n",
       "4505                         0.0    27.0           24.50        761.95    0.0  \n",
       "4506                         0.0     9.0           80.85        751.65    1.0  \n",
       "\n",
       "[4507 rows x 31 columns]"
      ]
     },
     "execution_count": 196,
     "metadata": {},
     "output_type": "execute_result"
    }
   ],
   "source": [
    "# Applying one hot encoding using Sklearn\n",
    "\n",
    "from sklearn.preprocessing import OneHotEncoder\n",
    "from sklearn.compose import make_column_transformer\n",
    "\n",
    "ohe = OneHotEncoder(drop='first')\n",
    "\n",
    "transformer = make_column_transformer((ohe, categorical), remainder='passthrough',\n",
    "                                      verbose_feature_names_out=False)\n",
    "\n",
    "train_enc = transformer.fit_transform(df_train)\n",
    "df_train_enc = pd.DataFrame(train_enc, columns=transformer.get_feature_names_out())\n",
    "df_train_enc"
   ]
  },
  {
   "cell_type": "code",
   "execution_count": 197,
   "id": "5aa689db-a5d0-4061-ad4a-fd0f1a6f3a95",
   "metadata": {},
   "outputs": [],
   "source": [
    "X_train = df_train_enc.drop('churn', axis=1)\n",
    "y_train = df_train_enc['churn']"
   ]
  },
  {
   "cell_type": "code",
   "execution_count": 198,
   "id": "5cbfaed4-614a-43f9-8c0f-f231a1c3b2c1",
   "metadata": {},
   "outputs": [],
   "source": [
    "valid_enc = transformer.transform(df_valid)\n",
    "df_valid_enc = pd.DataFrame(valid_enc, columns=transformer.get_feature_names_out())\n",
    "X_valid = df_valid_enc.drop('churn', axis=1)\n",
    "y_valid = df_valid_enc['churn']\n",
    "\n",
    "test_enc = transformer.transform(df_test)\n",
    "df_test_enc = pd.DataFrame(test_enc, columns=transformer.get_feature_names_out())\n",
    "X_test = df_test_enc.drop('churn', axis=1)\n",
    "y_test = df_test_enc['churn']"
   ]
  },
  {
   "cell_type": "markdown",
   "id": "d580b601-3eb0-4063-bf17-0addc5f0032a",
   "metadata": {},
   "source": [
    "## Scaling Numerical Variables"
   ]
  },
  {
   "cell_type": "code",
   "execution_count": 199,
   "id": "bd5e0c04-7755-48ca-b95a-03f2fe69a7b2",
   "metadata": {},
   "outputs": [
    {
     "data": {
      "text/html": [
       "<div>\n",
       "<style scoped>\n",
       "    .dataframe tbody tr th:only-of-type {\n",
       "        vertical-align: middle;\n",
       "    }\n",
       "\n",
       "    .dataframe tbody tr th {\n",
       "        vertical-align: top;\n",
       "    }\n",
       "\n",
       "    .dataframe thead th {\n",
       "        text-align: right;\n",
       "    }\n",
       "</style>\n",
       "<table border=\"1\" class=\"dataframe\">\n",
       "  <thead>\n",
       "    <tr style=\"text-align: right;\">\n",
       "      <th></th>\n",
       "      <th>tenure</th>\n",
       "      <th>monthlycharges</th>\n",
       "      <th>totalcharges</th>\n",
       "    </tr>\n",
       "  </thead>\n",
       "  <tbody>\n",
       "    <tr>\n",
       "      <th>count</th>\n",
       "      <td>4507.000000</td>\n",
       "      <td>4507.000000</td>\n",
       "      <td>4507.000000</td>\n",
       "    </tr>\n",
       "    <tr>\n",
       "      <th>mean</th>\n",
       "      <td>32.001553</td>\n",
       "      <td>64.312536</td>\n",
       "      <td>2239.414932</td>\n",
       "    </tr>\n",
       "    <tr>\n",
       "      <th>std</th>\n",
       "      <td>24.558539</td>\n",
       "      <td>30.089423</td>\n",
       "      <td>2247.307720</td>\n",
       "    </tr>\n",
       "    <tr>\n",
       "      <th>min</th>\n",
       "      <td>0.000000</td>\n",
       "      <td>18.250000</td>\n",
       "      <td>18.800000</td>\n",
       "    </tr>\n",
       "    <tr>\n",
       "      <th>25%</th>\n",
       "      <td>8.000000</td>\n",
       "      <td>34.700000</td>\n",
       "      <td>386.850000</td>\n",
       "    </tr>\n",
       "    <tr>\n",
       "      <th>50%</th>\n",
       "      <td>28.000000</td>\n",
       "      <td>70.150000</td>\n",
       "      <td>1360.250000</td>\n",
       "    </tr>\n",
       "    <tr>\n",
       "      <th>75%</th>\n",
       "      <td>55.000000</td>\n",
       "      <td>89.575000</td>\n",
       "      <td>3708.000000</td>\n",
       "    </tr>\n",
       "    <tr>\n",
       "      <th>max</th>\n",
       "      <td>72.000000</td>\n",
       "      <td>118.350000</td>\n",
       "      <td>8684.800000</td>\n",
       "    </tr>\n",
       "  </tbody>\n",
       "</table>\n",
       "</div>"
      ],
      "text/plain": [
       "            tenure  monthlycharges  totalcharges\n",
       "count  4507.000000     4507.000000   4507.000000\n",
       "mean     32.001553       64.312536   2239.414932\n",
       "std      24.558539       30.089423   2247.307720\n",
       "min       0.000000       18.250000     18.800000\n",
       "25%       8.000000       34.700000    386.850000\n",
       "50%      28.000000       70.150000   1360.250000\n",
       "75%      55.000000       89.575000   3708.000000\n",
       "max      72.000000      118.350000   8684.800000"
      ]
     },
     "execution_count": 199,
     "metadata": {},
     "output_type": "execute_result"
    }
   ],
   "source": [
    "df_train[numerical].describe()"
   ]
  },
  {
   "cell_type": "code",
   "execution_count": 200,
   "id": "fc49bf87-f8a4-4a77-b87e-226347452982",
   "metadata": {},
   "outputs": [
    {
     "data": {
      "text/plain": [
       "array([[-0.08151035, -1.48282956, -0.71843479],\n",
       "       [-0.36657522,  0.64606159, -0.17332212],\n",
       "       [-0.7330872 ,  1.04657898, -0.3974596 ],\n",
       "       ...,\n",
       "       [-1.22176983,  0.85379883, -0.91202122],\n",
       "       [-0.20368101, -1.32328737, -0.6575107 ],\n",
       "       [-0.93670496,  0.54967152, -0.66209447]])"
      ]
     },
     "execution_count": 200,
     "metadata": {},
     "output_type": "execute_result"
    }
   ],
   "source": [
    "from sklearn.preprocessing import StandardScaler\n",
    "scaler = StandardScaler()\n",
    "\n",
    "scaler.fit_transform(df_train[numerical])"
   ]
  },
  {
   "cell_type": "code",
   "execution_count": 201,
   "id": "d1577de8-1a1e-4f4e-bf45-4bf71fc78b0e",
   "metadata": {},
   "outputs": [],
   "source": [
    "# Transformers\n",
    "def preprocess(df_train, df_valid, df_test, num, cat):\n",
    "    # Define transformers\n",
    "    ohe = OneHotEncoder(drop='first')\n",
    "    scaler = StandardScaler()\n",
    "\n",
    "    transformer = make_column_transformer((scaler, num),\n",
    "                                           (ohe, cat),\n",
    "                                          remainder='passthrough',verbose_feature_names_out=False)\n",
    "    # Fitting & Transformation\n",
    "    X_train = transformer.fit_transform(df_train[cat+num])\n",
    "    X_valid = transformer.transform(df_valid[cat+num])\n",
    "    X_test = transformer.transform(df_test[cat+num])\n",
    "    columns=transformer.get_feature_names_out()\n",
    "   \n",
    "    return X_train , X_valid, X_test, columns"
   ]
  },
  {
   "cell_type": "code",
   "execution_count": 202,
   "id": "5fb3cbe4-d173-4ce8-bd6f-d1825ed63aa3",
   "metadata": {},
   "outputs": [],
   "source": [
    "X_train , X_valid, X_test, columns = preprocess(df_train, df_valid, df_test, numerical, categorical)"
   ]
  },
  {
   "cell_type": "code",
   "execution_count": 203,
   "id": "4dfb7a00-84d3-4d49-ae0c-9f95395e05e0",
   "metadata": {},
   "outputs": [
    {
     "data": {
      "text/plain": [
       "array([[-0.08151035, -1.48282956, -0.71843479, ...,  0.        ,\n",
       "         0.        ,  1.        ],\n",
       "       [-0.36657522,  0.64606159, -0.17332212, ...,  0.        ,\n",
       "         1.        ,  0.        ],\n",
       "       [-0.7330872 ,  1.04657898, -0.3974596 , ...,  0.        ,\n",
       "         1.        ,  0.        ],\n",
       "       ...,\n",
       "       [-1.22176983,  0.85379883, -0.91202122, ...,  1.        ,\n",
       "         0.        ,  0.        ],\n",
       "       [-0.20368101, -1.32328737, -0.6575107 , ...,  0.        ,\n",
       "         1.        ,  0.        ],\n",
       "       [-0.93670496,  0.54967152, -0.66209447, ...,  0.        ,\n",
       "         1.        ,  0.        ]])"
      ]
     },
     "execution_count": 203,
     "metadata": {},
     "output_type": "execute_result"
    }
   ],
   "source": [
    "X_train"
   ]
  },
  {
   "cell_type": "code",
   "execution_count": 204,
   "id": "da26f65c-1b63-44df-8188-f7acf3813f22",
   "metadata": {},
   "outputs": [],
   "source": [
    "y_train = df_train['churn']\n",
    "y_valid = df_valid['churn']\n",
    "y_test = df_test['churn']"
   ]
  },
  {
   "cell_type": "markdown",
   "id": "c8ac524d-6363-40de-940e-66aa92edf917",
   "metadata": {},
   "source": [
    "# Modeling\n",
    "- For classification, we will employ logistic regression as our model of choice.\n",
    "\n",
    "\n",
    "\n",
    "\n",
    "\n"
   ]
  },
  {
   "cell_type": "markdown",
   "id": "0d075b7d-389f-41e1-96fb-a2c25d5a80ca",
   "metadata": {},
   "source": [
    "# Logistic Regression \n",
    "- Logistic regression, despite being a linear model, serves as a classification model rather than regression.\n",
    "\n",
    "- The output of logistic regression represents probability, specifically the likelihood of an observation being positive (in our case, the probability of a customer churning).\n",
    "\n",
    "- To ensure predictions remain within the range of zero to one, we utilize a sigmoid function. The complete formula for logistic regression is as follows:"
   ]
  },
  {
   "cell_type": "markdown",
   "id": "43cc11ba-517f-4bbb-93bf-3880b9f6afa8",
   "metadata": {},
   "source": [
    "## Linear Regression vs. Logistic Regression"
   ]
  },
  {
   "cell_type": "code",
   "execution_count": 207,
   "id": "895437aa-0d36-4d6e-aaa2-ef3a9ec826c8",
   "metadata": {},
   "outputs": [],
   "source": [
    "def linear_regression(xi):\n",
    "    result = bias\n",
    "    for j in range(n):\n",
    "        result = result + xi[j] * w[j]\n",
    "    return result"
   ]
  },
  {
   "cell_type": "code",
   "execution_count": 208,
   "id": "0f1ef76f-6464-401d-87ff-771ba2f51f9b",
   "metadata": {},
   "outputs": [],
   "source": [
    "def logistic_regression(xi):\n",
    "    score = bias\n",
    "    for j in range(n):\n",
    "        score = score + xi[j] * w[j]\n",
    "    prob = sigmoid(score)\n",
    "    return prob"
   ]
  },
  {
   "cell_type": "code",
   "execution_count": 209,
   "id": "511b35e7-83df-426e-899a-5ad97094b10a",
   "metadata": {},
   "outputs": [],
   "source": [
    "import math\n",
    "def sigmoid(score):\n",
    "    return 1 / (1 + math.exp(-score))"
   ]
  },
  {
   "cell_type": "markdown",
   "id": "bf7d2174-7345-4b83-99c4-58ee62456c91",
   "metadata": {},
   "source": [
    "## Applying Logistic Regression"
   ]
  },
  {
   "cell_type": "code",
   "execution_count": 210,
   "id": "aa322800-1671-46ae-b5bf-8dc278ce57bd",
   "metadata": {},
   "outputs": [
    {
     "data": {
      "text/html": [
       "<style>#sk-container-id-1 {\n",
       "  /* Definition of color scheme common for light and dark mode */\n",
       "  --sklearn-color-text: black;\n",
       "  --sklearn-color-line: gray;\n",
       "  /* Definition of color scheme for unfitted estimators */\n",
       "  --sklearn-color-unfitted-level-0: #fff5e6;\n",
       "  --sklearn-color-unfitted-level-1: #f6e4d2;\n",
       "  --sklearn-color-unfitted-level-2: #ffe0b3;\n",
       "  --sklearn-color-unfitted-level-3: chocolate;\n",
       "  /* Definition of color scheme for fitted estimators */\n",
       "  --sklearn-color-fitted-level-0: #f0f8ff;\n",
       "  --sklearn-color-fitted-level-1: #d4ebff;\n",
       "  --sklearn-color-fitted-level-2: #b3dbfd;\n",
       "  --sklearn-color-fitted-level-3: cornflowerblue;\n",
       "\n",
       "  /* Specific color for light theme */\n",
       "  --sklearn-color-text-on-default-background: var(--sg-text-color, var(--theme-code-foreground, var(--jp-content-font-color1, black)));\n",
       "  --sklearn-color-background: var(--sg-background-color, var(--theme-background, var(--jp-layout-color0, white)));\n",
       "  --sklearn-color-border-box: var(--sg-text-color, var(--theme-code-foreground, var(--jp-content-font-color1, black)));\n",
       "  --sklearn-color-icon: #696969;\n",
       "\n",
       "  @media (prefers-color-scheme: dark) {\n",
       "    /* Redefinition of color scheme for dark theme */\n",
       "    --sklearn-color-text-on-default-background: var(--sg-text-color, var(--theme-code-foreground, var(--jp-content-font-color1, white)));\n",
       "    --sklearn-color-background: var(--sg-background-color, var(--theme-background, var(--jp-layout-color0, #111)));\n",
       "    --sklearn-color-border-box: var(--sg-text-color, var(--theme-code-foreground, var(--jp-content-font-color1, white)));\n",
       "    --sklearn-color-icon: #878787;\n",
       "  }\n",
       "}\n",
       "\n",
       "#sk-container-id-1 {\n",
       "  color: var(--sklearn-color-text);\n",
       "}\n",
       "\n",
       "#sk-container-id-1 pre {\n",
       "  padding: 0;\n",
       "}\n",
       "\n",
       "#sk-container-id-1 input.sk-hidden--visually {\n",
       "  border: 0;\n",
       "  clip: rect(1px 1px 1px 1px);\n",
       "  clip: rect(1px, 1px, 1px, 1px);\n",
       "  height: 1px;\n",
       "  margin: -1px;\n",
       "  overflow: hidden;\n",
       "  padding: 0;\n",
       "  position: absolute;\n",
       "  width: 1px;\n",
       "}\n",
       "\n",
       "#sk-container-id-1 div.sk-dashed-wrapped {\n",
       "  border: 1px dashed var(--sklearn-color-line);\n",
       "  margin: 0 0.4em 0.5em 0.4em;\n",
       "  box-sizing: border-box;\n",
       "  padding-bottom: 0.4em;\n",
       "  background-color: var(--sklearn-color-background);\n",
       "}\n",
       "\n",
       "#sk-container-id-1 div.sk-container {\n",
       "  /* jupyter's `normalize.less` sets `[hidden] { display: none; }`\n",
       "     but bootstrap.min.css set `[hidden] { display: none !important; }`\n",
       "     so we also need the `!important` here to be able to override the\n",
       "     default hidden behavior on the sphinx rendered scikit-learn.org.\n",
       "     See: https://github.com/scikit-learn/scikit-learn/issues/21755 */\n",
       "  display: inline-block !important;\n",
       "  position: relative;\n",
       "}\n",
       "\n",
       "#sk-container-id-1 div.sk-text-repr-fallback {\n",
       "  display: none;\n",
       "}\n",
       "\n",
       "div.sk-parallel-item,\n",
       "div.sk-serial,\n",
       "div.sk-item {\n",
       "  /* draw centered vertical line to link estimators */\n",
       "  background-image: linear-gradient(var(--sklearn-color-text-on-default-background), var(--sklearn-color-text-on-default-background));\n",
       "  background-size: 2px 100%;\n",
       "  background-repeat: no-repeat;\n",
       "  background-position: center center;\n",
       "}\n",
       "\n",
       "/* Parallel-specific style estimator block */\n",
       "\n",
       "#sk-container-id-1 div.sk-parallel-item::after {\n",
       "  content: \"\";\n",
       "  width: 100%;\n",
       "  border-bottom: 2px solid var(--sklearn-color-text-on-default-background);\n",
       "  flex-grow: 1;\n",
       "}\n",
       "\n",
       "#sk-container-id-1 div.sk-parallel {\n",
       "  display: flex;\n",
       "  align-items: stretch;\n",
       "  justify-content: center;\n",
       "  background-color: var(--sklearn-color-background);\n",
       "  position: relative;\n",
       "}\n",
       "\n",
       "#sk-container-id-1 div.sk-parallel-item {\n",
       "  display: flex;\n",
       "  flex-direction: column;\n",
       "}\n",
       "\n",
       "#sk-container-id-1 div.sk-parallel-item:first-child::after {\n",
       "  align-self: flex-end;\n",
       "  width: 50%;\n",
       "}\n",
       "\n",
       "#sk-container-id-1 div.sk-parallel-item:last-child::after {\n",
       "  align-self: flex-start;\n",
       "  width: 50%;\n",
       "}\n",
       "\n",
       "#sk-container-id-1 div.sk-parallel-item:only-child::after {\n",
       "  width: 0;\n",
       "}\n",
       "\n",
       "/* Serial-specific style estimator block */\n",
       "\n",
       "#sk-container-id-1 div.sk-serial {\n",
       "  display: flex;\n",
       "  flex-direction: column;\n",
       "  align-items: center;\n",
       "  background-color: var(--sklearn-color-background);\n",
       "  padding-right: 1em;\n",
       "  padding-left: 1em;\n",
       "}\n",
       "\n",
       "\n",
       "/* Toggleable style: style used for estimator/Pipeline/ColumnTransformer box that is\n",
       "clickable and can be expanded/collapsed.\n",
       "- Pipeline and ColumnTransformer use this feature and define the default style\n",
       "- Estimators will overwrite some part of the style using the `sk-estimator` class\n",
       "*/\n",
       "\n",
       "/* Pipeline and ColumnTransformer style (default) */\n",
       "\n",
       "#sk-container-id-1 div.sk-toggleable {\n",
       "  /* Default theme specific background. It is overwritten whether we have a\n",
       "  specific estimator or a Pipeline/ColumnTransformer */\n",
       "  background-color: var(--sklearn-color-background);\n",
       "}\n",
       "\n",
       "/* Toggleable label */\n",
       "#sk-container-id-1 label.sk-toggleable__label {\n",
       "  cursor: pointer;\n",
       "  display: block;\n",
       "  width: 100%;\n",
       "  margin-bottom: 0;\n",
       "  padding: 0.5em;\n",
       "  box-sizing: border-box;\n",
       "  text-align: center;\n",
       "}\n",
       "\n",
       "#sk-container-id-1 label.sk-toggleable__label-arrow:before {\n",
       "  /* Arrow on the left of the label */\n",
       "  content: \"▸\";\n",
       "  float: left;\n",
       "  margin-right: 0.25em;\n",
       "  color: var(--sklearn-color-icon);\n",
       "}\n",
       "\n",
       "#sk-container-id-1 label.sk-toggleable__label-arrow:hover:before {\n",
       "  color: var(--sklearn-color-text);\n",
       "}\n",
       "\n",
       "/* Toggleable content - dropdown */\n",
       "\n",
       "#sk-container-id-1 div.sk-toggleable__content {\n",
       "  max-height: 0;\n",
       "  max-width: 0;\n",
       "  overflow: hidden;\n",
       "  text-align: left;\n",
       "  /* unfitted */\n",
       "  background-color: var(--sklearn-color-unfitted-level-0);\n",
       "}\n",
       "\n",
       "#sk-container-id-1 div.sk-toggleable__content.fitted {\n",
       "  /* fitted */\n",
       "  background-color: var(--sklearn-color-fitted-level-0);\n",
       "}\n",
       "\n",
       "#sk-container-id-1 div.sk-toggleable__content pre {\n",
       "  margin: 0.2em;\n",
       "  border-radius: 0.25em;\n",
       "  color: var(--sklearn-color-text);\n",
       "  /* unfitted */\n",
       "  background-color: var(--sklearn-color-unfitted-level-0);\n",
       "}\n",
       "\n",
       "#sk-container-id-1 div.sk-toggleable__content.fitted pre {\n",
       "  /* unfitted */\n",
       "  background-color: var(--sklearn-color-fitted-level-0);\n",
       "}\n",
       "\n",
       "#sk-container-id-1 input.sk-toggleable__control:checked~div.sk-toggleable__content {\n",
       "  /* Expand drop-down */\n",
       "  max-height: 200px;\n",
       "  max-width: 100%;\n",
       "  overflow: auto;\n",
       "}\n",
       "\n",
       "#sk-container-id-1 input.sk-toggleable__control:checked~label.sk-toggleable__label-arrow:before {\n",
       "  content: \"▾\";\n",
       "}\n",
       "\n",
       "/* Pipeline/ColumnTransformer-specific style */\n",
       "\n",
       "#sk-container-id-1 div.sk-label input.sk-toggleable__control:checked~label.sk-toggleable__label {\n",
       "  color: var(--sklearn-color-text);\n",
       "  background-color: var(--sklearn-color-unfitted-level-2);\n",
       "}\n",
       "\n",
       "#sk-container-id-1 div.sk-label.fitted input.sk-toggleable__control:checked~label.sk-toggleable__label {\n",
       "  background-color: var(--sklearn-color-fitted-level-2);\n",
       "}\n",
       "\n",
       "/* Estimator-specific style */\n",
       "\n",
       "/* Colorize estimator box */\n",
       "#sk-container-id-1 div.sk-estimator input.sk-toggleable__control:checked~label.sk-toggleable__label {\n",
       "  /* unfitted */\n",
       "  background-color: var(--sklearn-color-unfitted-level-2);\n",
       "}\n",
       "\n",
       "#sk-container-id-1 div.sk-estimator.fitted input.sk-toggleable__control:checked~label.sk-toggleable__label {\n",
       "  /* fitted */\n",
       "  background-color: var(--sklearn-color-fitted-level-2);\n",
       "}\n",
       "\n",
       "#sk-container-id-1 div.sk-label label.sk-toggleable__label,\n",
       "#sk-container-id-1 div.sk-label label {\n",
       "  /* The background is the default theme color */\n",
       "  color: var(--sklearn-color-text-on-default-background);\n",
       "}\n",
       "\n",
       "/* On hover, darken the color of the background */\n",
       "#sk-container-id-1 div.sk-label:hover label.sk-toggleable__label {\n",
       "  color: var(--sklearn-color-text);\n",
       "  background-color: var(--sklearn-color-unfitted-level-2);\n",
       "}\n",
       "\n",
       "/* Label box, darken color on hover, fitted */\n",
       "#sk-container-id-1 div.sk-label.fitted:hover label.sk-toggleable__label.fitted {\n",
       "  color: var(--sklearn-color-text);\n",
       "  background-color: var(--sklearn-color-fitted-level-2);\n",
       "}\n",
       "\n",
       "/* Estimator label */\n",
       "\n",
       "#sk-container-id-1 div.sk-label label {\n",
       "  font-family: monospace;\n",
       "  font-weight: bold;\n",
       "  display: inline-block;\n",
       "  line-height: 1.2em;\n",
       "}\n",
       "\n",
       "#sk-container-id-1 div.sk-label-container {\n",
       "  text-align: center;\n",
       "}\n",
       "\n",
       "/* Estimator-specific */\n",
       "#sk-container-id-1 div.sk-estimator {\n",
       "  font-family: monospace;\n",
       "  border: 1px dotted var(--sklearn-color-border-box);\n",
       "  border-radius: 0.25em;\n",
       "  box-sizing: border-box;\n",
       "  margin-bottom: 0.5em;\n",
       "  /* unfitted */\n",
       "  background-color: var(--sklearn-color-unfitted-level-0);\n",
       "}\n",
       "\n",
       "#sk-container-id-1 div.sk-estimator.fitted {\n",
       "  /* fitted */\n",
       "  background-color: var(--sklearn-color-fitted-level-0);\n",
       "}\n",
       "\n",
       "/* on hover */\n",
       "#sk-container-id-1 div.sk-estimator:hover {\n",
       "  /* unfitted */\n",
       "  background-color: var(--sklearn-color-unfitted-level-2);\n",
       "}\n",
       "\n",
       "#sk-container-id-1 div.sk-estimator.fitted:hover {\n",
       "  /* fitted */\n",
       "  background-color: var(--sklearn-color-fitted-level-2);\n",
       "}\n",
       "\n",
       "/* Specification for estimator info (e.g. \"i\" and \"?\") */\n",
       "\n",
       "/* Common style for \"i\" and \"?\" */\n",
       "\n",
       ".sk-estimator-doc-link,\n",
       "a:link.sk-estimator-doc-link,\n",
       "a:visited.sk-estimator-doc-link {\n",
       "  float: right;\n",
       "  font-size: smaller;\n",
       "  line-height: 1em;\n",
       "  font-family: monospace;\n",
       "  background-color: var(--sklearn-color-background);\n",
       "  border-radius: 1em;\n",
       "  height: 1em;\n",
       "  width: 1em;\n",
       "  text-decoration: none !important;\n",
       "  margin-left: 1ex;\n",
       "  /* unfitted */\n",
       "  border: var(--sklearn-color-unfitted-level-1) 1pt solid;\n",
       "  color: var(--sklearn-color-unfitted-level-1);\n",
       "}\n",
       "\n",
       ".sk-estimator-doc-link.fitted,\n",
       "a:link.sk-estimator-doc-link.fitted,\n",
       "a:visited.sk-estimator-doc-link.fitted {\n",
       "  /* fitted */\n",
       "  border: var(--sklearn-color-fitted-level-1) 1pt solid;\n",
       "  color: var(--sklearn-color-fitted-level-1);\n",
       "}\n",
       "\n",
       "/* On hover */\n",
       "div.sk-estimator:hover .sk-estimator-doc-link:hover,\n",
       ".sk-estimator-doc-link:hover,\n",
       "div.sk-label-container:hover .sk-estimator-doc-link:hover,\n",
       ".sk-estimator-doc-link:hover {\n",
       "  /* unfitted */\n",
       "  background-color: var(--sklearn-color-unfitted-level-3);\n",
       "  color: var(--sklearn-color-background);\n",
       "  text-decoration: none;\n",
       "}\n",
       "\n",
       "div.sk-estimator.fitted:hover .sk-estimator-doc-link.fitted:hover,\n",
       ".sk-estimator-doc-link.fitted:hover,\n",
       "div.sk-label-container:hover .sk-estimator-doc-link.fitted:hover,\n",
       ".sk-estimator-doc-link.fitted:hover {\n",
       "  /* fitted */\n",
       "  background-color: var(--sklearn-color-fitted-level-3);\n",
       "  color: var(--sklearn-color-background);\n",
       "  text-decoration: none;\n",
       "}\n",
       "\n",
       "/* Span, style for the box shown on hovering the info icon */\n",
       ".sk-estimator-doc-link span {\n",
       "  display: none;\n",
       "  z-index: 9999;\n",
       "  position: relative;\n",
       "  font-weight: normal;\n",
       "  right: .2ex;\n",
       "  padding: .5ex;\n",
       "  margin: .5ex;\n",
       "  width: min-content;\n",
       "  min-width: 20ex;\n",
       "  max-width: 50ex;\n",
       "  color: var(--sklearn-color-text);\n",
       "  box-shadow: 2pt 2pt 4pt #999;\n",
       "  /* unfitted */\n",
       "  background: var(--sklearn-color-unfitted-level-0);\n",
       "  border: .5pt solid var(--sklearn-color-unfitted-level-3);\n",
       "}\n",
       "\n",
       ".sk-estimator-doc-link.fitted span {\n",
       "  /* fitted */\n",
       "  background: var(--sklearn-color-fitted-level-0);\n",
       "  border: var(--sklearn-color-fitted-level-3);\n",
       "}\n",
       "\n",
       ".sk-estimator-doc-link:hover span {\n",
       "  display: block;\n",
       "}\n",
       "\n",
       "/* \"?\"-specific style due to the `<a>` HTML tag */\n",
       "\n",
       "#sk-container-id-1 a.estimator_doc_link {\n",
       "  float: right;\n",
       "  font-size: 1rem;\n",
       "  line-height: 1em;\n",
       "  font-family: monospace;\n",
       "  background-color: var(--sklearn-color-background);\n",
       "  border-radius: 1rem;\n",
       "  height: 1rem;\n",
       "  width: 1rem;\n",
       "  text-decoration: none;\n",
       "  /* unfitted */\n",
       "  color: var(--sklearn-color-unfitted-level-1);\n",
       "  border: var(--sklearn-color-unfitted-level-1) 1pt solid;\n",
       "}\n",
       "\n",
       "#sk-container-id-1 a.estimator_doc_link.fitted {\n",
       "  /* fitted */\n",
       "  border: var(--sklearn-color-fitted-level-1) 1pt solid;\n",
       "  color: var(--sklearn-color-fitted-level-1);\n",
       "}\n",
       "\n",
       "/* On hover */\n",
       "#sk-container-id-1 a.estimator_doc_link:hover {\n",
       "  /* unfitted */\n",
       "  background-color: var(--sklearn-color-unfitted-level-3);\n",
       "  color: var(--sklearn-color-background);\n",
       "  text-decoration: none;\n",
       "}\n",
       "\n",
       "#sk-container-id-1 a.estimator_doc_link.fitted:hover {\n",
       "  /* fitted */\n",
       "  background-color: var(--sklearn-color-fitted-level-3);\n",
       "}\n",
       "</style><div id=\"sk-container-id-1\" class=\"sk-top-container\"><div class=\"sk-text-repr-fallback\"><pre>LogisticRegression(random_state=1, solver=&#x27;liblinear&#x27;)</pre><b>In a Jupyter environment, please rerun this cell to show the HTML representation or trust the notebook. <br />On GitHub, the HTML representation is unable to render, please try loading this page with nbviewer.org.</b></div><div class=\"sk-container\" hidden><div class=\"sk-item\"><div class=\"sk-estimator fitted sk-toggleable\"><input class=\"sk-toggleable__control sk-hidden--visually\" id=\"sk-estimator-id-1\" type=\"checkbox\" checked><label for=\"sk-estimator-id-1\" class=\"sk-toggleable__label fitted sk-toggleable__label-arrow fitted\">&nbsp;&nbsp;LogisticRegression<a class=\"sk-estimator-doc-link fitted\" rel=\"noreferrer\" target=\"_blank\" href=\"https://scikit-learn.org/1.4/modules/generated/sklearn.linear_model.LogisticRegression.html\">?<span>Documentation for LogisticRegression</span></a><span class=\"sk-estimator-doc-link fitted\">i<span>Fitted</span></span></label><div class=\"sk-toggleable__content fitted\"><pre>LogisticRegression(random_state=1, solver=&#x27;liblinear&#x27;)</pre></div> </div></div></div></div>"
      ],
      "text/plain": [
       "LogisticRegression(random_state=1, solver='liblinear')"
      ]
     },
     "execution_count": 210,
     "metadata": {},
     "output_type": "execute_result"
    }
   ],
   "source": [
    "from sklearn.linear_model import LogisticRegression\n",
    "model_1 = LogisticRegression(solver='liblinear', random_state=1)\n",
    "model_1.fit(X_train, y_train)  # ====> Weights"
   ]
  },
  {
   "cell_type": "code",
   "execution_count": 211,
   "id": "ac9e4638-58da-4d62-89c3-ef21ea01f5db",
   "metadata": {},
   "outputs": [
    {
     "data": {
      "text/plain": [
       "30"
      ]
     },
     "execution_count": 211,
     "metadata": {},
     "output_type": "execute_result"
    }
   ],
   "source": [
    "len(columns)"
   ]
  },
  {
   "cell_type": "code",
   "execution_count": 212,
   "id": "9ad4ef1d-2ea1-457b-bf79-62028f067274",
   "metadata": {},
   "outputs": [
    {
     "data": {
      "text/plain": [
       "30"
      ]
     },
     "execution_count": 212,
     "metadata": {},
     "output_type": "execute_result"
    }
   ],
   "source": [
    "len(model_1.coef_[0])"
   ]
  },
  {
   "cell_type": "code",
   "execution_count": 213,
   "id": "d460991c-a41b-41fd-b3ab-bb6495fe6a84",
   "metadata": {},
   "outputs": [
    {
     "data": {
      "text/plain": [
       "array([[0.99288603, 0.00711397],\n",
       "       [0.79970012, 0.20029988],\n",
       "       [0.78814886, 0.21185114],\n",
       "       ...,\n",
       "       [0.96098379, 0.03901621],\n",
       "       [0.41988322, 0.58011678],\n",
       "       [0.70089296, 0.29910704]])"
      ]
     },
     "execution_count": 213,
     "metadata": {},
     "output_type": "execute_result"
    }
   ],
   "source": [
    "y_val_pred = model_1.predict_proba(X_valid)\n",
    "y_val_pred"
   ]
  },
  {
   "cell_type": "code",
   "execution_count": 214,
   "id": "733299c6-7500-4ce6-80bd-483cd9184c78",
   "metadata": {},
   "outputs": [
    {
     "data": {
      "text/plain": [
       "array([[0.94321286, 0.05678714],\n",
       "       [0.91333401, 0.08666599],\n",
       "       [0.66580263, 0.33419737],\n",
       "       ...,\n",
       "       [0.99473604, 0.00526396],\n",
       "       [0.80573192, 0.19426808],\n",
       "       [0.39372236, 0.60627764]])"
      ]
     },
     "execution_count": 214,
     "metadata": {},
     "output_type": "execute_result"
    }
   ],
   "source": [
    "y_test_pred = model_1.predict_proba(X_test)\n",
    "y_test_pred"
   ]
  },
  {
   "cell_type": "code",
   "execution_count": 215,
   "id": "96266ce7-9762-4232-9496-fb19f808d3ce",
   "metadata": {},
   "outputs": [
    {
     "data": {
      "text/plain": [
       "array([0.05678714, 0.08666599, 0.33419737, ..., 0.00526396, 0.19426808,\n",
       "       0.60627764])"
      ]
     },
     "execution_count": 215,
     "metadata": {},
     "output_type": "execute_result"
    }
   ],
   "source": [
    "y_test_pred[:,1]"
   ]
  },
  {
   "cell_type": "markdown",
   "id": "e2f3c4e0-ab37-4bf7-a383-1b0b8706cac1",
   "metadata": {},
   "source": [
    "<!-- This output (probabilities) is often called soft predictions. These tell us the probability of churning as a number between zero and one. It’s up to us to decide how to interpret this number and how to use it.\n",
    "\n",
    "To get the binary predictions, hard predictions, we take the probabilities and cut them above a certain threshold -->"
   ]
  },
  {
   "cell_type": "markdown",
   "id": "ce532e0e-5817-4651-8808-f6e0fdabc00c",
   "metadata": {},
   "source": [
    "- The output, referred to as soft predictions, provides probabilities of churning as values between zero and one. Interpretation and utilization of these probabilities are subjective.\n",
    "\n",
    "- To obtain binary predictions, or hard predictions, we apply a threshold to the probabilities, classifying them as either churn or not churn based on whether they exceed the threshold.\n"
   ]
  },
  {
   "cell_type": "code",
   "execution_count": 216,
   "id": "57686d30-883b-43ce-aa22-615164b481a1",
   "metadata": {},
   "outputs": [
    {
     "data": {
      "text/plain": [
       "array([False, False, False, ..., False, False,  True])"
      ]
     },
     "execution_count": 216,
     "metadata": {},
     "output_type": "execute_result"
    }
   ],
   "source": [
    "y_test_pred[:,1] > 0.5"
   ]
  },
  {
   "cell_type": "code",
   "execution_count": 217,
   "id": "4aa78222-1c85-41ff-8476-1e52620635bd",
   "metadata": {},
   "outputs": [
    {
     "data": {
      "text/plain": [
       "array([0, 0, 0, ..., 0, 0, 1])"
      ]
     },
     "execution_count": 217,
     "metadata": {},
     "output_type": "execute_result"
    }
   ],
   "source": [
    "y_test_pred = (y_test_pred[:,1] > 0.5).astype(int)\n",
    "y_test_pred"
   ]
  },
  {
   "cell_type": "code",
   "execution_count": 218,
   "id": "99e916a2-6c57-46bc-96eb-02eca2ef572b",
   "metadata": {},
   "outputs": [
    {
     "data": {
      "text/plain": [
       "array([0., 0., 0., ..., 0., 0., 1.])"
      ]
     },
     "execution_count": 218,
     "metadata": {},
     "output_type": "execute_result"
    }
   ],
   "source": [
    "y_pred = model_1.predict(X_test)\n",
    "y_pred"
   ]
  },
  {
   "cell_type": "code",
   "execution_count": 219,
   "id": "4356188a-0545-405e-aa72-68aa0dd7e81f",
   "metadata": {},
   "outputs": [
    {
     "data": {
      "text/plain": [
       "3381     True\n",
       "6180     True\n",
       "4829     True\n",
       "3737    False\n",
       "4249     True\n",
       "        ...  \n",
       "2563     True\n",
       "2028     True\n",
       "2899     True\n",
       "3474     True\n",
       "5154     True\n",
       "Name: churn, Length: 1409, dtype: bool"
      ]
     },
     "execution_count": 219,
     "metadata": {},
     "output_type": "execute_result"
    }
   ],
   "source": [
    "y_test_pred == y_test"
   ]
  },
  {
   "cell_type": "code",
   "execution_count": 220,
   "id": "cd2891d1-0be5-4c80-b12f-c25d77a9819b",
   "metadata": {},
   "outputs": [
    {
     "data": {
      "text/plain": [
       "0.808374733853797"
      ]
     },
     "execution_count": 220,
     "metadata": {},
     "output_type": "execute_result"
    }
   ],
   "source": [
    "(y_test_pred == y_test).mean()"
   ]
  },
  {
   "cell_type": "code",
   "execution_count": 221,
   "id": "a66256f5-f89d-4627-9525-23e58b1504db",
   "metadata": {},
   "outputs": [
    {
     "name": "stdout",
     "output_type": "stream",
     "text": [
      "LogisticRegression Training Accuracy:  0.8\n",
      "LogisticRegression Validation Accuracy:  0.8\n",
      "LogisticRegression Testing Accuracy:  0.81\n"
     ]
    }
   ],
   "source": [
    "print('LogisticRegression Training Accuracy: ', round(model_1.score(X_train, y_train), 2))\n",
    "print('LogisticRegression Validation Accuracy: ', round(model_1.score(X_valid, y_valid), 2))\n",
    "print('LogisticRegression Testing Accuracy: ', round(model_1.score(X_test, y_test), 2))"
   ]
  },
  {
   "cell_type": "code",
   "execution_count": 222,
   "id": "162e291d-bdde-4d73-bbc8-dcce86a70178",
   "metadata": {},
   "outputs": [
    {
     "data": {
      "text/plain": [
       "['contract',\n",
       " 'onlinesecurity',\n",
       " 'techsupport',\n",
       " 'internetservice',\n",
       " 'onlinebackup']"
      ]
     },
     "execution_count": 222,
     "metadata": {},
     "output_type": "execute_result"
    }
   ],
   "source": [
    "important_cat = df_mi.head().index.to_list()\n",
    "important_cat"
   ]
  },
  {
   "cell_type": "code",
   "execution_count": 223,
   "id": "d9d6f425-2c36-42e8-9dac-7e94eca35377",
   "metadata": {},
   "outputs": [
    {
     "name": "stdout",
     "output_type": "stream",
     "text": [
      "LogisticRegression Training Accuracy:  0.79\n",
      "LogisticRegression Validation Accuracy:  0.8\n",
      "LogisticRegression Testing Accuracy:  0.8\n"
     ]
    }
   ],
   "source": [
    "X_train, X_valid, X_test, columns = preprocess(df_train, df_valid, df_test, numerical, important_cat)\n",
    "\n",
    "model_2 = LogisticRegression(solver='liblinear', random_state=1)\n",
    "model_2.fit(X_train, y_train)\n",
    "print('LogisticRegression Training Accuracy: ', round(model_2.score(X_train, y_train), 2))\n",
    "print('LogisticRegression Validation Accuracy: ', round(model_2.score(X_valid, y_valid), 2))\n",
    "print('LogisticRegression Testing Accuracy: ', round(model_2.score(X_test, y_test), 2))"
   ]
  },
  {
   "cell_type": "markdown",
   "id": "b676c5a6-9e13-4cae-b357-dbdfa899fea6",
   "metadata": {},
   "source": [
    "## Using Numerical Features Only"
   ]
  },
  {
   "cell_type": "code",
   "execution_count": 224,
   "id": "dc46f9fb-d6af-4a44-9e93-e6d996a3811b",
   "metadata": {},
   "outputs": [
    {
     "data": {
      "text/plain": [
       "['tenure', 'monthlycharges', 'totalcharges']"
      ]
     },
     "execution_count": 224,
     "metadata": {},
     "output_type": "execute_result"
    }
   ],
   "source": [
    "numerical"
   ]
  },
  {
   "cell_type": "code",
   "execution_count": 225,
   "id": "a7bb812b-54e7-43ef-b12e-d073901d598b",
   "metadata": {},
   "outputs": [
    {
     "name": "stdout",
     "output_type": "stream",
     "text": [
      "LogisticRegression Training Accuracy:  0.78\n",
      "LogisticRegression Validation Accuracy:  0.79\n",
      "LogisticRegression Testing Accuracy:  0.8\n"
     ]
    }
   ],
   "source": [
    "X_train = df_train[numerical]\n",
    "X_valid = df_valid[numerical]\n",
    "X_test  = df_test[numerical]\n",
    "\n",
    "model_3 = LogisticRegression(solver='liblinear', random_state=1)\n",
    "model_3.fit(X_train, y_train)\n",
    "print('LogisticRegression Training Accuracy: ', round(model_3.score(X_train, y_train), 2))\n",
    "print('LogisticRegression Validation Accuracy: ', round(model_3.score(X_valid, y_valid), 2))\n",
    "print('LogisticRegression Testing Accuracy: ', round(model_3.score(X_test, y_test), 2))"
   ]
  },
  {
   "cell_type": "markdown",
   "id": "f7f53651-e7cc-43c3-bc46-39c62255374c",
   "metadata": {},
   "source": [
    "# Model Saving"
   ]
  },
  {
   "cell_type": "code",
   "execution_count": 226,
   "id": "fe4a14c7-cbe6-4f0d-bde8-9df14f22ae96",
   "metadata": {},
   "outputs": [],
   "source": [
    "import pickle \n",
    "\n",
    "pickle.dump(model_2, open(\"log_reg.pkl\", 'wb'))"
   ]
  },
  {
   "cell_type": "markdown",
   "id": "6f5e6d07-70fb-4c18-b0c8-fc25cd6c7fb1",
   "metadata": {},
   "source": [
    "# Model Loading"
   ]
  },
  {
   "cell_type": "code",
   "execution_count": 227,
   "id": "2c94bc70-dc1d-4483-a74a-b00193821f9e",
   "metadata": {},
   "outputs": [],
   "source": [
    "loaded_model = pickle.load(open('log_reg.pkl', 'rb'))"
   ]
  },
  {
   "cell_type": "markdown",
   "id": "e431ab45-b16e-484e-97e6-aff6e36a1a94",
   "metadata": {},
   "source": [
    "# Model Usage"
   ]
  },
  {
   "cell_type": "code",
   "execution_count": 228,
   "id": "35ffab9f-c3bb-42de-b46b-3d72e8993038",
   "metadata": {},
   "outputs": [
    {
     "data": {
      "text/plain": [
       "contract           Month-to-month\n",
       "onlinesecurity                 No\n",
       "techsupport                    No\n",
       "internetservice       Fiber optic\n",
       "onlinebackup                  Yes\n",
       "tenure                         32\n",
       "monthlycharges              93.95\n",
       "totalcharges              2861.45\n",
       "Name: 407, dtype: object"
      ]
     },
     "execution_count": 228,
     "metadata": {},
     "output_type": "execute_result"
    }
   ],
   "source": [
    "df_test[important_cat + numerical].iloc[10]"
   ]
  },
  {
   "cell_type": "code",
   "execution_count": 229,
   "id": "53132711-6474-4738-9e05-b6ef54e6c4d0",
   "metadata": {},
   "outputs": [],
   "source": [
    "# Transformers\n",
    "def preprocess_fit(df_train, num, cat):\n",
    "    # Define transformers\n",
    "    ohe = OneHotEncoder(drop='first')\n",
    "    scaler = StandardScaler()\n",
    "\n",
    "    transformer = make_column_transformer((scaler, num),\n",
    "                                           (ohe, cat),\n",
    "                                          remainder='passthrough',verbose_feature_names_out=False)\n",
    "    # Fitting & Transformation\n",
    "    transformer.fit(df_train[cat+num])\n",
    "    return transformer"
   ]
  },
  {
   "cell_type": "code",
   "execution_count": 230,
   "id": "0c157484-980e-41d1-990a-34f8fefa99fe",
   "metadata": {},
   "outputs": [],
   "source": [
    "transformer = preprocess_fit(df_train, numerical, important_cat)"
   ]
  },
  {
   "cell_type": "code",
   "execution_count": 231,
   "id": "6309835e-c92d-43bc-b379-cf980d01b1ac",
   "metadata": {},
   "outputs": [
    {
     "data": {
      "text/plain": [
       "contract           Month-to-month\n",
       "onlinesecurity                 No\n",
       "techsupport                    No\n",
       "internetservice       Fiber optic\n",
       "onlinebackup                  Yes\n",
       "tenure                         32\n",
       "monthlycharges              93.95\n",
       "totalcharges              2861.45\n",
       "Name: 407, dtype: object"
      ]
     },
     "execution_count": 231,
     "metadata": {},
     "output_type": "execute_result"
    }
   ],
   "source": [
    "df_test.iloc[10][important_cat + numerical]"
   ]
  },
  {
   "cell_type": "code",
   "execution_count": 232,
   "id": "1ac5fed7-6d1e-412d-8091-129c390daa0c",
   "metadata": {},
   "outputs": [
    {
     "data": {
      "text/html": [
       "<div>\n",
       "<style scoped>\n",
       "    .dataframe tbody tr th:only-of-type {\n",
       "        vertical-align: middle;\n",
       "    }\n",
       "\n",
       "    .dataframe tbody tr th {\n",
       "        vertical-align: top;\n",
       "    }\n",
       "\n",
       "    .dataframe thead th {\n",
       "        text-align: right;\n",
       "    }\n",
       "</style>\n",
       "<table border=\"1\" class=\"dataframe\">\n",
       "  <thead>\n",
       "    <tr style=\"text-align: right;\">\n",
       "      <th></th>\n",
       "      <th>contract</th>\n",
       "      <th>onlinesecurity</th>\n",
       "      <th>techsupport</th>\n",
       "      <th>internetservice</th>\n",
       "      <th>onlinebackup</th>\n",
       "      <th>tenure</th>\n",
       "      <th>monthlycharges</th>\n",
       "      <th>totalcharges</th>\n",
       "    </tr>\n",
       "  </thead>\n",
       "  <tbody>\n",
       "    <tr>\n",
       "      <th>407</th>\n",
       "      <td>Month-to-month</td>\n",
       "      <td>No</td>\n",
       "      <td>No</td>\n",
       "      <td>Fiber optic</td>\n",
       "      <td>Yes</td>\n",
       "      <td>32</td>\n",
       "      <td>93.95</td>\n",
       "      <td>2861.45</td>\n",
       "    </tr>\n",
       "  </tbody>\n",
       "</table>\n",
       "</div>"
      ],
      "text/plain": [
       "           contract onlinesecurity techsupport internetservice onlinebackup  \\\n",
       "407  Month-to-month             No          No     Fiber optic          Yes   \n",
       "\n",
       "    tenure monthlycharges totalcharges  \n",
       "407     32          93.95      2861.45  "
      ]
     },
     "execution_count": 232,
     "metadata": {},
     "output_type": "execute_result"
    }
   ],
   "source": [
    "pd.DataFrame(df_test.iloc[10][important_cat + numerical]).T"
   ]
  },
  {
   "cell_type": "code",
   "execution_count": 233,
   "id": "66bffd41-4eb5-46f7-8bdc-396412d669e2",
   "metadata": {},
   "outputs": [
    {
     "data": {
      "text/plain": [
       "array([[-6.32493609e-05,  9.85088758e-01,  2.76821942e-01,\n",
       "         0.00000000e+00,  0.00000000e+00,  0.00000000e+00,\n",
       "         0.00000000e+00,  0.00000000e+00,  0.00000000e+00,\n",
       "         1.00000000e+00,  0.00000000e+00,  0.00000000e+00,\n",
       "         1.00000000e+00]])"
      ]
     },
     "execution_count": 233,
     "metadata": {},
     "output_type": "execute_result"
    }
   ],
   "source": [
    "x =transformer.transform(pd.DataFrame(df_test.iloc[10][important_cat + numerical]).T)\n",
    "x"
   ]
  },
  {
   "cell_type": "code",
   "execution_count": 234,
   "id": "94a56ce2-e867-4476-806c-4ac5a8584e5f",
   "metadata": {},
   "outputs": [
    {
     "data": {
      "text/plain": [
       "array([0.])"
      ]
     },
     "execution_count": 234,
     "metadata": {},
     "output_type": "execute_result"
    }
   ],
   "source": [
    "loaded_model.predict(x)"
   ]
  },
  {
   "cell_type": "code",
   "execution_count": 235,
   "id": "cbbc7522-9f91-4c5e-be62-f49412ec7c42",
   "metadata": {},
   "outputs": [
    {
     "data": {
      "text/plain": [
       "0"
      ]
     },
     "execution_count": 235,
     "metadata": {},
     "output_type": "execute_result"
    }
   ],
   "source": [
    "y_test.iloc[10]"
   ]
  },
  {
   "cell_type": "code",
   "execution_count": 236,
   "id": "158395f3-8a3a-4889-abf6-19d266184f09",
   "metadata": {},
   "outputs": [],
   "source": [
    "x = df_test.iloc[10][important_cat + numerical].to_dict()"
   ]
  },
  {
   "cell_type": "code",
   "execution_count": 237,
   "id": "04b558d3-185f-45b6-9213-1a92ab3b3692",
   "metadata": {},
   "outputs": [
    {
     "data": {
      "text/plain": [
       "{'contract': 'Month-to-month',\n",
       " 'onlinesecurity': 'No',\n",
       " 'techsupport': 'No',\n",
       " 'internetservice': 'Fiber optic',\n",
       " 'onlinebackup': 'Yes',\n",
       " 'tenure': 32,\n",
       " 'monthlycharges': 93.95,\n",
       " 'totalcharges': 2861.45}"
      ]
     },
     "execution_count": 237,
     "metadata": {},
     "output_type": "execute_result"
    }
   ],
   "source": [
    "x"
   ]
  },
  {
   "cell_type": "code",
   "execution_count": 238,
   "id": "40c8be69-7027-4cf4-a5dd-f32e57f2d46c",
   "metadata": {},
   "outputs": [
    {
     "data": {
      "text/html": [
       "<div>\n",
       "<style scoped>\n",
       "    .dataframe tbody tr th:only-of-type {\n",
       "        vertical-align: middle;\n",
       "    }\n",
       "\n",
       "    .dataframe tbody tr th {\n",
       "        vertical-align: top;\n",
       "    }\n",
       "\n",
       "    .dataframe thead th {\n",
       "        text-align: right;\n",
       "    }\n",
       "</style>\n",
       "<table border=\"1\" class=\"dataframe\">\n",
       "  <thead>\n",
       "    <tr style=\"text-align: right;\">\n",
       "      <th></th>\n",
       "      <th>contract</th>\n",
       "      <th>onlinesecurity</th>\n",
       "      <th>techsupport</th>\n",
       "      <th>internetservice</th>\n",
       "      <th>onlinebackup</th>\n",
       "      <th>tenure</th>\n",
       "      <th>monthlycharges</th>\n",
       "      <th>totalcharges</th>\n",
       "    </tr>\n",
       "  </thead>\n",
       "  <tbody>\n",
       "    <tr>\n",
       "      <th>0</th>\n",
       "      <td>Month-to-month</td>\n",
       "      <td>No</td>\n",
       "      <td>No</td>\n",
       "      <td>Fiber optic</td>\n",
       "      <td>Yes</td>\n",
       "      <td>32</td>\n",
       "      <td>93.95</td>\n",
       "      <td>2861.45</td>\n",
       "    </tr>\n",
       "  </tbody>\n",
       "</table>\n",
       "</div>"
      ],
      "text/plain": [
       "         contract onlinesecurity techsupport internetservice onlinebackup  \\\n",
       "0  Month-to-month             No          No     Fiber optic          Yes   \n",
       "\n",
       "   tenure  monthlycharges  totalcharges  \n",
       "0      32           93.95       2861.45  "
      ]
     },
     "execution_count": 238,
     "metadata": {},
     "output_type": "execute_result"
    }
   ],
   "source": [
    "x = pd.DataFrame(x, index=[0])\n",
    "x"
   ]
  },
  {
   "cell_type": "code",
   "execution_count": 239,
   "id": "c8eb8d43-f73e-453c-88c8-a401cd09b62c",
   "metadata": {},
   "outputs": [
    {
     "data": {
      "text/plain": [
       "array([[-6.32493609e-05,  9.85088758e-01,  2.76821942e-01,\n",
       "         0.00000000e+00,  0.00000000e+00,  0.00000000e+00,\n",
       "         0.00000000e+00,  0.00000000e+00,  0.00000000e+00,\n",
       "         1.00000000e+00,  0.00000000e+00,  0.00000000e+00,\n",
       "         1.00000000e+00]])"
      ]
     },
     "execution_count": 239,
     "metadata": {},
     "output_type": "execute_result"
    }
   ],
   "source": [
    "transformer.transform(x)"
   ]
  },
  {
   "cell_type": "markdown",
   "id": "6918e62f-36e0-443f-baf2-b0734550bc8d",
   "metadata": {},
   "source": [
    "# Transformer Saving"
   ]
  },
  {
   "cell_type": "code",
   "execution_count": 240,
   "id": "e136483d-5ca3-4736-95fb-e6a6cc0e2101",
   "metadata": {},
   "outputs": [],
   "source": [
    "pickle.dump(transformer, open(\"transformer.pkl\", 'wb'))"
   ]
  },
  {
   "cell_type": "code",
   "execution_count": 241,
   "id": "fd695d2a-603c-4f26-99f7-08b6ee73b11c",
   "metadata": {},
   "outputs": [],
   "source": [
    "trans = pickle.load(open('transformer.pkl', 'rb'))\n",
    "model = pickle.load(open('log_reg.pkl', 'rb'))"
   ]
  },
  {
   "cell_type": "code",
   "execution_count": 242,
   "id": "51f1fc60-f919-4247-84e2-653eacb4bad0",
   "metadata": {},
   "outputs": [],
   "source": [
    "cust ={'contract': 'Month-to-month',\n",
    " 'onlinesecurity': 'No',\n",
    " 'techsupport': 'No',\n",
    " 'internetservice': 'Fiber optic',\n",
    " 'onlinebackup': 'Yes',\n",
    " 'tenure': 32,\n",
    " 'monthlycharges': 93.95,\n",
    " 'totalcharges': 2861.45}"
   ]
  },
  {
   "cell_type": "code",
   "execution_count": 243,
   "id": "26faf336-f221-4051-96c1-00e9607c4ad9",
   "metadata": {},
   "outputs": [
    {
     "data": {
      "text/html": [
       "<div>\n",
       "<style scoped>\n",
       "    .dataframe tbody tr th:only-of-type {\n",
       "        vertical-align: middle;\n",
       "    }\n",
       "\n",
       "    .dataframe tbody tr th {\n",
       "        vertical-align: top;\n",
       "    }\n",
       "\n",
       "    .dataframe thead th {\n",
       "        text-align: right;\n",
       "    }\n",
       "</style>\n",
       "<table border=\"1\" class=\"dataframe\">\n",
       "  <thead>\n",
       "    <tr style=\"text-align: right;\">\n",
       "      <th></th>\n",
       "      <th>contract</th>\n",
       "      <th>onlinesecurity</th>\n",
       "      <th>techsupport</th>\n",
       "      <th>internetservice</th>\n",
       "      <th>onlinebackup</th>\n",
       "      <th>tenure</th>\n",
       "      <th>monthlycharges</th>\n",
       "      <th>totalcharges</th>\n",
       "    </tr>\n",
       "  </thead>\n",
       "  <tbody>\n",
       "    <tr>\n",
       "      <th>0</th>\n",
       "      <td>Month-to-month</td>\n",
       "      <td>No</td>\n",
       "      <td>No</td>\n",
       "      <td>Fiber optic</td>\n",
       "      <td>Yes</td>\n",
       "      <td>32</td>\n",
       "      <td>93.95</td>\n",
       "      <td>2861.45</td>\n",
       "    </tr>\n",
       "  </tbody>\n",
       "</table>\n",
       "</div>"
      ],
      "text/plain": [
       "         contract onlinesecurity techsupport internetservice onlinebackup  \\\n",
       "0  Month-to-month             No          No     Fiber optic          Yes   \n",
       "\n",
       "   tenure  monthlycharges  totalcharges  \n",
       "0      32           93.95       2861.45  "
      ]
     },
     "execution_count": 243,
     "metadata": {},
     "output_type": "execute_result"
    }
   ],
   "source": [
    "pd.DataFrame(cust, index=[0])"
   ]
  },
  {
   "cell_type": "code",
   "execution_count": 244,
   "id": "9aedf665-6115-4b07-b2ed-87698959d4b5",
   "metadata": {},
   "outputs": [],
   "source": [
    "cust = trans.transform(pd.DataFrame(cust, index=[0]))"
   ]
  },
  {
   "cell_type": "code",
   "execution_count": 245,
   "id": "6e215446-062c-44bc-9aa1-d37aea3eb670",
   "metadata": {},
   "outputs": [
    {
     "data": {
      "text/plain": [
       "array([[-6.32493609e-05,  9.85088758e-01,  2.76821942e-01,\n",
       "         0.00000000e+00,  0.00000000e+00,  0.00000000e+00,\n",
       "         0.00000000e+00,  0.00000000e+00,  0.00000000e+00,\n",
       "         1.00000000e+00,  0.00000000e+00,  0.00000000e+00,\n",
       "         1.00000000e+00]])"
      ]
     },
     "execution_count": 245,
     "metadata": {},
     "output_type": "execute_result"
    }
   ],
   "source": [
    "cust"
   ]
  },
  {
   "cell_type": "code",
   "execution_count": 246,
   "id": "7e1b742f-1840-44e7-93c5-30c757d62401",
   "metadata": {},
   "outputs": [
    {
     "data": {
      "text/plain": [
       "0.0"
      ]
     },
     "execution_count": 246,
     "metadata": {},
     "output_type": "execute_result"
    }
   ],
   "source": [
    "model.predict(cust)[0]"
   ]
  },
  {
   "cell_type": "code",
   "execution_count": 247,
   "id": "a084f702-845f-409e-a7c0-c6caa8a59e97",
   "metadata": {},
   "outputs": [
    {
     "name": "stdout",
     "output_type": "stream",
     "text": [
      "Not Churn\n"
     ]
    }
   ],
   "source": [
    "if model.predict(cust)[0] == 0:\n",
    "    print('Not Churn')\n",
    "else:\n",
    "    print('Churn')"
   ]
  },
  {
   "cell_type": "code",
   "execution_count": 248,
   "id": "5f31ddc2-0ebc-40c4-af61-42967cc79044",
   "metadata": {},
   "outputs": [
    {
     "data": {
      "text/plain": [
       "0.4977549614214852"
      ]
     },
     "execution_count": 248,
     "metadata": {},
     "output_type": "execute_result"
    }
   ],
   "source": [
    "model.predict_proba(cust)[0][1]"
   ]
  },
  {
   "cell_type": "markdown",
   "id": "e5dedeac-fbda-4598-b5f7-fe8d730c5f03",
   "metadata": {},
   "source": [
    "# Classification Metrics"
   ]
  },
  {
   "cell_type": "code",
   "execution_count": 249,
   "id": "c889c847-9916-4951-98c6-c232d41cd826",
   "metadata": {},
   "outputs": [
    {
     "name": "stdout",
     "output_type": "stream",
     "text": [
      "              precision    recall  f1-score   support\n",
      "\n",
      "           0       0.84      0.91      0.87      1061\n",
      "           1       0.62      0.45      0.52       348\n",
      "\n",
      "    accuracy                           0.80      1409\n",
      "   macro avg       0.73      0.68      0.70      1409\n",
      "weighted avg       0.78      0.80      0.78      1409\n",
      "\n"
     ]
    }
   ],
   "source": [
    "from sklearn.metrics import classification_report\n",
    "\n",
    "y_pred = model_3.predict(X_test)\n",
    "print(classification_report(y_test, y_pred))"
   ]
  },
  {
   "cell_type": "code",
   "execution_count": 250,
   "id": "04da33e6-c85d-42ad-928f-6f9ff3901535",
   "metadata": {},
   "outputs": [
    {
     "data": {
      "text/plain": [
       "<Axes: >"
      ]
     },
     "execution_count": 250,
     "metadata": {},
     "output_type": "execute_result"
    },
    {
     "data": {
      "image/png": "[encoded data removed]",
      "text/plain": [
       "<Figure size 640x480 with 2 Axes>"
      ]
     },
     "metadata": {},
     "output_type": "display_data"
    }
   ],
   "source": [
    "from sklearn.metrics import confusion_matrix\n",
    "\n",
    "cm = confusion_matrix(y_test, y_pred)\n",
    "\n",
    "sns.heatmap(cm, annot= True, fmt='0.0f')"
   ]
  },
  {
   "cell_type": "code",
   "execution_count": 251,
   "id": "3f57ecb6-32e5-48f2-bb05-56dba7c73065",
   "metadata": {},
   "outputs": [
    {
     "data": {
      "text/plain": [
       "array([[963,  98],\n",
       "       [190, 158]], dtype=int64)"
      ]
     },
     "execution_count": 251,
     "metadata": {},
     "output_type": "execute_result"
    }
   ],
   "source": [
    "cm"
   ]
  },
  {
   "cell_type": "code",
   "execution_count": 252,
   "id": "06a7e80d-745a-4c4f-8578-2af7882f567b",
   "metadata": {},
   "outputs": [],
   "source": [
    "(Tn, Fp), (Fn, Tp) = cm"
   ]
  },
  {
   "cell_type": "code",
   "execution_count": 253,
   "id": "a435c4bd-e9f0-4df9-9a24-c731efdb9e05",
   "metadata": {},
   "outputs": [
    {
     "name": "stdout",
     "output_type": "stream",
     "text": [
      "True Negative:  963\n",
      "False Positive:  98\n",
      "False Negative:  190\n",
      "True Positive:  158\n"
     ]
    }
   ],
   "source": [
    "print('True Negative: ', Tn)\n",
    "print('False Positive: ', Fp)\n",
    "print('False Negative: ', Fn)\n",
    "print('True Positive: ', Tp)"
   ]
  },
  {
   "cell_type": "code",
   "execution_count": 254,
   "id": "59eb7722-f6bb-4471-a052-3fdf1587117e",
   "metadata": {},
   "outputs": [
    {
     "name": "stdout",
     "output_type": "stream",
     "text": [
      "Accuracy:  0.7955997161107168\n",
      "Precision:  0.6171875\n",
      "Recall:  0.4540229885057471\n",
      "F1-Score:  0.5231788079470199\n"
     ]
    }
   ],
   "source": [
    "from sklearn.metrics import accuracy_score, precision_score, recall_score, f1_score\n",
    "print('Accuracy: ', accuracy_score(y_test, y_pred))\n",
    "print('Precision: ', precision_score(y_test, y_pred))\n",
    "print('Recall: ', recall_score(y_test, y_pred))\n",
    "print('F1-Score: ', f1_score(y_test, y_pred))"
   ]
  },
  {
   "cell_type": "code",
   "execution_count": 255,
   "id": "281347c1-d782-4117-8054-8c8a8ca26018",
   "metadata": {},
   "outputs": [
    {
     "name": "stdout",
     "output_type": "stream",
     "text": [
      "Precision:  0.8352124891587164\n"
     ]
    }
   ],
   "source": [
    "print('Precision: ', precision_score(y_test, y_pred, pos_label=0))"
   ]
  },
  {
   "cell_type": "code",
   "execution_count": 256,
   "id": "2b232f05-e72f-4f90-adbc-dff3c614e9a1",
   "metadata": {},
   "outputs": [
    {
     "name": "stdout",
     "output_type": "stream",
     "text": [
      "Precision:  0.7813638757965921\n"
     ]
    }
   ],
   "source": [
    "print('Precision: ', precision_score(y_test, y_pred, average='weighted'))"
   ]
  },
  {
   "cell_type": "markdown",
   "id": "f2d5c790-68af-49e7-b009-1620be7cbedf",
   "metadata": {},
   "source": [
    "## Testing "
   ]
  },
  {
   "cell_type": "code",
   "execution_count": 259,
   "id": "ed65d0d5-7c65-49bb-9afe-c18e1ecefa23",
   "metadata": {},
   "outputs": [],
   "source": [
    "cust2 ={'contract': 'One year',\n",
    " 'onlinesecurity': 'Yes',\n",
    " 'techsupport': 'No',\n",
    " 'internetservice': 'DSL',\n",
    " 'onlinebackup': 'No',\n",
    " 'tenure': 34,\n",
    " 'monthlycharges': 56.95,\n",
    " 'totalcharges': 1889.5}"
   ]
  },
  {
   "cell_type": "code",
   "execution_count": 260,
   "id": "f00112cf-e988-4017-ae19-36a399a4fb95",
   "metadata": {},
   "outputs": [
    {
     "data": {
      "text/html": [
       "<div>\n",
       "<style scoped>\n",
       "    .dataframe tbody tr th:only-of-type {\n",
       "        vertical-align: middle;\n",
       "    }\n",
       "\n",
       "    .dataframe tbody tr th {\n",
       "        vertical-align: top;\n",
       "    }\n",
       "\n",
       "    .dataframe thead th {\n",
       "        text-align: right;\n",
       "    }\n",
       "</style>\n",
       "<table border=\"1\" class=\"dataframe\">\n",
       "  <thead>\n",
       "    <tr style=\"text-align: right;\">\n",
       "      <th></th>\n",
       "      <th>contract</th>\n",
       "      <th>onlinesecurity</th>\n",
       "      <th>techsupport</th>\n",
       "      <th>internetservice</th>\n",
       "      <th>onlinebackup</th>\n",
       "      <th>tenure</th>\n",
       "      <th>monthlycharges</th>\n",
       "      <th>totalcharges</th>\n",
       "    </tr>\n",
       "  </thead>\n",
       "  <tbody>\n",
       "    <tr>\n",
       "      <th>0</th>\n",
       "      <td>One year</td>\n",
       "      <td>Yes</td>\n",
       "      <td>No</td>\n",
       "      <td>DSL</td>\n",
       "      <td>No</td>\n",
       "      <td>34</td>\n",
       "      <td>56.95</td>\n",
       "      <td>1889.5</td>\n",
       "    </tr>\n",
       "  </tbody>\n",
       "</table>\n",
       "</div>"
      ],
      "text/plain": [
       "   contract onlinesecurity techsupport internetservice onlinebackup  tenure  \\\n",
       "0  One year            Yes          No             DSL           No      34   \n",
       "\n",
       "   monthlycharges  totalcharges  \n",
       "0           56.95        1889.5  "
      ]
     },
     "execution_count": 260,
     "metadata": {},
     "output_type": "execute_result"
    }
   ],
   "source": [
    "pd.DataFrame(cust2, index=[0])"
   ]
  },
  {
   "cell_type": "code",
   "execution_count": 261,
   "id": "a5b49806-5096-4f98-89b6-398d2287482b",
   "metadata": {},
   "outputs": [
    {
     "name": "stdout",
     "output_type": "stream",
     "text": [
      "Not Churn\n"
     ]
    }
   ],
   "source": [
    "if model.predict(cust2)[0] == 0:\n",
    "    print('Not Churn')\n",
    "else:\n",
    "    print('Churn')"
   ]
  },
  {
   "cell_type": "code",
   "execution_count": 262,
   "id": "0a8db933-e388-481a-8d1d-ba90ef1772dd",
   "metadata": {},
   "outputs": [],
   "source": [
    "cust3 ={'contract': 'Month-to-month',\n",
    " 'onlinesecurity': 'Yes',\n",
    " 'techsupport': 'No',\n",
    " 'internetservice': 'DSL',\n",
    " 'onlinebackup': 'Yes',\n",
    " 'tenure': 2,\n",
    " 'monthlycharges': 53.85,\n",
    " 'totalcharges': 108.85}"
   ]
  },
  {
   "cell_type": "code",
   "execution_count": 263,
   "id": "3c6c6ab9-0f01-4e89-82fb-dfd563e9d9a4",
   "metadata": {},
   "outputs": [
    {
     "data": {
      "text/html": [
       "<div>\n",
       "<style scoped>\n",
       "    .dataframe tbody tr th:only-of-type {\n",
       "        vertical-align: middle;\n",
       "    }\n",
       "\n",
       "    .dataframe tbody tr th {\n",
       "        vertical-align: top;\n",
       "    }\n",
       "\n",
       "    .dataframe thead th {\n",
       "        text-align: right;\n",
       "    }\n",
       "</style>\n",
       "<table border=\"1\" class=\"dataframe\">\n",
       "  <thead>\n",
       "    <tr style=\"text-align: right;\">\n",
       "      <th></th>\n",
       "      <th>contract</th>\n",
       "      <th>onlinesecurity</th>\n",
       "      <th>techsupport</th>\n",
       "      <th>internetservice</th>\n",
       "      <th>onlinebackup</th>\n",
       "      <th>tenure</th>\n",
       "      <th>monthlycharges</th>\n",
       "      <th>totalcharges</th>\n",
       "    </tr>\n",
       "  </thead>\n",
       "  <tbody>\n",
       "    <tr>\n",
       "      <th>0</th>\n",
       "      <td>Month-to-month</td>\n",
       "      <td>Yes</td>\n",
       "      <td>No</td>\n",
       "      <td>DSL</td>\n",
       "      <td>Yes</td>\n",
       "      <td>2</td>\n",
       "      <td>53.85</td>\n",
       "      <td>108.85</td>\n",
       "    </tr>\n",
       "  </tbody>\n",
       "</table>\n",
       "</div>"
      ],
      "text/plain": [
       "         contract onlinesecurity techsupport internetservice onlinebackup  \\\n",
       "0  Month-to-month            Yes          No             DSL          Yes   \n",
       "\n",
       "   tenure  monthlycharges  totalcharges  \n",
       "0       2           53.85        108.85  "
      ]
     },
     "execution_count": 263,
     "metadata": {},
     "output_type": "execute_result"
    }
   ],
   "source": [
    "pd.DataFrame(cust3, index=[0])"
   ]
  },
  {
   "cell_type": "code",
   "execution_count": 266,
   "id": "b2014f41-28d7-4197-bcb4-c04423417cc4",
   "metadata": {},
   "outputs": [
    {
     "data": {
      "text/html": [
       "<div>\n",
       "<style scoped>\n",
       "    .dataframe tbody tr th:only-of-type {\n",
       "        vertical-align: middle;\n",
       "    }\n",
       "\n",
       "    .dataframe tbody tr th {\n",
       "        vertical-align: top;\n",
       "    }\n",
       "\n",
       "    .dataframe thead th {\n",
       "        text-align: right;\n",
       "    }\n",
       "</style>\n",
       "<table border=\"1\" class=\"dataframe\">\n",
       "  <thead>\n",
       "    <tr style=\"text-align: right;\">\n",
       "      <th></th>\n",
       "      <th>contract</th>\n",
       "      <th>onlinesecurity</th>\n",
       "      <th>techsupport</th>\n",
       "      <th>internetservice</th>\n",
       "      <th>onlinebackup</th>\n",
       "      <th>tenure</th>\n",
       "      <th>monthlycharges</th>\n",
       "      <th>totalcharges</th>\n",
       "    </tr>\n",
       "  </thead>\n",
       "  <tbody>\n",
       "    <tr>\n",
       "      <th>0</th>\n",
       "      <td>Month-to-month</td>\n",
       "      <td>Yes</td>\n",
       "      <td>No</td>\n",
       "      <td>DSL</td>\n",
       "      <td>Yes</td>\n",
       "      <td>2</td>\n",
       "      <td>53.85</td>\n",
       "      <td>108.85</td>\n",
       "    </tr>\n",
       "  </tbody>\n",
       "</table>\n",
       "</div>"
      ],
      "text/plain": [
       "         contract onlinesecurity techsupport internetservice onlinebackup  \\\n",
       "0  Month-to-month            Yes          No             DSL          Yes   \n",
       "\n",
       "   tenure  monthlycharges  totalcharges  \n",
       "0       2           53.85        108.85  "
      ]
     },
     "execution_count": 266,
     "metadata": {},
     "output_type": "execute_result"
    }
   ],
   "source": [
    "pd.DataFrame(cust3, index=[0])"
   ]
  },
  {
   "cell_type": "code",
   "execution_count": 267,
   "id": "befc128b-d216-4934-81e4-729e754f2222",
   "metadata": {},
   "outputs": [],
   "source": [
    "cust3 = trans.transform(pd.DataFrame(cust3, index=[0]))"
   ]
  },
  {
   "cell_type": "code",
   "execution_count": 268,
   "id": "0ddf5219-b345-44bc-a0f9-b307eedcd36e",
   "metadata": {},
   "outputs": [
    {
     "data": {
      "text/plain": [
       "array([[-1.22176983, -0.34775333, -0.94815735,  0.        ,  0.        ,\n",
       "         0.        ,  1.        ,  0.        ,  0.        ,  0.        ,\n",
       "         0.        ,  0.        ,  1.        ]])"
      ]
     },
     "execution_count": 268,
     "metadata": {},
     "output_type": "execute_result"
    }
   ],
   "source": [
    "cust3"
   ]
  },
  {
   "cell_type": "code",
   "execution_count": 269,
   "id": "4b8b01ad-3b3a-46ee-ab19-3b84e953dc19",
   "metadata": {},
   "outputs": [
    {
     "data": {
      "text/plain": [
       "0.0"
      ]
     },
     "execution_count": 269,
     "metadata": {},
     "output_type": "execute_result"
    }
   ],
   "source": [
    "model.predict(cust3)[0]"
   ]
  },
  {
   "cell_type": "code",
   "execution_count": 270,
   "id": "484d9a6f-a68f-4635-9b5a-124e17da56bc",
   "metadata": {},
   "outputs": [
    {
     "name": "stdout",
     "output_type": "stream",
     "text": [
      "Not Churn\n"
     ]
    }
   ],
   "source": [
    "if model.predict(cust3)[0] == 0:\n",
    "    print('Not Churn')\n",
    "else:\n",
    "    print('Churn')"
   ]
  },
  {
   "cell_type": "code",
   "execution_count": 271,
   "id": "6b5d26b4-4466-40a0-b26c-5a82a1fbff55",
   "metadata": {},
   "outputs": [],
   "source": [
    "cust4 ={'contract': 'Month-to-month',\n",
    " 'onlinesecurity': 'No',\n",
    " 'techsupport': 'No',\n",
    " 'internetservice': 'Fiber optic',\n",
    " 'onlinebackup': 'No',\n",
    " 'tenure': 2,\n",
    " 'monthlycharges': 70.7,\n",
    " 'totalcharges': 151.65}"
   ]
  },
  {
   "cell_type": "code",
   "execution_count": 272,
   "id": "22d53715-f285-43b3-b940-7547ae5854cc",
   "metadata": {},
   "outputs": [
    {
     "data": {
      "text/html": [
       "<div>\n",
       "<style scoped>\n",
       "    .dataframe tbody tr th:only-of-type {\n",
       "        vertical-align: middle;\n",
       "    }\n",
       "\n",
       "    .dataframe tbody tr th {\n",
       "        vertical-align: top;\n",
       "    }\n",
       "\n",
       "    .dataframe thead th {\n",
       "        text-align: right;\n",
       "    }\n",
       "</style>\n",
       "<table border=\"1\" class=\"dataframe\">\n",
       "  <thead>\n",
       "    <tr style=\"text-align: right;\">\n",
       "      <th></th>\n",
       "      <th>contract</th>\n",
       "      <th>onlinesecurity</th>\n",
       "      <th>techsupport</th>\n",
       "      <th>internetservice</th>\n",
       "      <th>onlinebackup</th>\n",
       "      <th>tenure</th>\n",
       "      <th>monthlycharges</th>\n",
       "      <th>totalcharges</th>\n",
       "    </tr>\n",
       "  </thead>\n",
       "  <tbody>\n",
       "    <tr>\n",
       "      <th>0</th>\n",
       "      <td>Month-to-month</td>\n",
       "      <td>No</td>\n",
       "      <td>No</td>\n",
       "      <td>Fiber optic</td>\n",
       "      <td>No</td>\n",
       "      <td>2</td>\n",
       "      <td>70.7</td>\n",
       "      <td>151.65</td>\n",
       "    </tr>\n",
       "  </tbody>\n",
       "</table>\n",
       "</div>"
      ],
      "text/plain": [
       "         contract onlinesecurity techsupport internetservice onlinebackup  \\\n",
       "0  Month-to-month             No          No     Fiber optic           No   \n",
       "\n",
       "   tenure  monthlycharges  totalcharges  \n",
       "0       2            70.7        151.65  "
      ]
     },
     "execution_count": 272,
     "metadata": {},
     "output_type": "execute_result"
    }
   ],
   "source": [
    "pd.DataFrame(cust4, index=[0])"
   ]
  },
  {
   "cell_type": "code",
   "execution_count": 273,
   "id": "5688f24a-a5b1-4358-ae1e-c873c0400b9a",
   "metadata": {},
   "outputs": [],
   "source": [
    "cust4 = trans.transform(pd.DataFrame(cust4, index=[0]))"
   ]
  },
  {
   "cell_type": "code",
   "execution_count": 274,
   "id": "8a69e63b-a5db-424d-97bf-1bd3a5db3d22",
   "metadata": {},
   "outputs": [
    {
     "data": {
      "text/plain": [
       "array([[-1.22176983,  0.21230625, -0.92911023,  0.        ,  0.        ,\n",
       "         0.        ,  0.        ,  0.        ,  0.        ,  1.        ,\n",
       "         0.        ,  0.        ,  0.        ]])"
      ]
     },
     "execution_count": 274,
     "metadata": {},
     "output_type": "execute_result"
    }
   ],
   "source": [
    "cust4"
   ]
  },
  {
   "cell_type": "code",
   "execution_count": 275,
   "id": "426f02f7-40d7-4ca0-b107-ddafbd0753b0",
   "metadata": {},
   "outputs": [
    {
     "data": {
      "text/plain": [
       "1.0"
      ]
     },
     "execution_count": 275,
     "metadata": {},
     "output_type": "execute_result"
    }
   ],
   "source": [
    "model.predict(cust4)[0]"
   ]
  },
  {
   "cell_type": "code",
   "execution_count": null,
   "id": "40623544",
   "metadata": {},
   "outputs": [],
   "source": []
  },
  {
   "cell_type": "code",
   "execution_count": 276,
   "id": "e356f786-5531-4915-8384-1fa70746a55e",
   "metadata": {},
   "outputs": [
    {
     "name": "stdout",
     "output_type": "stream",
     "text": [
      "Churn\n"
     ]
    }
   ],
   "source": [
    "if model.predict(cust4)[0] == 0:\n",
    "    print('Not Churn')\n",
    "else:\n",
    "    print('Churn')"
   ]
  },
  {
   "cell_type": "code",
   "execution_count": null,
   "id": "ab784718-eb08-414e-aa58-98435a022888",
   "metadata": {},
   "outputs": [],
   "source": []
  }
 ],
 "metadata": {
  "kernelspec": {
   "display_name": "Python 3 (ipykernel)",
   "language": "python",
   "name": "python3"
  },
  "language_info": {
   "codemirror_mode": {
    "name": "ipython",
    "version": 3
   },
   "file_extension": ".py",
   "mimetype": "text/x-python",
   "name": "python",
   "nbconvert_exporter": "python",
   "pygments_lexer": "ipython3",
   "version": "3.11.3"
  }
 },
 "nbformat": 4,
 "nbformat_minor": 5
}
